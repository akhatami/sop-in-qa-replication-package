{
 "cells": [
  {
   "cell_type": "code",
   "execution_count": 50,
   "metadata": {},
   "outputs": [],
   "source": [
    "import pandas as pd\n",
    "import numpy as np\n",
    "import matplotlib.pyplot as plt\n",
    "%matplotlib inline\n",
    "import seaborn as sns\n",
    "import matplotlib.patches as mpatches\n",
    "import scipy.stats as stats"
   ]
  },
  {
   "cell_type": "code",
   "execution_count": 2,
   "metadata": {},
   "outputs": [
    {
     "data": {
      "text/html": [
       "<div>\n",
       "<style scoped>\n",
       "    .dataframe tbody tr th:only-of-type {\n",
       "        vertical-align: middle;\n",
       "    }\n",
       "\n",
       "    .dataframe tbody tr th {\n",
       "        vertical-align: top;\n",
       "    }\n",
       "\n",
       "    .dataframe thead th {\n",
       "        text-align: right;\n",
       "    }\n",
       "</style>\n",
       "<table border=\"1\" class=\"dataframe\">\n",
       "  <thead>\n",
       "    <tr style=\"text-align: right;\">\n",
       "      <th></th>\n",
       "      <th>Name</th>\n",
       "      <th>Is Fork</th>\n",
       "      <th>Commits</th>\n",
       "      <th>Branches</th>\n",
       "      <th>Default Branch</th>\n",
       "      <th>Releases</th>\n",
       "      <th>Contributors</th>\n",
       "      <th>License</th>\n",
       "      <th>Watchers</th>\n",
       "      <th>Stargazers</th>\n",
       "      <th>...</th>\n",
       "      <th>Total Issues</th>\n",
       "      <th>Open Issues</th>\n",
       "      <th>Total Pull Requests</th>\n",
       "      <th>Open Pull Requests</th>\n",
       "      <th>Last Commit</th>\n",
       "      <th>Last Commit SHA</th>\n",
       "      <th>Has Wiki</th>\n",
       "      <th>Is Archived</th>\n",
       "      <th>Languages</th>\n",
       "      <th>Labels</th>\n",
       "    </tr>\n",
       "  </thead>\n",
       "  <tbody>\n",
       "    <tr>\n",
       "      <th>0</th>\n",
       "      <td>1c-syntax/bsl-language-server</td>\n",
       "      <td>False</td>\n",
       "      <td>5114</td>\n",
       "      <td>25</td>\n",
       "      <td>develop</td>\n",
       "      <td>52</td>\n",
       "      <td>40</td>\n",
       "      <td>Other</td>\n",
       "      <td>19</td>\n",
       "      <td>192</td>\n",
       "      <td>...</td>\n",
       "      <td>883</td>\n",
       "      <td>312</td>\n",
       "      <td>1010</td>\n",
       "      <td>17</td>\n",
       "      <td>2021-11-03 13:43:57.0</td>\n",
       "      <td>e6da12a6eff3fdeeaa067475eeb9c941c182d449</td>\n",
       "      <td>False</td>\n",
       "      <td>False</td>\n",
       "      <td>Java,1C Enterprise,Kotlin,Python,Shell</td>\n",
       "      <td>component/cli,component/codeAction,component/c...</td>\n",
       "    </tr>\n",
       "    <tr>\n",
       "      <th>1</th>\n",
       "      <td>abhpd/hacktoberfest2021</td>\n",
       "      <td>False</td>\n",
       "      <td>266</td>\n",
       "      <td>7</td>\n",
       "      <td>main</td>\n",
       "      <td>0</td>\n",
       "      <td>77</td>\n",
       "      <td>MIT License</td>\n",
       "      <td>5</td>\n",
       "      <td>541</td>\n",
       "      <td>...</td>\n",
       "      <td>47</td>\n",
       "      <td>11</td>\n",
       "      <td>2030</td>\n",
       "      <td>1578</td>\n",
       "      <td>2021-10-20 09:11:43.0</td>\n",
       "      <td>aabc74a0ee975ebe3ecb6d6bfbadafa64207959b</td>\n",
       "      <td>True</td>\n",
       "      <td>False</td>\n",
       "      <td>Java,C++,C,Python,JavaScript,C#,CSS,HTML,Go</td>\n",
       "      <td>bug,changes-needed,documentation,duplicate,enh...</td>\n",
       "    </tr>\n",
       "    <tr>\n",
       "      <th>2</th>\n",
       "      <td>actiontech/dble</td>\n",
       "      <td>False</td>\n",
       "      <td>3352</td>\n",
       "      <td>53</td>\n",
       "      <td>master</td>\n",
       "      <td>43</td>\n",
       "      <td>27</td>\n",
       "      <td>GNU General Public License v2.0</td>\n",
       "      <td>76</td>\n",
       "      <td>860</td>\n",
       "      <td>...</td>\n",
       "      <td>1155</td>\n",
       "      <td>73</td>\n",
       "      <td>1757</td>\n",
       "      <td>2</td>\n",
       "      <td>2021-11-05 08:07:21.0</td>\n",
       "      <td>13b5db4897bf8b96014a8b7f231b6949c878dedc</td>\n",
       "      <td>False</td>\n",
       "      <td>False</td>\n",
       "      <td>Java,Shell,Python,Dockerfile,Makefile,Batchfile</td>\n",
       "      <td>accidental_bug,Aggregate function,autotest-add...</td>\n",
       "    </tr>\n",
       "    <tr>\n",
       "      <th>3</th>\n",
       "      <td>activiti/activiti</td>\n",
       "      <td>False</td>\n",
       "      <td>10768</td>\n",
       "      <td>33</td>\n",
       "      <td>develop</td>\n",
       "      <td>28</td>\n",
       "      <td>195</td>\n",
       "      <td>Apache License 2.0</td>\n",
       "      <td>647</td>\n",
       "      <td>8143</td>\n",
       "      <td>...</td>\n",
       "      <td>1921</td>\n",
       "      <td>376</td>\n",
       "      <td>1826</td>\n",
       "      <td>44</td>\n",
       "      <td>2021-11-02 12:25:32.0</td>\n",
       "      <td>407f917f216c03580cf99757c5eeab0d946bf5f2</td>\n",
       "      <td>True</td>\n",
       "      <td>False</td>\n",
       "      <td>Java,HTML,SQLPL</td>\n",
       "      <td>api,api-events,automation,blocked,blocking,BPM...</td>\n",
       "    </tr>\n",
       "    <tr>\n",
       "      <th>4</th>\n",
       "      <td>adeekshith/watomatic</td>\n",
       "      <td>False</td>\n",
       "      <td>1382</td>\n",
       "      <td>10</td>\n",
       "      <td>main</td>\n",
       "      <td>23</td>\n",
       "      <td>15</td>\n",
       "      <td>GNU General Public License v3.0</td>\n",
       "      <td>10</td>\n",
       "      <td>218</td>\n",
       "      <td>...</td>\n",
       "      <td>126</td>\n",
       "      <td>50</td>\n",
       "      <td>244</td>\n",
       "      <td>2</td>\n",
       "      <td>2021-10-12 02:22:59.0</td>\n",
       "      <td>d6c1d1f9ca4d741786c08ff3f9d96b6993b38475</td>\n",
       "      <td>True</td>\n",
       "      <td>False</td>\n",
       "      <td>Java,Kotlin</td>\n",
       "      <td>bug,documentation,duplicate,enhancement,good f...</td>\n",
       "    </tr>\n",
       "  </tbody>\n",
       "</table>\n",
       "<p>5 rows × 27 columns</p>\n",
       "</div>"
      ],
      "text/plain": [
       "                            Name  Is Fork  Commits  Branches Default Branch  \\\n",
       "0  1c-syntax/bsl-language-server    False     5114        25        develop   \n",
       "1        abhpd/hacktoberfest2021    False      266         7           main   \n",
       "2                actiontech/dble    False     3352        53         master   \n",
       "3              activiti/activiti    False    10768        33        develop   \n",
       "4           adeekshith/watomatic    False     1382        10           main   \n",
       "\n",
       "   Releases  Contributors                          License  Watchers  \\\n",
       "0        52            40                            Other        19   \n",
       "1         0            77                      MIT License         5   \n",
       "2        43            27  GNU General Public License v2.0        76   \n",
       "3        28           195               Apache License 2.0       647   \n",
       "4        23            15  GNU General Public License v3.0        10   \n",
       "\n",
       "   Stargazers  ...  Total Issues  Open Issues Total Pull Requests  \\\n",
       "0         192  ...           883          312                1010   \n",
       "1         541  ...            47           11                2030   \n",
       "2         860  ...          1155           73                1757   \n",
       "3        8143  ...          1921          376                1826   \n",
       "4         218  ...           126           50                 244   \n",
       "\n",
       "  Open Pull Requests            Last Commit  \\\n",
       "0                 17  2021-11-03 13:43:57.0   \n",
       "1               1578  2021-10-20 09:11:43.0   \n",
       "2                  2  2021-11-05 08:07:21.0   \n",
       "3                 44  2021-11-02 12:25:32.0   \n",
       "4                  2  2021-10-12 02:22:59.0   \n",
       "\n",
       "                            Last Commit SHA Has Wiki  Is Archived  \\\n",
       "0  e6da12a6eff3fdeeaa067475eeb9c941c182d449    False        False   \n",
       "1  aabc74a0ee975ebe3ecb6d6bfbadafa64207959b     True        False   \n",
       "2  13b5db4897bf8b96014a8b7f231b6949c878dedc    False        False   \n",
       "3  407f917f216c03580cf99757c5eeab0d946bf5f2     True        False   \n",
       "4  d6c1d1f9ca4d741786c08ff3f9d96b6993b38475     True        False   \n",
       "\n",
       "                                         Languages  \\\n",
       "0           Java,1C Enterprise,Kotlin,Python,Shell   \n",
       "1      Java,C++,C,Python,JavaScript,C#,CSS,HTML,Go   \n",
       "2  Java,Shell,Python,Dockerfile,Makefile,Batchfile   \n",
       "3                                  Java,HTML,SQLPL   \n",
       "4                                      Java,Kotlin   \n",
       "\n",
       "                                              Labels  \n",
       "0  component/cli,component/codeAction,component/c...  \n",
       "1  bug,changes-needed,documentation,duplicate,enh...  \n",
       "2  accidental_bug,Aggregate function,autotest-add...  \n",
       "3  api,api-events,automation,blocked,blocking,BPM...  \n",
       "4  bug,documentation,duplicate,enhancement,good f...  \n",
       "\n",
       "[5 rows x 27 columns]"
      ]
     },
     "execution_count": 2,
     "metadata": {},
     "output_type": "execute_result"
    }
   ],
   "source": [
    "df_all = pd.read_csv('../data/selected_projects.csv')\n",
    "df_all.head()"
   ]
  },
  {
   "cell_type": "code",
   "execution_count": 3,
   "metadata": {},
   "outputs": [
    {
     "data": {
      "text/plain": [
       "Index(['Name', 'Is Fork', 'Commits', 'Branches', 'Default Branch', 'Releases',\n",
       "       'Contributors', 'License', 'Watchers', 'Stargazers', 'Forks', 'Size',\n",
       "       'Created At', 'Pushed At', 'Updated At', 'Homepage', 'Main Language',\n",
       "       'Total Issues', 'Open Issues', 'Total Pull Requests',\n",
       "       'Open Pull Requests', 'Last Commit', 'Last Commit SHA', 'Has Wiki',\n",
       "       'Is Archived', 'Languages', 'Labels'],\n",
       "      dtype='object')"
      ]
     },
     "execution_count": 3,
     "metadata": {},
     "output_type": "execute_result"
    }
   ],
   "source": [
    "df_all.columns"
   ]
  },
  {
   "cell_type": "code",
   "execution_count": 4,
   "metadata": {},
   "outputs": [
    {
     "name": "stderr",
     "output_type": "stream",
     "text": [
      "/Users/alikhatami/Projects/TestShift/State of The Practice in QA in OSS/sop-in-qa-replication-package/rep-venv/lib/python3.8/site-packages/seaborn/distributions.py:2619: FutureWarning: `distplot` is a deprecated function and will be removed in a future version. Please adapt your code to use either `displot` (a figure-level function with similar flexibility) or `histplot` (an axes-level function for histograms).\n",
      "  warnings.warn(msg, FutureWarning)\n"
     ]
    },
    {
     "data": {
      "image/png": "[encoded data removed]",
      "text/plain": [
       "<Figure size 640x480 with 1 Axes>"
      ]
     },
     "metadata": {},
     "output_type": "display_data"
    }
   ],
   "source": [
    "ax = sns.distplot(df_all['Commits'], bins=50)"
   ]
  },
  {
   "cell_type": "code",
   "execution_count": 5,
   "metadata": {},
   "outputs": [
    {
     "name": "stderr",
     "output_type": "stream",
     "text": [
      "/Users/alikhatami/Projects/TestShift/State of The Practice in QA in OSS/sop-in-qa-replication-package/rep-venv/lib/python3.8/site-packages/seaborn/distributions.py:2619: FutureWarning: `distplot` is a deprecated function and will be removed in a future version. Please adapt your code to use either `displot` (a figure-level function with similar flexibility) or `histplot` (an axes-level function for histograms).\n",
      "  warnings.warn(msg, FutureWarning)\n"
     ]
    },
    {
     "data": {
      "image/png": "[encoded data removed]",
      "text/plain": [
       "<Figure size 640x480 with 1 Axes>"
      ]
     },
     "metadata": {},
     "output_type": "display_data"
    }
   ],
   "source": [
    "ax = sns.distplot(df_all['Total Pull Requests'], bins=50)"
   ]
  },
  {
   "cell_type": "code",
   "execution_count": 6,
   "metadata": {},
   "outputs": [
    {
     "name": "stderr",
     "output_type": "stream",
     "text": [
      "/Users/alikhatami/Projects/TestShift/State of The Practice in QA in OSS/sop-in-qa-replication-package/rep-venv/lib/python3.8/site-packages/seaborn/distributions.py:2619: FutureWarning: `distplot` is a deprecated function and will be removed in a future version. Please adapt your code to use either `displot` (a figure-level function with similar flexibility) or `histplot` (an axes-level function for histograms).\n",
      "  warnings.warn(msg, FutureWarning)\n"
     ]
    },
    {
     "data": {
      "image/png": "[encoded data removed]",
      "text/plain": [
       "<Figure size 640x480 with 1 Axes>"
      ]
     },
     "metadata": {},
     "output_type": "display_data"
    }
   ],
   "source": [
    "ax = sns.distplot(df_all['Forks'], bins=50)"
   ]
  },
  {
   "cell_type": "code",
   "execution_count": 7,
   "metadata": {},
   "outputs": [
    {
     "name": "stderr",
     "output_type": "stream",
     "text": [
      "/Users/alikhatami/Projects/TestShift/State of The Practice in QA in OSS/sop-in-qa-replication-package/rep-venv/lib/python3.8/site-packages/seaborn/distributions.py:2619: FutureWarning: `distplot` is a deprecated function and will be removed in a future version. Please adapt your code to use either `displot` (a figure-level function with similar flexibility) or `histplot` (an axes-level function for histograms).\n",
      "  warnings.warn(msg, FutureWarning)\n"
     ]
    },
    {
     "data": {
      "image/png": "[encoded data removed]",
      "text/plain": [
       "<Figure size 640x480 with 1 Axes>"
      ]
     },
     "metadata": {},
     "output_type": "display_data"
    }
   ],
   "source": [
    "ax = sns.distplot(df_all['Contributors'], bins=50)"
   ]
  },
  {
   "cell_type": "code",
   "execution_count": 8,
   "metadata": {},
   "outputs": [
    {
     "name": "stderr",
     "output_type": "stream",
     "text": [
      "/Users/alikhatami/Projects/TestShift/State of The Practice in QA in OSS/sop-in-qa-replication-package/rep-venv/lib/python3.8/site-packages/seaborn/distributions.py:2619: FutureWarning: `distplot` is a deprecated function and will be removed in a future version. Please adapt your code to use either `displot` (a figure-level function with similar flexibility) or `histplot` (an axes-level function for histograms).\n",
      "  warnings.warn(msg, FutureWarning)\n"
     ]
    },
    {
     "data": {
      "image/png": "[encoded data removed]",
      "text/plain": [
       "<Figure size 640x480 with 1 Axes>"
      ]
     },
     "metadata": {},
     "output_type": "display_data"
    }
   ],
   "source": [
    "ax = sns.distplot(df_all['Stargazers'])"
   ]
  },
  {
   "cell_type": "code",
   "execution_count": 9,
   "metadata": {},
   "outputs": [
    {
     "name": "stderr",
     "output_type": "stream",
     "text": [
      "/Users/alikhatami/Projects/TestShift/State of The Practice in QA in OSS/sop-in-qa-replication-package/rep-venv/lib/python3.8/site-packages/seaborn/distributions.py:2619: FutureWarning: `distplot` is a deprecated function and will be removed in a future version. Please adapt your code to use either `displot` (a figure-level function with similar flexibility) or `histplot` (an axes-level function for histograms).\n",
      "  warnings.warn(msg, FutureWarning)\n"
     ]
    },
    {
     "data": {
      "image/png": "[encoded data removed]",
      "text/plain": [
       "<Figure size 640x480 with 1 Axes>"
      ]
     },
     "metadata": {},
     "output_type": "display_data"
    }
   ],
   "source": [
    "ax = sns.distplot(df_all['Watchers'])"
   ]
  },
  {
   "cell_type": "code",
   "execution_count": 10,
   "metadata": {},
   "outputs": [
    {
     "name": "stderr",
     "output_type": "stream",
     "text": [
      "/Users/alikhatami/Projects/TestShift/State of The Practice in QA in OSS/sop-in-qa-replication-package/rep-venv/lib/python3.8/site-packages/seaborn/distributions.py:2619: FutureWarning: `distplot` is a deprecated function and will be removed in a future version. Please adapt your code to use either `displot` (a figure-level function with similar flexibility) or `histplot` (an axes-level function for histograms).\n",
      "  warnings.warn(msg, FutureWarning)\n"
     ]
    },
    {
     "data": {
      "image/png": "[encoded data removed]",
      "text/plain": [
       "<Figure size 640x480 with 1 Axes>"
      ]
     },
     "metadata": {},
     "output_type": "display_data"
    }
   ],
   "source": [
    "ax = sns.distplot(df_all['Total Issues'])"
   ]
  },
  {
   "cell_type": "code",
   "execution_count": 11,
   "metadata": {},
   "outputs": [
    {
     "name": "stdout",
     "output_type": "stream",
     "text": [
      "554.0\n",
      "415.0\n"
     ]
    }
   ],
   "source": [
    "print(np.median(df_all['Total Pull Requests']))\n",
    "print(np.median(df_all['Total Issues']))"
   ]
  },
  {
   "cell_type": "code",
   "execution_count": 12,
   "metadata": {},
   "outputs": [],
   "source": [
    "new_df = df_all[['Name', 'Commits', 'Total Pull Requests', 'Total Issues', 'Contributors', 'Forks', 'Stargazers', 'Watchers']]"
   ]
  },
  {
   "cell_type": "code",
   "execution_count": 13,
   "metadata": {},
   "outputs": [
    {
     "data": {
      "text/html": [
       "<div>\n",
       "<style scoped>\n",
       "    .dataframe tbody tr th:only-of-type {\n",
       "        vertical-align: middle;\n",
       "    }\n",
       "\n",
       "    .dataframe tbody tr th {\n",
       "        vertical-align: top;\n",
       "    }\n",
       "\n",
       "    .dataframe thead th {\n",
       "        text-align: right;\n",
       "    }\n",
       "</style>\n",
       "<table border=\"1\" class=\"dataframe\">\n",
       "  <thead>\n",
       "    <tr style=\"text-align: right;\">\n",
       "      <th></th>\n",
       "      <th>Name</th>\n",
       "      <th>Commits</th>\n",
       "      <th>Total Pull Requests</th>\n",
       "      <th>Total Issues</th>\n",
       "      <th>Contributors</th>\n",
       "      <th>Forks</th>\n",
       "      <th>Stargazers</th>\n",
       "      <th>Watchers</th>\n",
       "    </tr>\n",
       "  </thead>\n",
       "  <tbody>\n",
       "    <tr>\n",
       "      <th>0</th>\n",
       "      <td>1c-syntax/bsl-language-server</td>\n",
       "      <td>5114</td>\n",
       "      <td>1010</td>\n",
       "      <td>883</td>\n",
       "      <td>40</td>\n",
       "      <td>82</td>\n",
       "      <td>192</td>\n",
       "      <td>19</td>\n",
       "    </tr>\n",
       "    <tr>\n",
       "      <th>1</th>\n",
       "      <td>abhpd/hacktoberfest2021</td>\n",
       "      <td>266</td>\n",
       "      <td>2030</td>\n",
       "      <td>47</td>\n",
       "      <td>77</td>\n",
       "      <td>1823</td>\n",
       "      <td>541</td>\n",
       "      <td>5</td>\n",
       "    </tr>\n",
       "    <tr>\n",
       "      <th>2</th>\n",
       "      <td>actiontech/dble</td>\n",
       "      <td>3352</td>\n",
       "      <td>1757</td>\n",
       "      <td>1155</td>\n",
       "      <td>27</td>\n",
       "      <td>287</td>\n",
       "      <td>860</td>\n",
       "      <td>76</td>\n",
       "    </tr>\n",
       "    <tr>\n",
       "      <th>3</th>\n",
       "      <td>activiti/activiti</td>\n",
       "      <td>10768</td>\n",
       "      <td>1826</td>\n",
       "      <td>1921</td>\n",
       "      <td>195</td>\n",
       "      <td>6540</td>\n",
       "      <td>8143</td>\n",
       "      <td>647</td>\n",
       "    </tr>\n",
       "    <tr>\n",
       "      <th>4</th>\n",
       "      <td>adeekshith/watomatic</td>\n",
       "      <td>1382</td>\n",
       "      <td>244</td>\n",
       "      <td>126</td>\n",
       "      <td>15</td>\n",
       "      <td>36</td>\n",
       "      <td>218</td>\n",
       "      <td>10</td>\n",
       "    </tr>\n",
       "  </tbody>\n",
       "</table>\n",
       "</div>"
      ],
      "text/plain": [
       "                            Name  Commits  Total Pull Requests  Total Issues  \\\n",
       "0  1c-syntax/bsl-language-server     5114                 1010           883   \n",
       "1        abhpd/hacktoberfest2021      266                 2030            47   \n",
       "2                actiontech/dble     3352                 1757          1155   \n",
       "3              activiti/activiti    10768                 1826          1921   \n",
       "4           adeekshith/watomatic     1382                  244           126   \n",
       "\n",
       "   Contributors  Forks  Stargazers  Watchers  \n",
       "0            40     82         192        19  \n",
       "1            77   1823         541         5  \n",
       "2            27    287         860        76  \n",
       "3           195   6540        8143       647  \n",
       "4            15     36         218        10  "
      ]
     },
     "execution_count": 13,
     "metadata": {},
     "output_type": "execute_result"
    }
   ],
   "source": [
    "new_df.head()"
   ]
  },
  {
   "cell_type": "code",
   "execution_count": 14,
   "metadata": {},
   "outputs": [],
   "source": [
    "new_df = new_df.rename(str.lower, axis='columns')"
   ]
  },
  {
   "cell_type": "code",
   "execution_count": 15,
   "metadata": {},
   "outputs": [
    {
     "data": {
      "text/html": [
       "<div>\n",
       "<style scoped>\n",
       "    .dataframe tbody tr th:only-of-type {\n",
       "        vertical-align: middle;\n",
       "    }\n",
       "\n",
       "    .dataframe tbody tr th {\n",
       "        vertical-align: top;\n",
       "    }\n",
       "\n",
       "    .dataframe thead th {\n",
       "        text-align: right;\n",
       "    }\n",
       "</style>\n",
       "<table border=\"1\" class=\"dataframe\">\n",
       "  <thead>\n",
       "    <tr style=\"text-align: right;\">\n",
       "      <th></th>\n",
       "      <th>name</th>\n",
       "      <th>commits</th>\n",
       "      <th>total_pr</th>\n",
       "      <th>total_issues</th>\n",
       "      <th>contributors</th>\n",
       "      <th>forks</th>\n",
       "      <th>stargazers</th>\n",
       "      <th>watchers</th>\n",
       "    </tr>\n",
       "  </thead>\n",
       "  <tbody>\n",
       "    <tr>\n",
       "      <th>0</th>\n",
       "      <td>1c-syntax/bsl-language-server</td>\n",
       "      <td>5114</td>\n",
       "      <td>1010</td>\n",
       "      <td>883</td>\n",
       "      <td>40</td>\n",
       "      <td>82</td>\n",
       "      <td>192</td>\n",
       "      <td>19</td>\n",
       "    </tr>\n",
       "    <tr>\n",
       "      <th>1</th>\n",
       "      <td>abhpd/hacktoberfest2021</td>\n",
       "      <td>266</td>\n",
       "      <td>2030</td>\n",
       "      <td>47</td>\n",
       "      <td>77</td>\n",
       "      <td>1823</td>\n",
       "      <td>541</td>\n",
       "      <td>5</td>\n",
       "    </tr>\n",
       "    <tr>\n",
       "      <th>2</th>\n",
       "      <td>actiontech/dble</td>\n",
       "      <td>3352</td>\n",
       "      <td>1757</td>\n",
       "      <td>1155</td>\n",
       "      <td>27</td>\n",
       "      <td>287</td>\n",
       "      <td>860</td>\n",
       "      <td>76</td>\n",
       "    </tr>\n",
       "    <tr>\n",
       "      <th>3</th>\n",
       "      <td>activiti/activiti</td>\n",
       "      <td>10768</td>\n",
       "      <td>1826</td>\n",
       "      <td>1921</td>\n",
       "      <td>195</td>\n",
       "      <td>6540</td>\n",
       "      <td>8143</td>\n",
       "      <td>647</td>\n",
       "    </tr>\n",
       "    <tr>\n",
       "      <th>4</th>\n",
       "      <td>adeekshith/watomatic</td>\n",
       "      <td>1382</td>\n",
       "      <td>244</td>\n",
       "      <td>126</td>\n",
       "      <td>15</td>\n",
       "      <td>36</td>\n",
       "      <td>218</td>\n",
       "      <td>10</td>\n",
       "    </tr>\n",
       "  </tbody>\n",
       "</table>\n",
       "</div>"
      ],
      "text/plain": [
       "                            name  commits  total_pr  total_issues  \\\n",
       "0  1c-syntax/bsl-language-server     5114      1010           883   \n",
       "1        abhpd/hacktoberfest2021      266      2030            47   \n",
       "2                actiontech/dble     3352      1757          1155   \n",
       "3              activiti/activiti    10768      1826          1921   \n",
       "4           adeekshith/watomatic     1382       244           126   \n",
       "\n",
       "   contributors  forks  stargazers  watchers  \n",
       "0            40     82         192        19  \n",
       "1            77   1823         541         5  \n",
       "2            27    287         860        76  \n",
       "3           195   6540        8143       647  \n",
       "4            15     36         218        10  "
      ]
     },
     "execution_count": 15,
     "metadata": {},
     "output_type": "execute_result"
    }
   ],
   "source": [
    "new_df = new_df.rename({\"total pull requests\": \"total_pr\", \"total issues\":\"total_issues\"}, axis='columns')\n",
    "new_df.head()"
   ]
  },
  {
   "cell_type": "code",
   "execution_count": 16,
   "metadata": {},
   "outputs": [
    {
     "name": "stdout",
     "output_type": "stream",
     "text": [
      "13590.400000000001\n",
      "2929.5\n",
      "2445.1000000000013\n",
      "189.0\n",
      "1921.2000000000007\n",
      "5986.400000000005\n",
      "359.70000000000005\n"
     ]
    }
   ],
   "source": [
    "print(new_df.commits.quantile(.9))\n",
    "print(new_df.total_pr.quantile(.9))\n",
    "print(new_df.total_issues.quantile(.9))\n",
    "print(new_df.contributors.quantile(.9))\n",
    "print(new_df.forks.quantile(.9))\n",
    "print(new_df.stargazers.quantile(.9))\n",
    "print(new_df.watchers.quantile(.9))"
   ]
  },
  {
   "cell_type": "code",
   "execution_count": 17,
   "metadata": {},
   "outputs": [],
   "source": [
    "new_df['commits'] = new_df['commits'].apply(lambda x: 1 if x > 13590 else 0)"
   ]
  },
  {
   "cell_type": "code",
   "execution_count": 18,
   "metadata": {},
   "outputs": [],
   "source": [
    "new_df['total_pr'] = new_df['total_pr'].apply(lambda x: 1 if x > 2929 else 0)\n",
    "new_df['total_issues'] = new_df['total_issues'].apply(lambda x: 1 if x > 2445 else 0)\n",
    "new_df['contributors'] = new_df['contributors'].apply(lambda x: 1 if x > 188 else 0)\n",
    "new_df['forks'] = new_df['forks'].apply(lambda x: 1 if x > 1921 else 0)\n",
    "new_df['stargazers'] = new_df['stargazers'].apply(lambda x: 1 if x > 5986 else 0)\n",
    "new_df['watchers'] = new_df['watchers'].apply(lambda x: 1 if x > 359 else 0)"
   ]
  },
  {
   "cell_type": "code",
   "execution_count": 19,
   "metadata": {},
   "outputs": [],
   "source": [
    "new_df['activity'] = new_df['commits'] + new_df['total_pr'] + new_df['total_issues'] + new_df['contributors']"
   ]
  },
  {
   "cell_type": "code",
   "execution_count": 20,
   "metadata": {},
   "outputs": [],
   "source": [
    "new_df['popularity'] = new_df['forks'] + new_df['stargazers'] +  new_df['watchers']"
   ]
  },
  {
   "cell_type": "code",
   "execution_count": 21,
   "metadata": {},
   "outputs": [
    {
     "data": {
      "text/plain": [
       "0    1120\n",
       "1     175\n",
       "2      86\n",
       "3      53\n",
       "4      20\n",
       "Name: activity, dtype: int64"
      ]
     },
     "execution_count": 21,
     "metadata": {},
     "output_type": "execute_result"
    }
   ],
   "source": [
    "new_df['activity'].value_counts()"
   ]
  },
  {
   "cell_type": "code",
   "execution_count": 22,
   "metadata": {},
   "outputs": [
    {
     "data": {
      "text/plain": [
       "0    1245\n",
       "3      98\n",
       "1      78\n",
       "2      33\n",
       "Name: popularity, dtype: int64"
      ]
     },
     "execution_count": 22,
     "metadata": {},
     "output_type": "execute_result"
    }
   ],
   "source": [
    "new_df['popularity'].value_counts()"
   ]
  },
  {
   "cell_type": "code",
   "execution_count": 23,
   "metadata": {},
   "outputs": [],
   "source": [
    "mature_projects_list = new_df[(new_df['activity'] > 1) & (new_df['popularity'] > 1)].name.tolist()"
   ]
  },
  {
   "cell_type": "code",
   "execution_count": 24,
   "metadata": {},
   "outputs": [],
   "source": [
    "combined_results = pd.read_csv(\"../data/combined_results.csv\")"
   ]
  },
  {
   "cell_type": "code",
   "execution_count": 25,
   "metadata": {},
   "outputs": [
    {
     "data": {
      "text/html": [
       "<div>\n",
       "<style scoped>\n",
       "    .dataframe tbody tr th:only-of-type {\n",
       "        vertical-align: middle;\n",
       "    }\n",
       "\n",
       "    .dataframe tbody tr th {\n",
       "        vertical-align: top;\n",
       "    }\n",
       "\n",
       "    .dataframe thead th {\n",
       "        text-align: right;\n",
       "    }\n",
       "</style>\n",
       "<table border=\"1\" class=\"dataframe\">\n",
       "  <thead>\n",
       "    <tr style=\"text-align: right;\">\n",
       "      <th></th>\n",
       "      <th>repo_name</th>\n",
       "      <th>local_build</th>\n",
       "      <th>sat_usage</th>\n",
       "      <th>ci_build_combined</th>\n",
       "      <th>ci_state</th>\n",
       "      <th>ci_usage</th>\n",
       "      <th>cr_reviews</th>\n",
       "      <th>cr_comments</th>\n",
       "      <th>cr_changed_files</th>\n",
       "      <th>cr_changed_lines</th>\n",
       "      <th>testing_coverage</th>\n",
       "    </tr>\n",
       "  </thead>\n",
       "  <tbody>\n",
       "    <tr>\n",
       "      <th>0</th>\n",
       "      <td>1c-syntax/bsl-language-server</td>\n",
       "      <td>1.0</td>\n",
       "      <td>0</td>\n",
       "      <td>1.0</td>\n",
       "      <td>1.0</td>\n",
       "      <td>1</td>\n",
       "      <td>64.0</td>\n",
       "      <td>36.0</td>\n",
       "      <td>752.0</td>\n",
       "      <td>40997.0</td>\n",
       "      <td>NaN</td>\n",
       "    </tr>\n",
       "    <tr>\n",
       "      <th>1</th>\n",
       "      <td>abhpd/hacktoberfest2021</td>\n",
       "      <td>NaN</td>\n",
       "      <td>0</td>\n",
       "      <td>NaN</td>\n",
       "      <td>NaN</td>\n",
       "      <td>0</td>\n",
       "      <td>14.0</td>\n",
       "      <td>14.0</td>\n",
       "      <td>52.0</td>\n",
       "      <td>7629.0</td>\n",
       "      <td>NaN</td>\n",
       "    </tr>\n",
       "    <tr>\n",
       "      <th>2</th>\n",
       "      <td>actiontech/dble</td>\n",
       "      <td>1.0</td>\n",
       "      <td>1</td>\n",
       "      <td>1.0</td>\n",
       "      <td>1.0</td>\n",
       "      <td>1</td>\n",
       "      <td>17.0</td>\n",
       "      <td>1.0</td>\n",
       "      <td>58.0</td>\n",
       "      <td>1513.0</td>\n",
       "      <td>8.02</td>\n",
       "    </tr>\n",
       "    <tr>\n",
       "      <th>3</th>\n",
       "      <td>activiti/activiti</td>\n",
       "      <td>1.0</td>\n",
       "      <td>1</td>\n",
       "      <td>1.0</td>\n",
       "      <td>1.0</td>\n",
       "      <td>1</td>\n",
       "      <td>31.0</td>\n",
       "      <td>13.0</td>\n",
       "      <td>70.0</td>\n",
       "      <td>2696.0</td>\n",
       "      <td>NaN</td>\n",
       "    </tr>\n",
       "    <tr>\n",
       "      <th>4</th>\n",
       "      <td>adeekshith/watomatic</td>\n",
       "      <td>NaN</td>\n",
       "      <td>0</td>\n",
       "      <td>NaN</td>\n",
       "      <td>NaN</td>\n",
       "      <td>0</td>\n",
       "      <td>16.0</td>\n",
       "      <td>11.0</td>\n",
       "      <td>88.0</td>\n",
       "      <td>2392.0</td>\n",
       "      <td>NaN</td>\n",
       "    </tr>\n",
       "  </tbody>\n",
       "</table>\n",
       "</div>"
      ],
      "text/plain": [
       "                       repo_name  local_build  sat_usage  ci_build_combined  \\\n",
       "0  1c-syntax/bsl-language-server          1.0          0                1.0   \n",
       "1        abhpd/hacktoberfest2021          NaN          0                NaN   \n",
       "2                actiontech/dble          1.0          1                1.0   \n",
       "3              activiti/activiti          1.0          1                1.0   \n",
       "4           adeekshith/watomatic          NaN          0                NaN   \n",
       "\n",
       "   ci_state  ci_usage  cr_reviews  cr_comments  cr_changed_files  \\\n",
       "0       1.0         1        64.0         36.0             752.0   \n",
       "1       NaN         0        14.0         14.0              52.0   \n",
       "2       1.0         1        17.0          1.0              58.0   \n",
       "3       1.0         1        31.0         13.0              70.0   \n",
       "4       NaN         0        16.0         11.0              88.0   \n",
       "\n",
       "   cr_changed_lines  testing_coverage  \n",
       "0           40997.0               NaN  \n",
       "1            7629.0               NaN  \n",
       "2            1513.0              8.02  \n",
       "3            2696.0               NaN  \n",
       "4            2392.0               NaN  "
      ]
     },
     "execution_count": 25,
     "metadata": {},
     "output_type": "execute_result"
    }
   ],
   "source": [
    "combined_results.head()"
   ]
  },
  {
   "cell_type": "code",
   "execution_count": 26,
   "metadata": {},
   "outputs": [
    {
     "data": {
      "text/plain": [
       "50"
      ]
     },
     "execution_count": 26,
     "metadata": {},
     "output_type": "execute_result"
    }
   ],
   "source": [
    "combined_results[combined_results.repo_name.isin(mature_projects_list)].shape[0]"
   ]
  },
  {
   "cell_type": "code",
   "execution_count": 27,
   "metadata": {},
   "outputs": [],
   "source": [
    "combined_results['cr_rate'] = (combined_results['cr_reviews'] + combined_results['cr_comments']) / (combined_results['cr_changed_lines'] / combined_results['cr_changed_files'])"
   ]
  },
  {
   "cell_type": "code",
   "execution_count": 28,
   "metadata": {},
   "outputs": [],
   "source": [
    "mature_projects_results = combined_results[combined_results.repo_name.isin(mature_projects_list)]"
   ]
  },
  {
   "cell_type": "code",
   "execution_count": 29,
   "metadata": {},
   "outputs": [
    {
     "data": {
      "text/plain": [
       "Index(['repo_name', 'local_build', 'sat_usage', 'ci_build_combined',\n",
       "       'ci_state', 'ci_usage', 'cr_reviews', 'cr_comments', 'cr_changed_files',\n",
       "       'cr_changed_lines', 'testing_coverage', 'cr_rate'],\n",
       "      dtype='object')"
      ]
     },
     "execution_count": 29,
     "metadata": {},
     "output_type": "execute_result"
    }
   ],
   "source": [
    "mature_projects_results.columns"
   ]
  },
  {
   "cell_type": "markdown",
   "metadata": {},
   "source": [
    "## Mature Projects Local builds"
   ]
  },
  {
   "cell_type": "code",
   "execution_count": 30,
   "metadata": {},
   "outputs": [
    {
     "name": "stdout",
     "output_type": "stream",
     "text": [
      "1.0    0.636364\n",
      "0.0    0.363636\n",
      "Name: local_build, dtype: float64\n",
      "1.0    21\n",
      "0.0    12\n",
      "Name: local_build, dtype: int64\n"
     ]
    }
   ],
   "source": [
    "print(mature_projects_results['local_build'].value_counts(normalize=True))\n",
    "print(mature_projects_results['local_build'].value_counts(normalize=False))"
   ]
  },
  {
   "cell_type": "code",
   "execution_count": 31,
   "metadata": {},
   "outputs": [
    {
     "name": "stderr",
     "output_type": "stream",
     "text": [
      "/Users/alikhatami/Projects/TestShift/State of The Practice in QA in OSS/sop-in-qa-replication-package/rep-venv/lib/python3.8/site-packages/seaborn/distributions.py:2619: FutureWarning: `distplot` is a deprecated function and will be removed in a future version. Please adapt your code to use either `displot` (a figure-level function with similar flexibility) or `histplot` (an axes-level function for histograms).\n",
      "  warnings.warn(msg, FutureWarning)\n"
     ]
    },
    {
     "data": {
      "image/png": "[encoded data removed]",
      "text/plain": [
       "<Figure size 640x480 with 1 Axes>"
      ]
     },
     "metadata": {},
     "output_type": "display_data"
    }
   ],
   "source": [
    "ax = sns.distplot(mature_projects_results['local_build'])"
   ]
  },
  {
   "cell_type": "markdown",
   "metadata": {},
   "source": [
    "## Mature Projects ASAT Usage"
   ]
  },
  {
   "cell_type": "code",
   "execution_count": 32,
   "metadata": {},
   "outputs": [
    {
     "name": "stdout",
     "output_type": "stream",
     "text": [
      "1    0.7\n",
      "0    0.3\n",
      "Name: sat_usage, dtype: float64\n",
      "1    35\n",
      "0    15\n",
      "Name: sat_usage, dtype: int64\n"
     ]
    }
   ],
   "source": [
    "print(mature_projects_results['sat_usage'].value_counts(normalize=True))\n",
    "print(mature_projects_results['sat_usage'].value_counts(normalize=False))"
   ]
  },
  {
   "cell_type": "code",
   "execution_count": 33,
   "metadata": {},
   "outputs": [
    {
     "name": "stderr",
     "output_type": "stream",
     "text": [
      "/Users/alikhatami/Projects/TestShift/State of The Practice in QA in OSS/sop-in-qa-replication-package/rep-venv/lib/python3.8/site-packages/seaborn/distributions.py:2619: FutureWarning: `distplot` is a deprecated function and will be removed in a future version. Please adapt your code to use either `displot` (a figure-level function with similar flexibility) or `histplot` (an axes-level function for histograms).\n",
      "  warnings.warn(msg, FutureWarning)\n"
     ]
    },
    {
     "data": {
      "image/png": "[encoded data removed]",
      "text/plain": [
       "<Figure size 640x480 with 1 Axes>"
      ]
     },
     "metadata": {},
     "output_type": "display_data"
    }
   ],
   "source": [
    "ax = sns.distplot(mature_projects_results['sat_usage'])"
   ]
  },
  {
   "cell_type": "markdown",
   "metadata": {},
   "source": [
    "## Mature Projects CI Usage"
   ]
  },
  {
   "cell_type": "code",
   "execution_count": 34,
   "metadata": {},
   "outputs": [
    {
     "name": "stdout",
     "output_type": "stream",
     "text": [
      "1    0.62\n",
      "0    0.38\n",
      "Name: ci_usage, dtype: float64\n",
      "1    31\n",
      "0    19\n",
      "Name: ci_usage, dtype: int64\n"
     ]
    }
   ],
   "source": [
    "print(mature_projects_results['ci_usage'].value_counts(normalize=True))\n",
    "print(mature_projects_results['ci_usage'].value_counts(normalize=False))"
   ]
  },
  {
   "cell_type": "code",
   "execution_count": 35,
   "metadata": {},
   "outputs": [
    {
     "name": "stderr",
     "output_type": "stream",
     "text": [
      "/Users/alikhatami/Projects/TestShift/State of The Practice in QA in OSS/sop-in-qa-replication-package/rep-venv/lib/python3.8/site-packages/seaborn/distributions.py:2619: FutureWarning: `distplot` is a deprecated function and will be removed in a future version. Please adapt your code to use either `displot` (a figure-level function with similar flexibility) or `histplot` (an axes-level function for histograms).\n",
      "  warnings.warn(msg, FutureWarning)\n"
     ]
    },
    {
     "data": {
      "image/png": "[encoded data removed]",
      "text/plain": [
       "<Figure size 640x480 with 1 Axes>"
      ]
     },
     "metadata": {},
     "output_type": "display_data"
    }
   ],
   "source": [
    "ax = sns.distplot(mature_projects_results['ci_usage'])"
   ]
  },
  {
   "cell_type": "markdown",
   "metadata": {},
   "source": [
    "## Mature Projects CR Rate"
   ]
  },
  {
   "cell_type": "code",
   "execution_count": 36,
   "metadata": {},
   "outputs": [
    {
     "name": "stdout",
     "output_type": "stream",
     "text": [
      "(-0.00391, 1.296]    0.52\n",
      "(1.296, 2.583]       0.12\n",
      "(3.87, 5.156]        0.08\n",
      "(6.443, 7.729]       0.06\n",
      "(2.583, 3.87]        0.04\n",
      "(5.156, 6.443]       0.04\n",
      "(11.589, 12.875]     0.04\n",
      "(7.729, 9.016]       0.00\n",
      "(9.016, 10.302]      0.00\n",
      "(10.302, 11.589]     0.00\n",
      "Name: cr_rate, dtype: float64\n",
      "(-0.00391, 1.296]    26\n",
      "(1.296, 2.583]        6\n",
      "(3.87, 5.156]         4\n",
      "(6.443, 7.729]        3\n",
      "(2.583, 3.87]         2\n",
      "(5.156, 6.443]        2\n",
      "(11.589, 12.875]      2\n",
      "(7.729, 9.016]        0\n",
      "(9.016, 10.302]       0\n",
      "(10.302, 11.589]      0\n",
      "Name: cr_rate, dtype: int64\n"
     ]
    }
   ],
   "source": [
    "print(mature_projects_results['cr_rate'].value_counts(bins=10, normalize=True))\n",
    "print(mature_projects_results['cr_rate'].value_counts(bins=10, normalize=False))"
   ]
  },
  {
   "cell_type": "code",
   "execution_count": 55,
   "metadata": {},
   "outputs": [
    {
     "data": {
      "text/plain": [
       "24"
      ]
     },
     "execution_count": 55,
     "metadata": {},
     "output_type": "execute_result"
    }
   ],
   "source": [
    "mature_projects_results[(mature_projects_results['cr_comments'] > 38) | (mature_projects_results['cr_reviews'] > 50)].shape[0]"
   ]
  },
  {
   "cell_type": "code",
   "execution_count": null,
   "metadata": {},
   "outputs": [],
   "source": [
    "mature_projects_results[(mature_projects_results['cr_comments'] < 29) | (mature_projects_results['cr_reviews'] < 38)].shape[0]"
   ]
  },
  {
   "cell_type": "code",
   "execution_count": 39,
   "metadata": {},
   "outputs": [
    {
     "name": "stderr",
     "output_type": "stream",
     "text": [
      "/Users/alikhatami/Projects/TestShift/State of The Practice in QA in OSS/sop-in-qa-replication-package/rep-venv/lib/python3.8/site-packages/seaborn/distributions.py:2619: FutureWarning: `distplot` is a deprecated function and will be removed in a future version. Please adapt your code to use either `displot` (a figure-level function with similar flexibility) or `histplot` (an axes-level function for histograms).\n",
      "  warnings.warn(msg, FutureWarning)\n"
     ]
    },
    {
     "data": {
      "image/png": "[encoded data removed]",
      "text/plain": [
       "<Figure size 640x480 with 1 Axes>"
      ]
     },
     "metadata": {},
     "output_type": "display_data"
    }
   ],
   "source": [
    "ax = sns.distplot(mature_projects_results['cr_rate'])"
   ]
  },
  {
   "cell_type": "markdown",
   "metadata": {},
   "source": [
    "## Mature Projects Code Coverage"
   ]
  },
  {
   "cell_type": "code",
   "execution_count": 49,
   "metadata": {},
   "outputs": [
    {
     "data": {
      "text/html": [
       "<div>\n",
       "<style scoped>\n",
       "    .dataframe tbody tr th:only-of-type {\n",
       "        vertical-align: middle;\n",
       "    }\n",
       "\n",
       "    .dataframe tbody tr th {\n",
       "        vertical-align: top;\n",
       "    }\n",
       "\n",
       "    .dataframe thead th {\n",
       "        text-align: right;\n",
       "    }\n",
       "</style>\n",
       "<table border=\"1\" class=\"dataframe\">\n",
       "  <thead>\n",
       "    <tr style=\"text-align: right;\">\n",
       "      <th></th>\n",
       "      <th>repo_name</th>\n",
       "      <th>local_build</th>\n",
       "      <th>sat_usage</th>\n",
       "      <th>ci_build_combined</th>\n",
       "      <th>ci_state</th>\n",
       "      <th>ci_usage</th>\n",
       "      <th>cr_reviews</th>\n",
       "      <th>cr_comments</th>\n",
       "      <th>cr_changed_files</th>\n",
       "      <th>cr_changed_lines</th>\n",
       "      <th>testing_coverage</th>\n",
       "      <th>cr_rate</th>\n",
       "    </tr>\n",
       "  </thead>\n",
       "  <tbody>\n",
       "    <tr>\n",
       "      <th>29</th>\n",
       "      <td>alibaba/nacos</td>\n",
       "      <td>1.0</td>\n",
       "      <td>1</td>\n",
       "      <td>NaN</td>\n",
       "      <td>NaN</td>\n",
       "      <td>0</td>\n",
       "      <td>24.0</td>\n",
       "      <td>3.0</td>\n",
       "      <td>464.0</td>\n",
       "      <td>19256.0</td>\n",
       "      <td>11.13</td>\n",
       "      <td>0.650602</td>\n",
       "    </tr>\n",
       "    <tr>\n",
       "      <th>78</th>\n",
       "      <td>apache/druid</td>\n",
       "      <td>1.0</td>\n",
       "      <td>1</td>\n",
       "      <td>0.0</td>\n",
       "      <td>0.0</td>\n",
       "      <td>1</td>\n",
       "      <td>97.0</td>\n",
       "      <td>65.0</td>\n",
       "      <td>168.0</td>\n",
       "      <td>20769.0</td>\n",
       "      <td>65.19</td>\n",
       "      <td>1.310415</td>\n",
       "    </tr>\n",
       "    <tr>\n",
       "      <th>135</th>\n",
       "      <td>apache/pulsar</td>\n",
       "      <td>1.0</td>\n",
       "      <td>1</td>\n",
       "      <td>NaN</td>\n",
       "      <td>NaN</td>\n",
       "      <td>0</td>\n",
       "      <td>144.0</td>\n",
       "      <td>69.0</td>\n",
       "      <td>165.0</td>\n",
       "      <td>100957.0</td>\n",
       "      <td>34.21</td>\n",
       "      <td>0.348119</td>\n",
       "    </tr>\n",
       "    <tr>\n",
       "      <th>142</th>\n",
       "      <td>apache/shardingsphere</td>\n",
       "      <td>1.0</td>\n",
       "      <td>1</td>\n",
       "      <td>1.0</td>\n",
       "      <td>1.0</td>\n",
       "      <td>1</td>\n",
       "      <td>49.0</td>\n",
       "      <td>21.0</td>\n",
       "      <td>189.0</td>\n",
       "      <td>6140.0</td>\n",
       "      <td>84.38</td>\n",
       "      <td>2.154723</td>\n",
       "    </tr>\n",
       "    <tr>\n",
       "      <th>367</th>\n",
       "      <td>dropwizard/dropwizard</td>\n",
       "      <td>1.0</td>\n",
       "      <td>0</td>\n",
       "      <td>1.0</td>\n",
       "      <td>0.0</td>\n",
       "      <td>1</td>\n",
       "      <td>45.0</td>\n",
       "      <td>24.0</td>\n",
       "      <td>152.0</td>\n",
       "      <td>9195.0</td>\n",
       "      <td>72.03</td>\n",
       "      <td>1.140620</td>\n",
       "    </tr>\n",
       "    <tr>\n",
       "      <th>1217</th>\n",
       "      <td>spring-cloud/spring-cloud-netflix</td>\n",
       "      <td>1.0</td>\n",
       "      <td>1</td>\n",
       "      <td>1.0</td>\n",
       "      <td>0.0</td>\n",
       "      <td>1</td>\n",
       "      <td>18.0</td>\n",
       "      <td>35.0</td>\n",
       "      <td>121.0</td>\n",
       "      <td>2129.0</td>\n",
       "      <td>32.77</td>\n",
       "      <td>3.012212</td>\n",
       "    </tr>\n",
       "  </tbody>\n",
       "</table>\n",
       "</div>"
      ],
      "text/plain": [
       "                              repo_name  local_build  sat_usage  \\\n",
       "29                        alibaba/nacos          1.0          1   \n",
       "78                         apache/druid          1.0          1   \n",
       "135                       apache/pulsar          1.0          1   \n",
       "142               apache/shardingsphere          1.0          1   \n",
       "367               dropwizard/dropwizard          1.0          0   \n",
       "1217  spring-cloud/spring-cloud-netflix          1.0          1   \n",
       "\n",
       "      ci_build_combined  ci_state  ci_usage  cr_reviews  cr_comments  \\\n",
       "29                  NaN       NaN         0        24.0          3.0   \n",
       "78                  0.0       0.0         1        97.0         65.0   \n",
       "135                 NaN       NaN         0       144.0         69.0   \n",
       "142                 1.0       1.0         1        49.0         21.0   \n",
       "367                 1.0       0.0         1        45.0         24.0   \n",
       "1217                1.0       0.0         1        18.0         35.0   \n",
       "\n",
       "      cr_changed_files  cr_changed_lines  testing_coverage   cr_rate  \n",
       "29               464.0           19256.0             11.13  0.650602  \n",
       "78               168.0           20769.0             65.19  1.310415  \n",
       "135              165.0          100957.0             34.21  0.348119  \n",
       "142              189.0            6140.0             84.38  2.154723  \n",
       "367              152.0            9195.0             72.03  1.140620  \n",
       "1217             121.0            2129.0             32.77  3.012212  "
      ]
     },
     "execution_count": 49,
     "metadata": {},
     "output_type": "execute_result"
    }
   ],
   "source": [
    "mature_projects_results[mature_projects_results.testing_coverage.notna()]"
   ]
  },
  {
   "cell_type": "markdown",
   "metadata": {},
   "source": [
    "Here I saved the CSV file and then manually added the coverage results by checking GitHub repositories."
   ]
  },
  {
   "cell_type": "code",
   "execution_count": 40,
   "metadata": {},
   "outputs": [],
   "source": [
    "mature_projects = pd.read_csv(\"../data/mature_projects_with_coverage.csv\")"
   ]
  },
  {
   "cell_type": "code",
   "execution_count": 41,
   "metadata": {},
   "outputs": [
    {
     "data": {
      "text/html": [
       "<div>\n",
       "<style scoped>\n",
       "    .dataframe tbody tr th:only-of-type {\n",
       "        vertical-align: middle;\n",
       "    }\n",
       "\n",
       "    .dataframe tbody tr th {\n",
       "        vertical-align: top;\n",
       "    }\n",
       "\n",
       "    .dataframe thead th {\n",
       "        text-align: right;\n",
       "    }\n",
       "</style>\n",
       "<table border=\"1\" class=\"dataframe\">\n",
       "  <thead>\n",
       "    <tr style=\"text-align: right;\">\n",
       "      <th></th>\n",
       "      <th>repo_name</th>\n",
       "      <th>local_build</th>\n",
       "      <th>sat_usage</th>\n",
       "      <th>ci_build_combined</th>\n",
       "      <th>ci_state</th>\n",
       "      <th>ci_usage</th>\n",
       "      <th>cr_reviews</th>\n",
       "      <th>cr_comments</th>\n",
       "      <th>cr_changed_files</th>\n",
       "      <th>cr_changed_lines</th>\n",
       "      <th>testing_coverage</th>\n",
       "      <th>cr_rate</th>\n",
       "      <th>coverage_from_github</th>\n",
       "      <th>comment_on_coverage</th>\n",
       "    </tr>\n",
       "  </thead>\n",
       "  <tbody>\n",
       "    <tr>\n",
       "      <th>0</th>\n",
       "      <td>alibaba/nacos</td>\n",
       "      <td>1.0</td>\n",
       "      <td>1</td>\n",
       "      <td>NaN</td>\n",
       "      <td>NaN</td>\n",
       "      <td>0</td>\n",
       "      <td>24.0</td>\n",
       "      <td>3.0</td>\n",
       "      <td>464.0</td>\n",
       "      <td>19256.0</td>\n",
       "      <td>11.13</td>\n",
       "      <td>0.650602</td>\n",
       "      <td>43.58</td>\n",
       "      <td>https://github.com/alibaba/nacos/pull/8969</td>\n",
       "    </tr>\n",
       "    <tr>\n",
       "      <th>1</th>\n",
       "      <td>alluxio/alluxio</td>\n",
       "      <td>1.0</td>\n",
       "      <td>1</td>\n",
       "      <td>NaN</td>\n",
       "      <td>NaN</td>\n",
       "      <td>0</td>\n",
       "      <td>65.0</td>\n",
       "      <td>87.0</td>\n",
       "      <td>62.0</td>\n",
       "      <td>6651.0</td>\n",
       "      <td>NaN</td>\n",
       "      <td>1.416930</td>\n",
       "      <td>NaN</td>\n",
       "      <td>Have tests but no coverage information</td>\n",
       "    </tr>\n",
       "    <tr>\n",
       "      <th>2</th>\n",
       "      <td>anuken/mindustry</td>\n",
       "      <td>NaN</td>\n",
       "      <td>0</td>\n",
       "      <td>1.0</td>\n",
       "      <td>1.0</td>\n",
       "      <td>1</td>\n",
       "      <td>4.0</td>\n",
       "      <td>14.0</td>\n",
       "      <td>22.0</td>\n",
       "      <td>39769.0</td>\n",
       "      <td>NaN</td>\n",
       "      <td>0.009958</td>\n",
       "      <td>NaN</td>\n",
       "      <td>Have tests but no coverage information</td>\n",
       "    </tr>\n",
       "    <tr>\n",
       "      <th>3</th>\n",
       "      <td>apache/cassandra</td>\n",
       "      <td>NaN</td>\n",
       "      <td>1</td>\n",
       "      <td>NaN</td>\n",
       "      <td>NaN</td>\n",
       "      <td>0</td>\n",
       "      <td>NaN</td>\n",
       "      <td>NaN</td>\n",
       "      <td>NaN</td>\n",
       "      <td>NaN</td>\n",
       "      <td>NaN</td>\n",
       "      <td>NaN</td>\n",
       "      <td>NaN</td>\n",
       "      <td>Have tests but no coverage information</td>\n",
       "    </tr>\n",
       "    <tr>\n",
       "      <th>4</th>\n",
       "      <td>apache/dolphinscheduler</td>\n",
       "      <td>1.0</td>\n",
       "      <td>1</td>\n",
       "      <td>1.0</td>\n",
       "      <td>0.0</td>\n",
       "      <td>1</td>\n",
       "      <td>38.0</td>\n",
       "      <td>30.0</td>\n",
       "      <td>254.0</td>\n",
       "      <td>17173.0</td>\n",
       "      <td>NaN</td>\n",
       "      <td>1.005765</td>\n",
       "      <td>39.80</td>\n",
       "      <td>https://github.com/apache/dolphinscheduler/pul...</td>\n",
       "    </tr>\n",
       "  </tbody>\n",
       "</table>\n",
       "</div>"
      ],
      "text/plain": [
       "                 repo_name  local_build  sat_usage  ci_build_combined  \\\n",
       "0            alibaba/nacos          1.0          1                NaN   \n",
       "1          alluxio/alluxio          1.0          1                NaN   \n",
       "2         anuken/mindustry          NaN          0                1.0   \n",
       "3         apache/cassandra          NaN          1                NaN   \n",
       "4  apache/dolphinscheduler          1.0          1                1.0   \n",
       "\n",
       "   ci_state  ci_usage  cr_reviews  cr_comments  cr_changed_files  \\\n",
       "0       NaN         0        24.0          3.0             464.0   \n",
       "1       NaN         0        65.0         87.0              62.0   \n",
       "2       1.0         1         4.0         14.0              22.0   \n",
       "3       NaN         0         NaN          NaN               NaN   \n",
       "4       0.0         1        38.0         30.0             254.0   \n",
       "\n",
       "   cr_changed_lines  testing_coverage   cr_rate  coverage_from_github  \\\n",
       "0           19256.0             11.13  0.650602                 43.58   \n",
       "1            6651.0               NaN  1.416930                   NaN   \n",
       "2           39769.0               NaN  0.009958                   NaN   \n",
       "3               NaN               NaN       NaN                   NaN   \n",
       "4           17173.0               NaN  1.005765                 39.80   \n",
       "\n",
       "                                 comment_on_coverage  \n",
       "0         https://github.com/alibaba/nacos/pull/8969  \n",
       "1             Have tests but no coverage information  \n",
       "2             Have tests but no coverage information  \n",
       "3             Have tests but no coverage information  \n",
       "4  https://github.com/apache/dolphinscheduler/pul...  "
      ]
     },
     "execution_count": 41,
     "metadata": {},
     "output_type": "execute_result"
    }
   ],
   "source": [
    "mature_projects.head()"
   ]
  },
  {
   "cell_type": "code",
   "execution_count": 47,
   "metadata": {},
   "outputs": [
    {
     "data": {
      "text/plain": [
       "12"
      ]
     },
     "execution_count": 47,
     "metadata": {},
     "output_type": "execute_result"
    }
   ],
   "source": [
    "mature_projects.coverage_from_github.notna().sum()"
   ]
  },
  {
   "cell_type": "code",
   "execution_count": 48,
   "metadata": {},
   "outputs": [
    {
     "data": {
      "text/html": [
       "<div>\n",
       "<style scoped>\n",
       "    .dataframe tbody tr th:only-of-type {\n",
       "        vertical-align: middle;\n",
       "    }\n",
       "\n",
       "    .dataframe tbody tr th {\n",
       "        vertical-align: top;\n",
       "    }\n",
       "\n",
       "    .dataframe thead th {\n",
       "        text-align: right;\n",
       "    }\n",
       "</style>\n",
       "<table border=\"1\" class=\"dataframe\">\n",
       "  <thead>\n",
       "    <tr style=\"text-align: right;\">\n",
       "      <th></th>\n",
       "      <th>repo_name</th>\n",
       "      <th>local_build</th>\n",
       "      <th>sat_usage</th>\n",
       "      <th>ci_build_combined</th>\n",
       "      <th>ci_state</th>\n",
       "      <th>ci_usage</th>\n",
       "      <th>cr_reviews</th>\n",
       "      <th>cr_comments</th>\n",
       "      <th>cr_changed_files</th>\n",
       "      <th>cr_changed_lines</th>\n",
       "      <th>testing_coverage</th>\n",
       "      <th>cr_rate</th>\n",
       "      <th>coverage_from_github</th>\n",
       "      <th>comment_on_coverage</th>\n",
       "    </tr>\n",
       "  </thead>\n",
       "  <tbody>\n",
       "    <tr>\n",
       "      <th>0</th>\n",
       "      <td>alibaba/nacos</td>\n",
       "      <td>1.0</td>\n",
       "      <td>1</td>\n",
       "      <td>NaN</td>\n",
       "      <td>NaN</td>\n",
       "      <td>0</td>\n",
       "      <td>24.0</td>\n",
       "      <td>3.0</td>\n",
       "      <td>464.0</td>\n",
       "      <td>19256.0</td>\n",
       "      <td>11.13</td>\n",
       "      <td>0.650602</td>\n",
       "      <td>43.58</td>\n",
       "      <td>https://github.com/alibaba/nacos/pull/8969</td>\n",
       "    </tr>\n",
       "    <tr>\n",
       "      <th>5</th>\n",
       "      <td>apache/druid</td>\n",
       "      <td>1.0</td>\n",
       "      <td>1</td>\n",
       "      <td>0.0</td>\n",
       "      <td>0.0</td>\n",
       "      <td>1</td>\n",
       "      <td>97.0</td>\n",
       "      <td>65.0</td>\n",
       "      <td>168.0</td>\n",
       "      <td>20769.0</td>\n",
       "      <td>65.19</td>\n",
       "      <td>1.310415</td>\n",
       "      <td>71.82</td>\n",
       "      <td>https://app.codecov.io/gh/apache/druid/commits</td>\n",
       "    </tr>\n",
       "    <tr>\n",
       "      <th>12</th>\n",
       "      <td>apache/shardingsphere</td>\n",
       "      <td>1.0</td>\n",
       "      <td>1</td>\n",
       "      <td>1.0</td>\n",
       "      <td>1.0</td>\n",
       "      <td>1</td>\n",
       "      <td>49.0</td>\n",
       "      <td>21.0</td>\n",
       "      <td>189.0</td>\n",
       "      <td>6140.0</td>\n",
       "      <td>84.38</td>\n",
       "      <td>2.154723</td>\n",
       "      <td>60.60</td>\n",
       "      <td>https://app.codecov.io/gh/apache/shardingspher...</td>\n",
       "    </tr>\n",
       "    <tr>\n",
       "      <th>44</th>\n",
       "      <td>spring-cloud/spring-cloud-netflix</td>\n",
       "      <td>1.0</td>\n",
       "      <td>1</td>\n",
       "      <td>1.0</td>\n",
       "      <td>0.0</td>\n",
       "      <td>1</td>\n",
       "      <td>18.0</td>\n",
       "      <td>35.0</td>\n",
       "      <td>121.0</td>\n",
       "      <td>2129.0</td>\n",
       "      <td>32.77</td>\n",
       "      <td>3.012212</td>\n",
       "      <td>55.53</td>\n",
       "      <td>https://codecov.io/gh/spring-cloud/spring-clou...</td>\n",
       "    </tr>\n",
       "  </tbody>\n",
       "</table>\n",
       "</div>"
      ],
      "text/plain": [
       "                            repo_name  local_build  sat_usage  \\\n",
       "0                       alibaba/nacos          1.0          1   \n",
       "5                        apache/druid          1.0          1   \n",
       "12              apache/shardingsphere          1.0          1   \n",
       "44  spring-cloud/spring-cloud-netflix          1.0          1   \n",
       "\n",
       "    ci_build_combined  ci_state  ci_usage  cr_reviews  cr_comments  \\\n",
       "0                 NaN       NaN         0        24.0          3.0   \n",
       "5                 0.0       0.0         1        97.0         65.0   \n",
       "12                1.0       1.0         1        49.0         21.0   \n",
       "44                1.0       0.0         1        18.0         35.0   \n",
       "\n",
       "    cr_changed_files  cr_changed_lines  testing_coverage   cr_rate  \\\n",
       "0              464.0           19256.0             11.13  0.650602   \n",
       "5              168.0           20769.0             65.19  1.310415   \n",
       "12             189.0            6140.0             84.38  2.154723   \n",
       "44             121.0            2129.0             32.77  3.012212   \n",
       "\n",
       "    coverage_from_github                                comment_on_coverage  \n",
       "0                  43.58         https://github.com/alibaba/nacos/pull/8969  \n",
       "5                  71.82     https://app.codecov.io/gh/apache/druid/commits  \n",
       "12                 60.60  https://app.codecov.io/gh/apache/shardingspher...  \n",
       "44                 55.53  https://codecov.io/gh/spring-cloud/spring-clou...  "
      ]
     },
     "execution_count": 48,
     "metadata": {},
     "output_type": "execute_result"
    }
   ],
   "source": [
    "mature_projects[(mature_projects.coverage_from_github.notna()) & (mature_projects.testing_coverage.notna())]"
   ]
  },
  {
   "cell_type": "code",
   "execution_count": 43,
   "metadata": {},
   "outputs": [
    {
     "name": "stdout",
     "output_type": "stream",
     "text": [
      "63.260000000000005\n",
      "67.71\n"
     ]
    }
   ],
   "source": [
    "print(mature_projects.coverage_from_github.median())\n",
    "print(mature_projects.coverage_from_github.mean())"
   ]
  },
  {
   "cell_type": "code",
   "execution_count": 45,
   "metadata": {},
   "outputs": [
    {
     "data": {
      "text/plain": [
       "<AxesSubplot:>"
      ]
     },
     "execution_count": 45,
     "metadata": {},
     "output_type": "execute_result"
    },
    {
     "data": {
      "image/png": "[encoded data removed]",
      "text/plain": [
       "<Figure size 640x480 with 1 Axes>"
      ]
     },
     "metadata": {},
     "output_type": "display_data"
    }
   ],
   "source": [
    "mature_projects.boxplot('coverage_from_github')"
   ]
  },
  {
   "cell_type": "code",
   "execution_count": null,
   "metadata": {},
   "outputs": [],
   "source": []
  }
 ],
 "metadata": {
  "kernelspec": {
   "display_name": "Python 3.8.5 ('rep-venv': venv)",
   "language": "python",
   "name": "python3"
  },
  "language_info": {
   "codemirror_mode": {
    "name": "ipython",
    "version": 3
   },
   "file_extension": ".py",
   "mimetype": "text/x-python",
   "name": "python",
   "nbconvert_exporter": "python",
   "pygments_lexer": "ipython3",
   "version": "3.8.5"
  },
  "orig_nbformat": 4,
  "vscode": {
   "interpreter": {
    "hash": "e3b2c4a0d567cdb21628f1858ca49b349da58368586d87319e613ecb14fc53fa"
   }
  }
 },
 "nbformat": 4,
 "nbformat_minor": 2
}
