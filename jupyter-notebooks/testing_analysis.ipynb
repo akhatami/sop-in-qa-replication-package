{
 "cells": [
  {
   "cell_type": "code",
   "execution_count": 1,
   "id": "607b82a9",
   "metadata": {},
   "outputs": [],
   "source": [
    "import pandas as pd\n",
    "import numpy as np\n",
    "import matplotlib.pyplot as plt\n",
    "%matplotlib inline"
   ]
  },
  {
   "cell_type": "code",
   "execution_count": 2,
   "id": "9bce795b",
   "metadata": {},
   "outputs": [],
   "source": [
    "df_jacoco = pd.read_csv(\"data/jacoco_results.csv\")"
   ]
  },
  {
   "cell_type": "code",
   "execution_count": 3,
   "id": "bfa32b95",
   "metadata": {},
   "outputs": [
    {
     "data": {
      "text/html": [
       "<div>\n",
       "<style scoped>\n",
       "    .dataframe tbody tr th:only-of-type {\n",
       "        vertical-align: middle;\n",
       "    }\n",
       "\n",
       "    .dataframe tbody tr th {\n",
       "        vertical-align: top;\n",
       "    }\n",
       "\n",
       "    .dataframe thead th {\n",
       "        text-align: right;\n",
       "    }\n",
       "</style>\n",
       "<table border=\"1\" class=\"dataframe\">\n",
       "  <thead>\n",
       "    <tr style=\"text-align: right;\">\n",
       "      <th></th>\n",
       "      <th>repo_name</th>\n",
       "      <th>build_tool</th>\n",
       "      <th>success</th>\n",
       "      <th>fail</th>\n",
       "      <th>unclear</th>\n",
       "      <th>error</th>\n",
       "      <th>csv</th>\n",
       "      <th>no_code</th>\n",
       "      <th>no_test</th>\n",
       "      <th>no_csv</th>\n",
       "      <th>results_count</th>\n",
       "    </tr>\n",
       "  </thead>\n",
       "  <tbody>\n",
       "    <tr>\n",
       "      <th>0</th>\n",
       "      <td>cloudfoundry/uaa</td>\n",
       "      <td>gradle</td>\n",
       "      <td>0</td>\n",
       "      <td>0</td>\n",
       "      <td>0</td>\n",
       "      <td>1</td>\n",
       "      <td>0</td>\n",
       "      <td>0</td>\n",
       "      <td>0</td>\n",
       "      <td>0</td>\n",
       "      <td>1</td>\n",
       "    </tr>\n",
       "    <tr>\n",
       "      <th>1</th>\n",
       "      <td>mongodb/mongo-java-driver</td>\n",
       "      <td>gradle</td>\n",
       "      <td>0</td>\n",
       "      <td>0</td>\n",
       "      <td>0</td>\n",
       "      <td>1</td>\n",
       "      <td>0</td>\n",
       "      <td>0</td>\n",
       "      <td>0</td>\n",
       "      <td>0</td>\n",
       "      <td>1</td>\n",
       "    </tr>\n",
       "    <tr>\n",
       "      <th>2</th>\n",
       "      <td>marklogic/marklogic-data-hub</td>\n",
       "      <td>gradle</td>\n",
       "      <td>0</td>\n",
       "      <td>0</td>\n",
       "      <td>0</td>\n",
       "      <td>1</td>\n",
       "      <td>0</td>\n",
       "      <td>0</td>\n",
       "      <td>0</td>\n",
       "      <td>0</td>\n",
       "      <td>1</td>\n",
       "    </tr>\n",
       "    <tr>\n",
       "      <th>3</th>\n",
       "      <td>json-path/jsonpath</td>\n",
       "      <td>gradle</td>\n",
       "      <td>0</td>\n",
       "      <td>0</td>\n",
       "      <td>1</td>\n",
       "      <td>0</td>\n",
       "      <td>2</td>\n",
       "      <td>1</td>\n",
       "      <td>1</td>\n",
       "      <td>0</td>\n",
       "      <td>1</td>\n",
       "    </tr>\n",
       "    <tr>\n",
       "      <th>4</th>\n",
       "      <td>reactor/reactor-core</td>\n",
       "      <td>gradle</td>\n",
       "      <td>0</td>\n",
       "      <td>0</td>\n",
       "      <td>1</td>\n",
       "      <td>0</td>\n",
       "      <td>3</td>\n",
       "      <td>1</td>\n",
       "      <td>1</td>\n",
       "      <td>2</td>\n",
       "      <td>1</td>\n",
       "    </tr>\n",
       "  </tbody>\n",
       "</table>\n",
       "</div>"
      ],
      "text/plain": [
       "                      repo_name build_tool  success  fail  unclear  error  \\\n",
       "0              cloudfoundry/uaa     gradle        0     0        0      1   \n",
       "1     mongodb/mongo-java-driver     gradle        0     0        0      1   \n",
       "2  marklogic/marklogic-data-hub     gradle        0     0        0      1   \n",
       "3            json-path/jsonpath     gradle        0     0        1      0   \n",
       "4          reactor/reactor-core     gradle        0     0        1      0   \n",
       "\n",
       "   csv  no_code  no_test  no_csv  results_count  \n",
       "0    0        0        0       0              1  \n",
       "1    0        0        0       0              1  \n",
       "2    0        0        0       0              1  \n",
       "3    2        1        1       0              1  \n",
       "4    3        1        1       2              1  "
      ]
     },
     "execution_count": 3,
     "metadata": {},
     "output_type": "execute_result"
    }
   ],
   "source": [
    "df_jacoco['results_count'] = df_jacoco[['success', 'fail', 'error', 'unclear']].sum(axis=1)\n",
    "df_jacoco.head()"
   ]
  },
  {
   "cell_type": "code",
   "execution_count": 4,
   "id": "e88f7591",
   "metadata": {},
   "outputs": [],
   "source": [
    "repos_jacoco = df_jacoco['repo_name'].tolist()"
   ]
  },
  {
   "cell_type": "code",
   "execution_count": 5,
   "id": "f56ccef6",
   "metadata": {},
   "outputs": [
    {
     "data": {
      "text/html": [
       "<div>\n",
       "<style scoped>\n",
       "    .dataframe tbody tr th:only-of-type {\n",
       "        vertical-align: middle;\n",
       "    }\n",
       "\n",
       "    .dataframe tbody tr th {\n",
       "        vertical-align: top;\n",
       "    }\n",
       "\n",
       "    .dataframe thead th {\n",
       "        text-align: right;\n",
       "    }\n",
       "</style>\n",
       "<table border=\"1\" class=\"dataframe\">\n",
       "  <thead>\n",
       "    <tr style=\"text-align: right;\">\n",
       "      <th></th>\n",
       "      <th>repo_name</th>\n",
       "      <th>build_tool</th>\n",
       "      <th>last_commit_sha</th>\n",
       "      <th>success</th>\n",
       "      <th>fail</th>\n",
       "      <th>unclear</th>\n",
       "      <th>error</th>\n",
       "    </tr>\n",
       "  </thead>\n",
       "  <tbody>\n",
       "    <tr>\n",
       "      <th>0</th>\n",
       "      <td>joinfaces/joinfaces</td>\n",
       "      <td>gradle</td>\n",
       "      <td>6b379a0240fa3002c4321abc919e0d62fcc4164f</td>\n",
       "      <td>0</td>\n",
       "      <td>0</td>\n",
       "      <td>0</td>\n",
       "      <td>1</td>\n",
       "    </tr>\n",
       "    <tr>\n",
       "      <th>1</th>\n",
       "      <td>apereo/cas</td>\n",
       "      <td>gradle</td>\n",
       "      <td>32a5e5de26fd70c1229efe7d66676228c663d1fc</td>\n",
       "      <td>0</td>\n",
       "      <td>0</td>\n",
       "      <td>0</td>\n",
       "      <td>1</td>\n",
       "    </tr>\n",
       "    <tr>\n",
       "      <th>2</th>\n",
       "      <td>remkop/picocli</td>\n",
       "      <td>gradle</td>\n",
       "      <td>bd48d6f3934c25876931dce5fcc3677dbfc1f410</td>\n",
       "      <td>0</td>\n",
       "      <td>0</td>\n",
       "      <td>0</td>\n",
       "      <td>1</td>\n",
       "    </tr>\n",
       "    <tr>\n",
       "      <th>3</th>\n",
       "      <td>shedaniel/roughlyenoughitems</td>\n",
       "      <td>gradle</td>\n",
       "      <td>303fe1b4564b0f7df38df59453e761e4a279dea5</td>\n",
       "      <td>0</td>\n",
       "      <td>0</td>\n",
       "      <td>1</td>\n",
       "      <td>0</td>\n",
       "    </tr>\n",
       "    <tr>\n",
       "      <th>4</th>\n",
       "      <td>hortonworks/cloudbreak</td>\n",
       "      <td>gradle</td>\n",
       "      <td>ef36a65f738b4ebc9bf5d932133621ea085808b8</td>\n",
       "      <td>0</td>\n",
       "      <td>0</td>\n",
       "      <td>1</td>\n",
       "      <td>0</td>\n",
       "    </tr>\n",
       "  </tbody>\n",
       "</table>\n",
       "</div>"
      ],
      "text/plain": [
       "                      repo_name build_tool  \\\n",
       "0           joinfaces/joinfaces     gradle   \n",
       "1                    apereo/cas     gradle   \n",
       "2                remkop/picocli     gradle   \n",
       "3  shedaniel/roughlyenoughitems     gradle   \n",
       "4        hortonworks/cloudbreak     gradle   \n",
       "\n",
       "                            last_commit_sha  success  fail  unclear  error  \n",
       "0  6b379a0240fa3002c4321abc919e0d62fcc4164f        0     0        0      1  \n",
       "1  32a5e5de26fd70c1229efe7d66676228c663d1fc        0     0        0      1  \n",
       "2  bd48d6f3934c25876931dce5fcc3677dbfc1f410        0     0        0      1  \n",
       "3  303fe1b4564b0f7df38df59453e761e4a279dea5        0     0        1      0  \n",
       "4  ef36a65f738b4ebc9bf5d932133621ea085808b8        0     0        1      0  "
      ]
     },
     "execution_count": 5,
     "metadata": {},
     "output_type": "execute_result"
    }
   ],
   "source": [
    "df_builds = pd.read_csv(\"data/local_build_results.csv\")\n",
    "df_builds.head()"
   ]
  },
  {
   "cell_type": "code",
   "execution_count": 6,
   "id": "f9853194",
   "metadata": {},
   "outputs": [],
   "source": [
    "repos_success_local = df_builds[df_builds['success'] == 1]['repo_name'].tolist()"
   ]
  },
  {
   "cell_type": "code",
   "execution_count": 7,
   "id": "fad37401",
   "metadata": {},
   "outputs": [
    {
     "data": {
      "text/plain": [
       "659"
      ]
     },
     "execution_count": 7,
     "metadata": {},
     "output_type": "execute_result"
    }
   ],
   "source": [
    "len(repos_success_local)"
   ]
  },
  {
   "cell_type": "code",
   "execution_count": 8,
   "id": "25f7d4d4",
   "metadata": {},
   "outputs": [
    {
     "data": {
      "text/plain": [
       "['apache/logging-log4j2',\n",
       " 'allure-framework/allure2',\n",
       " 'mybatis/jpetstore-6',\n",
       " 'antlr/antlr4',\n",
       " 'mybatis/mybatis-3',\n",
       " 'apache/rocketmq',\n",
       " 'slimefun/slimefun4',\n",
       " 'cloudnetservice/cloudnet-v3',\n",
       " 'jenkins-infra/update-center2',\n",
       " 'edumips64/edumips64',\n",
       " 'junit-team/junit4']"
      ]
     },
     "execution_count": 8,
     "metadata": {},
     "output_type": "execute_result"
    }
   ],
   "source": [
    "list(set(repos_success_local) - set(repos_jacoco))"
   ]
  },
  {
   "cell_type": "code",
   "execution_count": 9,
   "id": "79ff9e65",
   "metadata": {},
   "outputs": [
    {
     "data": {
      "text/plain": [
       "['antlr/antlr',\n",
       " 'mybatis/jpetstore-',\n",
       " 'jenkins-infra/update-center',\n",
       " 'allure-framework/allure',\n",
       " 'slimefun/slimefun',\n",
       " 'mybatis/mybatis-',\n",
       " 'junit-team/junit',\n",
       " 'apache/logging-log4j',\n",
       " 'edumips64/edumips',\n",
       " 'cloudnetservice/cloudnet-v']"
      ]
     },
     "execution_count": 9,
     "metadata": {},
     "output_type": "execute_result"
    }
   ],
   "source": [
    "list(set(repos_jacoco) - set(repos_success_local))"
   ]
  },
  {
   "cell_type": "markdown",
   "id": "9aa4f39a",
   "metadata": {},
   "source": [
    "### Manually fix missing data from logs"
   ]
  },
  {
   "cell_type": "code",
   "execution_count": 10,
   "id": "d52235d1",
   "metadata": {},
   "outputs": [
    {
     "data": {
      "text/html": [
       "<div>\n",
       "<style scoped>\n",
       "    .dataframe tbody tr th:only-of-type {\n",
       "        vertical-align: middle;\n",
       "    }\n",
       "\n",
       "    .dataframe tbody tr th {\n",
       "        vertical-align: top;\n",
       "    }\n",
       "\n",
       "    .dataframe thead th {\n",
       "        text-align: right;\n",
       "    }\n",
       "</style>\n",
       "<table border=\"1\" class=\"dataframe\">\n",
       "  <thead>\n",
       "    <tr style=\"text-align: right;\">\n",
       "      <th></th>\n",
       "      <th>repo_name</th>\n",
       "      <th>build_tool</th>\n",
       "      <th>success</th>\n",
       "      <th>fail</th>\n",
       "      <th>unclear</th>\n",
       "      <th>error</th>\n",
       "      <th>csv</th>\n",
       "      <th>no_code</th>\n",
       "      <th>no_test</th>\n",
       "      <th>no_csv</th>\n",
       "      <th>results_count</th>\n",
       "    </tr>\n",
       "  </thead>\n",
       "  <tbody>\n",
       "  </tbody>\n",
       "</table>\n",
       "</div>"
      ],
      "text/plain": [
       "Empty DataFrame\n",
       "Columns: [repo_name, build_tool, success, fail, unclear, error, csv, no_code, no_test, no_csv, results_count]\n",
       "Index: []"
      ]
     },
     "execution_count": 10,
     "metadata": {},
     "output_type": "execute_result"
    }
   ],
   "source": [
    "df_jacoco[df_jacoco['repo_name'] == 'apache/rocketmq']"
   ]
  },
  {
   "cell_type": "code",
   "execution_count": 11,
   "id": "51da5d72",
   "metadata": {},
   "outputs": [],
   "source": [
    "df_jacoco.loc[-1] = ['apache/rocketmq', 'maven', 0, 0, 0, 1, 0, 0, 0, 0, 1]\n",
    "df_jacoco.index = df_jacoco.index + 1  # shifting index\n",
    "df_jacoco = df_jacoco.sort_index(axis=0, ascending=True)  # sorting by index"
   ]
  },
  {
   "cell_type": "code",
   "execution_count": 12,
   "id": "9f9da59d",
   "metadata": {},
   "outputs": [
    {
     "data": {
      "text/html": [
       "<div>\n",
       "<style scoped>\n",
       "    .dataframe tbody tr th:only-of-type {\n",
       "        vertical-align: middle;\n",
       "    }\n",
       "\n",
       "    .dataframe tbody tr th {\n",
       "        vertical-align: top;\n",
       "    }\n",
       "\n",
       "    .dataframe thead th {\n",
       "        text-align: right;\n",
       "    }\n",
       "</style>\n",
       "<table border=\"1\" class=\"dataframe\">\n",
       "  <thead>\n",
       "    <tr style=\"text-align: right;\">\n",
       "      <th></th>\n",
       "      <th>repo_name</th>\n",
       "      <th>build_tool</th>\n",
       "      <th>success</th>\n",
       "      <th>fail</th>\n",
       "      <th>unclear</th>\n",
       "      <th>error</th>\n",
       "      <th>csv</th>\n",
       "      <th>no_code</th>\n",
       "      <th>no_test</th>\n",
       "      <th>no_csv</th>\n",
       "      <th>results_count</th>\n",
       "    </tr>\n",
       "  </thead>\n",
       "  <tbody>\n",
       "    <tr>\n",
       "      <th>0</th>\n",
       "      <td>apache/rocketmq</td>\n",
       "      <td>maven</td>\n",
       "      <td>0</td>\n",
       "      <td>0</td>\n",
       "      <td>0</td>\n",
       "      <td>1</td>\n",
       "      <td>0</td>\n",
       "      <td>0</td>\n",
       "      <td>0</td>\n",
       "      <td>0</td>\n",
       "      <td>1</td>\n",
       "    </tr>\n",
       "  </tbody>\n",
       "</table>\n",
       "</div>"
      ],
      "text/plain": [
       "         repo_name build_tool  success  fail  unclear  error  csv  no_code  \\\n",
       "0  apache/rocketmq      maven        0     0        0      1    0        0   \n",
       "\n",
       "   no_test  no_csv  results_count  \n",
       "0        0       0              1  "
      ]
     },
     "execution_count": 12,
     "metadata": {},
     "output_type": "execute_result"
    }
   ],
   "source": [
    "df_jacoco[df_jacoco['repo_name'] == 'apache/rocketmq']"
   ]
  },
  {
   "cell_type": "markdown",
   "id": "317cd95f",
   "metadata": {},
   "source": [
    "### Coverage results"
   ]
  },
  {
   "cell_type": "code",
   "execution_count": 13,
   "id": "b47c6579",
   "metadata": {},
   "outputs": [
    {
     "data": {
      "text/html": [
       "<div>\n",
       "<style scoped>\n",
       "    .dataframe tbody tr th:only-of-type {\n",
       "        vertical-align: middle;\n",
       "    }\n",
       "\n",
       "    .dataframe tbody tr th {\n",
       "        vertical-align: top;\n",
       "    }\n",
       "\n",
       "    .dataframe thead th {\n",
       "        text-align: right;\n",
       "    }\n",
       "</style>\n",
       "<table border=\"1\" class=\"dataframe\">\n",
       "  <thead>\n",
       "    <tr style=\"text-align: right;\">\n",
       "      <th></th>\n",
       "      <th>repo_name</th>\n",
       "      <th>build_tool</th>\n",
       "      <th>path</th>\n",
       "      <th>instruction_missed</th>\n",
       "      <th>instruction_covered</th>\n",
       "      <th>branch_missed</th>\n",
       "      <th>branch_covered</th>\n",
       "      <th>line_missed</th>\n",
       "      <th>line_covered</th>\n",
       "      <th>complexity_missed</th>\n",
       "      <th>complexity_covered</th>\n",
       "      <th>method_missed</th>\n",
       "      <th>method_covered</th>\n",
       "    </tr>\n",
       "  </thead>\n",
       "  <tbody>\n",
       "    <tr>\n",
       "      <th>0</th>\n",
       "      <td>apache/syncope</td>\n",
       "      <td>maven</td>\n",
       "      <td>apache_syncope/ext/elasticsearch/persistence-j...</td>\n",
       "      <td>677</td>\n",
       "      <td>475</td>\n",
       "      <td>72</td>\n",
       "      <td>39</td>\n",
       "      <td>151</td>\n",
       "      <td>110</td>\n",
       "      <td>80</td>\n",
       "      <td>24</td>\n",
       "      <td>31</td>\n",
       "      <td>12</td>\n",
       "    </tr>\n",
       "    <tr>\n",
       "      <th>1</th>\n",
       "      <td>iluwatar/java-design-patterns</td>\n",
       "      <td>maven</td>\n",
       "      <td>iluwatar_java-design-patterns/object-pool\\n</td>\n",
       "      <td>6</td>\n",
       "      <td>192</td>\n",
       "      <td>0</td>\n",
       "      <td>2</td>\n",
       "      <td>3</td>\n",
       "      <td>46</td>\n",
       "      <td>1</td>\n",
       "      <td>13</td>\n",
       "      <td>1</td>\n",
       "      <td>12</td>\n",
       "    </tr>\n",
       "    <tr>\n",
       "      <th>2</th>\n",
       "      <td>apache/jena</td>\n",
       "      <td>maven</td>\n",
       "      <td>apache_jena/jena-db/jena-tdb2\\n</td>\n",
       "      <td>7728</td>\n",
       "      <td>13683</td>\n",
       "      <td>920</td>\n",
       "      <td>897</td>\n",
       "      <td>1845</td>\n",
       "      <td>3264</td>\n",
       "      <td>1074</td>\n",
       "      <td>1130</td>\n",
       "      <td>463</td>\n",
       "      <td>820</td>\n",
       "    </tr>\n",
       "    <tr>\n",
       "      <th>3</th>\n",
       "      <td>iluwatar/java-design-patterns</td>\n",
       "      <td>maven</td>\n",
       "      <td>iluwatar_java-design-patterns/fanout-fanin\\n</td>\n",
       "      <td>13</td>\n",
       "      <td>154</td>\n",
       "      <td>0</td>\n",
       "      <td>0</td>\n",
       "      <td>5</td>\n",
       "      <td>30</td>\n",
       "      <td>2</td>\n",
       "      <td>11</td>\n",
       "      <td>2</td>\n",
       "      <td>11</td>\n",
       "    </tr>\n",
       "    <tr>\n",
       "      <th>4</th>\n",
       "      <td>knowm/xchange</td>\n",
       "      <td>maven</td>\n",
       "      <td>knowm_xchange/xchange-tradeogre\\n</td>\n",
       "      <td>1807</td>\n",
       "      <td>29</td>\n",
       "      <td>234</td>\n",
       "      <td>0</td>\n",
       "      <td>164</td>\n",
       "      <td>3</td>\n",
       "      <td>238</td>\n",
       "      <td>2</td>\n",
       "      <td>121</td>\n",
       "      <td>2</td>\n",
       "    </tr>\n",
       "  </tbody>\n",
       "</table>\n",
       "</div>"
      ],
      "text/plain": [
       "                       repo_name build_tool  \\\n",
       "0                 apache/syncope      maven   \n",
       "1  iluwatar/java-design-patterns      maven   \n",
       "2                    apache/jena      maven   \n",
       "3  iluwatar/java-design-patterns      maven   \n",
       "4                  knowm/xchange      maven   \n",
       "\n",
       "                                                path  instruction_missed  \\\n",
       "0  apache_syncope/ext/elasticsearch/persistence-j...                 677   \n",
       "1        iluwatar_java-design-patterns/object-pool\\n                   6   \n",
       "2                    apache_jena/jena-db/jena-tdb2\\n                7728   \n",
       "3       iluwatar_java-design-patterns/fanout-fanin\\n                  13   \n",
       "4                  knowm_xchange/xchange-tradeogre\\n                1807   \n",
       "\n",
       "   instruction_covered  branch_missed  branch_covered  line_missed  \\\n",
       "0                  475             72              39          151   \n",
       "1                  192              0               2            3   \n",
       "2                13683            920             897         1845   \n",
       "3                  154              0               0            5   \n",
       "4                   29            234               0          164   \n",
       "\n",
       "   line_covered  complexity_missed  complexity_covered  method_missed  \\\n",
       "0           110                 80                  24             31   \n",
       "1            46                  1                  13              1   \n",
       "2          3264               1074                1130            463   \n",
       "3            30                  2                  11              2   \n",
       "4             3                238                   2            121   \n",
       "\n",
       "   method_covered  \n",
       "0              12  \n",
       "1              12  \n",
       "2             820  \n",
       "3              11  \n",
       "4               2  "
      ]
     },
     "execution_count": 13,
     "metadata": {},
     "output_type": "execute_result"
    }
   ],
   "source": [
    "df_coverage = pd.read_csv(\"data/jacoco_coverage_results.csv\")\n",
    "df_coverage.head()"
   ]
  },
  {
   "cell_type": "code",
   "execution_count": 14,
   "id": "825dc7e1",
   "metadata": {},
   "outputs": [
    {
     "data": {
      "text/html": [
       "<div>\n",
       "<style scoped>\n",
       "    .dataframe tbody tr th:only-of-type {\n",
       "        vertical-align: middle;\n",
       "    }\n",
       "\n",
       "    .dataframe tbody tr th {\n",
       "        vertical-align: top;\n",
       "    }\n",
       "\n",
       "    .dataframe thead th {\n",
       "        text-align: right;\n",
       "    }\n",
       "</style>\n",
       "<table border=\"1\" class=\"dataframe\">\n",
       "  <thead>\n",
       "    <tr style=\"text-align: right;\">\n",
       "      <th></th>\n",
       "      <th>repo_name</th>\n",
       "      <th>coverage</th>\n",
       "    </tr>\n",
       "  </thead>\n",
       "  <tbody>\n",
       "    <tr>\n",
       "      <th>0</th>\n",
       "      <td>actiontech/dble</td>\n",
       "      <td>8.02</td>\n",
       "    </tr>\n",
       "    <tr>\n",
       "      <th>1</th>\n",
       "      <td>adobe-consulting-services/acs-aem-commons</td>\n",
       "      <td>48.47</td>\n",
       "    </tr>\n",
       "    <tr>\n",
       "      <th>2</th>\n",
       "      <td>adorsys/keycloak-config-cli</td>\n",
       "      <td>4.71</td>\n",
       "    </tr>\n",
       "    <tr>\n",
       "      <th>3</th>\n",
       "      <td>alibaba/easyexcel</td>\n",
       "      <td>36.06</td>\n",
       "    </tr>\n",
       "    <tr>\n",
       "      <th>4</th>\n",
       "      <td>alibaba/nacos</td>\n",
       "      <td>11.13</td>\n",
       "    </tr>\n",
       "  </tbody>\n",
       "</table>\n",
       "</div>"
      ],
      "text/plain": [
       "                                   repo_name  coverage\n",
       "0                            actiontech/dble      8.02\n",
       "1  adobe-consulting-services/acs-aem-commons     48.47\n",
       "2                adorsys/keycloak-config-cli      4.71\n",
       "3                          alibaba/easyexcel     36.06\n",
       "4                              alibaba/nacos     11.13"
      ]
     },
     "execution_count": 14,
     "metadata": {},
     "output_type": "execute_result"
    }
   ],
   "source": [
    "coverages = df_coverage.groupby(by=['repo_name']).sum()['branch_covered']*100 / (df_coverage.groupby(by=['repo_name']).sum()['branch_missed'] + df_coverage.groupby(by=['repo_name']).sum()['branch_covered'])\n",
    "coverage_df = pd.DataFrame(coverages, columns=['coverage'])\n",
    "coverage_df.reset_index(level=0, inplace=True)\n",
    "coverage_df['coverage'] = coverage_df['coverage'].apply(lambda x: round(x, 2))\n",
    "coverage_df.head()"
   ]
  },
  {
   "cell_type": "code",
   "execution_count": 15,
   "id": "ef17dab8",
   "metadata": {},
   "outputs": [
    {
     "name": "stdout",
     "output_type": "stream",
     "text": [
      "There are NaN values, I need to remove\n"
     ]
    }
   ],
   "source": [
    "if np.isnan(coverage_df['coverage']).any():\n",
    "  print(\"There are NaN values, I need to remove\")"
   ]
  },
  {
   "cell_type": "code",
   "execution_count": 16,
   "id": "5e7b454f",
   "metadata": {},
   "outputs": [
    {
     "data": {
      "text/html": [
       "<div>\n",
       "<style scoped>\n",
       "    .dataframe tbody tr th:only-of-type {\n",
       "        vertical-align: middle;\n",
       "    }\n",
       "\n",
       "    .dataframe tbody tr th {\n",
       "        vertical-align: top;\n",
       "    }\n",
       "\n",
       "    .dataframe thead th {\n",
       "        text-align: right;\n",
       "    }\n",
       "</style>\n",
       "<table border=\"1\" class=\"dataframe\">\n",
       "  <thead>\n",
       "    <tr style=\"text-align: right;\">\n",
       "      <th></th>\n",
       "      <th>repo_name</th>\n",
       "      <th>coverage</th>\n",
       "    </tr>\n",
       "  </thead>\n",
       "  <tbody>\n",
       "    <tr>\n",
       "      <th>25</th>\n",
       "      <td>apache/maven-surefire</td>\n",
       "      <td>NaN</td>\n",
       "    </tr>\n",
       "    <tr>\n",
       "      <th>94</th>\n",
       "      <td>fabric8io/docker-maven-plugin</td>\n",
       "      <td>NaN</td>\n",
       "    </tr>\n",
       "  </tbody>\n",
       "</table>\n",
       "</div>"
      ],
      "text/plain": [
       "                        repo_name  coverage\n",
       "25          apache/maven-surefire       NaN\n",
       "94  fabric8io/docker-maven-plugin       NaN"
      ]
     },
     "execution_count": 16,
     "metadata": {},
     "output_type": "execute_result"
    }
   ],
   "source": [
    "coverage_df[coverage_df['coverage'].isna()]"
   ]
  },
  {
   "cell_type": "code",
   "execution_count": 17,
   "id": "7b94297b",
   "metadata": {},
   "outputs": [
    {
     "data": {
      "text/plain": [
       "array(['apache_maven-surefire/surefire-its/src/test/resources/surefire-257-rerunningTests/module1\\n',\n",
       "       'apache_maven-surefire/surefire-its/src/test/resources/surefire-257-rerunningTests/module2\\n'],\n",
       "      dtype=object)"
      ]
     },
     "execution_count": 17,
     "metadata": {},
     "output_type": "execute_result"
    }
   ],
   "source": [
    "df_coverage[df_coverage['repo_name'] == 'apache/maven-surefire']['path'].values"
   ]
  },
  {
   "cell_type": "code",
   "execution_count": 18,
   "id": "f1776df5",
   "metadata": {},
   "outputs": [
    {
     "data": {
      "text/plain": [
       "array(['fabric8io_docker-maven-plugin/samples/helloworld\\n',\n",
       "       'fabric8io_docker-maven-plugin/it/helloworld\\n'], dtype=object)"
      ]
     },
     "execution_count": 18,
     "metadata": {},
     "output_type": "execute_result"
    }
   ],
   "source": [
    "df_coverage[df_coverage['repo_name'] == 'fabric8io/docker-maven-plugin']['path'].values"
   ]
  },
  {
   "cell_type": "code",
   "execution_count": 19,
   "id": "847f287e",
   "metadata": {},
   "outputs": [
    {
     "data": {
      "text/html": [
       "<div>\n",
       "<style scoped>\n",
       "    .dataframe tbody tr th:only-of-type {\n",
       "        vertical-align: middle;\n",
       "    }\n",
       "\n",
       "    .dataframe tbody tr th {\n",
       "        vertical-align: top;\n",
       "    }\n",
       "\n",
       "    .dataframe thead th {\n",
       "        text-align: right;\n",
       "    }\n",
       "</style>\n",
       "<table border=\"1\" class=\"dataframe\">\n",
       "  <thead>\n",
       "    <tr style=\"text-align: right;\">\n",
       "      <th></th>\n",
       "      <th>repo_name</th>\n",
       "      <th>build_tool</th>\n",
       "      <th>success</th>\n",
       "      <th>fail</th>\n",
       "      <th>unclear</th>\n",
       "      <th>error</th>\n",
       "      <th>csv</th>\n",
       "      <th>no_code</th>\n",
       "      <th>no_test</th>\n",
       "      <th>no_csv</th>\n",
       "      <th>results_count</th>\n",
       "    </tr>\n",
       "  </thead>\n",
       "  <tbody>\n",
       "    <tr>\n",
       "      <th>604</th>\n",
       "      <td>apache/maven-surefire</td>\n",
       "      <td>maven</td>\n",
       "      <td>4</td>\n",
       "      <td>20</td>\n",
       "      <td>23</td>\n",
       "      <td>0</td>\n",
       "      <td>2</td>\n",
       "      <td>252</td>\n",
       "      <td>13</td>\n",
       "      <td>2</td>\n",
       "      <td>47</td>\n",
       "    </tr>\n",
       "  </tbody>\n",
       "</table>\n",
       "</div>"
      ],
      "text/plain": [
       "                 repo_name build_tool  success  fail  unclear  error  csv  \\\n",
       "604  apache/maven-surefire      maven        4    20       23      0    2   \n",
       "\n",
       "     no_code  no_test  no_csv  results_count  \n",
       "604      252       13       2             47  "
      ]
     },
     "execution_count": 19,
     "metadata": {},
     "output_type": "execute_result"
    }
   ],
   "source": [
    "df_jacoco[df_jacoco['repo_name'] == 'apache/maven-surefire']"
   ]
  },
  {
   "cell_type": "code",
   "execution_count": 20,
   "id": "f4372e4c",
   "metadata": {},
   "outputs": [
    {
     "data": {
      "text/html": [
       "<div>\n",
       "<style scoped>\n",
       "    .dataframe tbody tr th:only-of-type {\n",
       "        vertical-align: middle;\n",
       "    }\n",
       "\n",
       "    .dataframe tbody tr th {\n",
       "        vertical-align: top;\n",
       "    }\n",
       "\n",
       "    .dataframe thead th {\n",
       "        text-align: right;\n",
       "    }\n",
       "</style>\n",
       "<table border=\"1\" class=\"dataframe\">\n",
       "  <thead>\n",
       "    <tr style=\"text-align: right;\">\n",
       "      <th></th>\n",
       "      <th>repo_name</th>\n",
       "      <th>build_tool</th>\n",
       "      <th>success</th>\n",
       "      <th>fail</th>\n",
       "      <th>unclear</th>\n",
       "      <th>error</th>\n",
       "      <th>csv</th>\n",
       "      <th>no_code</th>\n",
       "      <th>no_test</th>\n",
       "      <th>no_csv</th>\n",
       "      <th>results_count</th>\n",
       "    </tr>\n",
       "  </thead>\n",
       "  <tbody>\n",
       "    <tr>\n",
       "      <th>604</th>\n",
       "      <td>apache/maven-surefire</td>\n",
       "      <td>maven</td>\n",
       "      <td>4</td>\n",
       "      <td>20</td>\n",
       "      <td>23</td>\n",
       "      <td>0</td>\n",
       "      <td>0</td>\n",
       "      <td>252</td>\n",
       "      <td>13</td>\n",
       "      <td>4</td>\n",
       "      <td>47</td>\n",
       "    </tr>\n",
       "  </tbody>\n",
       "</table>\n",
       "</div>"
      ],
      "text/plain": [
       "                 repo_name build_tool  success  fail  unclear  error  csv  \\\n",
       "604  apache/maven-surefire      maven        4    20       23      0    0   \n",
       "\n",
       "     no_code  no_test  no_csv  results_count  \n",
       "604      252       13       4             47  "
      ]
     },
     "execution_count": 20,
     "metadata": {},
     "output_type": "execute_result"
    }
   ],
   "source": [
    "df_jacoco.loc[df_jacoco['repo_name'] == 'apache/maven-surefire', 'no_csv'] = 4\n",
    "df_jacoco.loc[df_jacoco['repo_name'] == 'apache/maven-surefire', 'csv'] = 0\n",
    "df_jacoco[df_jacoco['repo_name'] == 'apache/maven-surefire']"
   ]
  },
  {
   "cell_type": "code",
   "execution_count": 21,
   "id": "99ee4964",
   "metadata": {},
   "outputs": [
    {
     "data": {
      "text/html": [
       "<div>\n",
       "<style scoped>\n",
       "    .dataframe tbody tr th:only-of-type {\n",
       "        vertical-align: middle;\n",
       "    }\n",
       "\n",
       "    .dataframe tbody tr th {\n",
       "        vertical-align: top;\n",
       "    }\n",
       "\n",
       "    .dataframe thead th {\n",
       "        text-align: right;\n",
       "    }\n",
       "</style>\n",
       "<table border=\"1\" class=\"dataframe\">\n",
       "  <thead>\n",
       "    <tr style=\"text-align: right;\">\n",
       "      <th></th>\n",
       "      <th>repo_name</th>\n",
       "      <th>build_tool</th>\n",
       "      <th>success</th>\n",
       "      <th>fail</th>\n",
       "      <th>unclear</th>\n",
       "      <th>error</th>\n",
       "      <th>csv</th>\n",
       "      <th>no_code</th>\n",
       "      <th>no_test</th>\n",
       "      <th>no_csv</th>\n",
       "      <th>results_count</th>\n",
       "    </tr>\n",
       "  </thead>\n",
       "  <tbody>\n",
       "    <tr>\n",
       "      <th>436</th>\n",
       "      <td>fabric8io/docker-maven-plugin</td>\n",
       "      <td>maven</td>\n",
       "      <td>3</td>\n",
       "      <td>0</td>\n",
       "      <td>1</td>\n",
       "      <td>0</td>\n",
       "      <td>2</td>\n",
       "      <td>23</td>\n",
       "      <td>16</td>\n",
       "      <td>1</td>\n",
       "      <td>4</td>\n",
       "    </tr>\n",
       "  </tbody>\n",
       "</table>\n",
       "</div>"
      ],
      "text/plain": [
       "                         repo_name build_tool  success  fail  unclear  error  \\\n",
       "436  fabric8io/docker-maven-plugin      maven        3     0        1      0   \n",
       "\n",
       "     csv  no_code  no_test  no_csv  results_count  \n",
       "436    2       23       16       1              4  "
      ]
     },
     "execution_count": 21,
     "metadata": {},
     "output_type": "execute_result"
    }
   ],
   "source": [
    "df_jacoco[df_jacoco['repo_name'] == 'fabric8io/docker-maven-plugin']"
   ]
  },
  {
   "cell_type": "code",
   "execution_count": 22,
   "id": "31f83dba",
   "metadata": {},
   "outputs": [
    {
     "data": {
      "text/html": [
       "<div>\n",
       "<style scoped>\n",
       "    .dataframe tbody tr th:only-of-type {\n",
       "        vertical-align: middle;\n",
       "    }\n",
       "\n",
       "    .dataframe tbody tr th {\n",
       "        vertical-align: top;\n",
       "    }\n",
       "\n",
       "    .dataframe thead th {\n",
       "        text-align: right;\n",
       "    }\n",
       "</style>\n",
       "<table border=\"1\" class=\"dataframe\">\n",
       "  <thead>\n",
       "    <tr style=\"text-align: right;\">\n",
       "      <th></th>\n",
       "      <th>repo_name</th>\n",
       "      <th>build_tool</th>\n",
       "      <th>success</th>\n",
       "      <th>fail</th>\n",
       "      <th>unclear</th>\n",
       "      <th>error</th>\n",
       "      <th>csv</th>\n",
       "      <th>no_code</th>\n",
       "      <th>no_test</th>\n",
       "      <th>no_csv</th>\n",
       "      <th>results_count</th>\n",
       "    </tr>\n",
       "  </thead>\n",
       "  <tbody>\n",
       "    <tr>\n",
       "      <th>436</th>\n",
       "      <td>fabric8io/docker-maven-plugin</td>\n",
       "      <td>maven</td>\n",
       "      <td>3</td>\n",
       "      <td>0</td>\n",
       "      <td>1</td>\n",
       "      <td>0</td>\n",
       "      <td>0</td>\n",
       "      <td>23</td>\n",
       "      <td>16</td>\n",
       "      <td>3</td>\n",
       "      <td>4</td>\n",
       "    </tr>\n",
       "  </tbody>\n",
       "</table>\n",
       "</div>"
      ],
      "text/plain": [
       "                         repo_name build_tool  success  fail  unclear  error  \\\n",
       "436  fabric8io/docker-maven-plugin      maven        3     0        1      0   \n",
       "\n",
       "     csv  no_code  no_test  no_csv  results_count  \n",
       "436    0       23       16       3              4  "
      ]
     },
     "execution_count": 22,
     "metadata": {},
     "output_type": "execute_result"
    }
   ],
   "source": [
    "df_jacoco.loc[df_jacoco['repo_name'] == 'fabric8io/docker-maven-plugin', 'no_csv'] = 3\n",
    "df_jacoco.loc[df_jacoco['repo_name'] == 'fabric8io/docker-maven-plugin', 'csv'] = 0\n",
    "df_jacoco[df_jacoco['repo_name'] == 'fabric8io/docker-maven-plugin']"
   ]
  },
  {
   "cell_type": "code",
   "execution_count": 23,
   "id": "3aad1bd5",
   "metadata": {},
   "outputs": [
    {
     "data": {
      "text/plain": [
       "310"
      ]
     },
     "execution_count": 23,
     "metadata": {},
     "output_type": "execute_result"
    }
   ],
   "source": [
    "coverage_df = coverage_df.drop([25, 94], axis=0)\n",
    "coverage_df.shape[0]"
   ]
  },
  {
   "cell_type": "code",
   "execution_count": 24,
   "id": "6b8b285d",
   "metadata": {},
   "outputs": [
    {
     "data": {
      "text/html": [
       "<div>\n",
       "<style scoped>\n",
       "    .dataframe tbody tr th:only-of-type {\n",
       "        vertical-align: middle;\n",
       "    }\n",
       "\n",
       "    .dataframe tbody tr th {\n",
       "        vertical-align: top;\n",
       "    }\n",
       "\n",
       "    .dataframe thead th {\n",
       "        text-align: right;\n",
       "    }\n",
       "</style>\n",
       "<table border=\"1\" class=\"dataframe\">\n",
       "  <thead>\n",
       "    <tr style=\"text-align: right;\">\n",
       "      <th></th>\n",
       "      <th>repo_name</th>\n",
       "      <th>coverage</th>\n",
       "    </tr>\n",
       "  </thead>\n",
       "  <tbody>\n",
       "    <tr>\n",
       "      <th>78</th>\n",
       "      <td>docker-java/docker-java</td>\n",
       "      <td>0.0</td>\n",
       "    </tr>\n",
       "    <tr>\n",
       "      <th>82</th>\n",
       "      <td>eclipse-ee4j/glassfish</td>\n",
       "      <td>0.0</td>\n",
       "    </tr>\n",
       "    <tr>\n",
       "      <th>113</th>\n",
       "      <td>gwtmaterialdesign/gwt-material</td>\n",
       "      <td>0.0</td>\n",
       "    </tr>\n",
       "    <tr>\n",
       "      <th>149</th>\n",
       "      <td>jensgerdes/sonar-pmd</td>\n",
       "      <td>0.0</td>\n",
       "    </tr>\n",
       "    <tr>\n",
       "      <th>182</th>\n",
       "      <td>morphiaorg/morphia</td>\n",
       "      <td>0.0</td>\n",
       "    </tr>\n",
       "    <tr>\n",
       "      <th>195</th>\n",
       "      <td>netflix/astyanax</td>\n",
       "      <td>0.0</td>\n",
       "    </tr>\n",
       "    <tr>\n",
       "      <th>201</th>\n",
       "      <td>nlpchina/elasticsearch-sql</td>\n",
       "      <td>0.0</td>\n",
       "    </tr>\n",
       "    <tr>\n",
       "      <th>298</th>\n",
       "      <td>wildfly/quickstart</td>\n",
       "      <td>0.0</td>\n",
       "    </tr>\n",
       "  </tbody>\n",
       "</table>\n",
       "</div>"
      ],
      "text/plain": [
       "                          repo_name  coverage\n",
       "78          docker-java/docker-java       0.0\n",
       "82           eclipse-ee4j/glassfish       0.0\n",
       "113  gwtmaterialdesign/gwt-material       0.0\n",
       "149            jensgerdes/sonar-pmd       0.0\n",
       "182              morphiaorg/morphia       0.0\n",
       "195                netflix/astyanax       0.0\n",
       "201      nlpchina/elasticsearch-sql       0.0\n",
       "298              wildfly/quickstart       0.0"
      ]
     },
     "execution_count": 24,
     "metadata": {},
     "output_type": "execute_result"
    }
   ],
   "source": [
    "coverage_df[coverage_df['coverage'] == 0]"
   ]
  },
  {
   "cell_type": "code",
   "execution_count": 25,
   "id": "511fb479",
   "metadata": {},
   "outputs": [
    {
     "name": "stdout",
     "output_type": "stream",
     "text": [
      "['ker-java_docker-java/docker-java-api\\n']\n",
      "['ipse-ee4j_glassfish/appserver/tests/appserv-tests/devtests/web/ha/cluster-tests/simple-failover-modified-attribute\\n'\n",
      " 'ipse-ee4j_glassfish/appserver/tests/appserv-tests/devtests/web/ha/cluster-tests/simple-failover-modified-session\\n'\n",
      " 'ipse-ee4j_glassfish/appserver/tests/appserv-tests/devtests/ejb/ee/cluster-tests/method-checkpoint\\n'\n",
      " 'ipse-ee4j_glassfish/appserver/tests/appserv-tests/devtests/ejb/ee/cluster-tests/simple-failover\\n'\n",
      " 'ipse-ee4j_glassfish/appserver/tests/appserv-tests/devtests/ejb/ee/cluster-tests/multi-restart\\n'\n",
      " 'ipse-ee4j_glassfish/appserver/tests/appserv-tests/devtests/ejb/ee/cluster-tests/instance-restart-test\\n'\n",
      " 'ipse-ee4j_glassfish/appserver/tests/appserv-tests/devtests/web/ha/cluster-tests/simple-failover\\n'\n",
      " 'ipse-ee4j_glassfish/appserver/tests/appserv-tests/devtests/ejb/ee/cluster-tests/asynctest\\n'\n",
      " 'ipse-ee4j_glassfish/appserver/tests/appserv-tests/devtests/ejb/ee/cluster-tests/ha-web\\n'\n",
      " 'ipse-ee4j_glassfish/appserver/tests/appserv-tests/devtests/web/ha/cluster-tests/ha-web\\n']\n",
      "['gwtmaterialdesign_gwt-material/gwt-material\\n']\n",
      "['jensgerdes_sonar-pmd/integration-test\\n']\n",
      "['morphiaorg_morphia/kotlin\\n']\n",
      "['tflix_astyanax/astyanax-test\\n']\n",
      "['hina_elasticsearch-sql\\n' 'hina_elasticsearch-sql\\n']\n",
      "['wildfly_quickstart/spring-kitchensink-basic\\n'\n",
      " 'wildfly_quickstart/helloworld-ws\\n'\n",
      " 'wildfly_quickstart/spring-kitchensink-springmvctest\\n'\n",
      " 'wildfly_quickstart/tasks-jsf\\n' 'wildfly_quickstart/cmt\\n']\n"
     ]
    }
   ],
   "source": [
    "print(df_coverage[df_coverage['repo_name'] == 'docker-java/docker-java']['path'].values)\n",
    "print(df_coverage[df_coverage['repo_name'] == 'eclipse-ee4j/glassfish']['path'].values)\n",
    "print(df_coverage[df_coverage['repo_name'] == 'gwtmaterialdesign/gwt-material']['path'].values)\n",
    "print(df_coverage[df_coverage['repo_name'] == 'jensgerdes/sonar-pmd']['path'].values)\n",
    "print(df_coverage[df_coverage['repo_name'] == 'morphiaorg/morphia']['path'].values)\n",
    "print(df_coverage[df_coverage['repo_name'] == 'netflix/astyanax']['path'].values)\n",
    "print(df_coverage[df_coverage['repo_name'] == 'nlpchina/elasticsearch-sql']['path'].values)\n",
    "print(df_coverage[df_coverage['repo_name'] == 'wildfly/quickstart']['path'].values)"
   ]
  },
  {
   "cell_type": "code",
   "execution_count": 26,
   "id": "bd3e8f0f",
   "metadata": {},
   "outputs": [
    {
     "name": "stdout",
     "output_type": "stream",
     "text": [
      "0\n",
      "0\n",
      "8\n",
      "4\n"
     ]
    }
   ],
   "source": [
    "print((coverage_df['coverage'] < 0).sum())\n",
    "print((coverage_df['coverage'] > 100).sum())\n",
    "print((coverage_df['coverage'] == 0).sum())\n",
    "print((coverage_df['coverage'] == 100).sum())"
   ]
  },
  {
   "cell_type": "code",
   "execution_count": 27,
   "id": "f3c08708",
   "metadata": {},
   "outputs": [
    {
     "name": "stdout",
     "output_type": "stream",
     "text": [
      "9\n",
      "31\n",
      "58\n",
      "129\n",
      "83\n"
     ]
    }
   ],
   "source": [
    "print((coverage_df['coverage'] >= 95).sum())\n",
    "print(((coverage_df['coverage'] >= 80) & (coverage_df['coverage'] < 95)).sum())\n",
    "print(((coverage_df['coverage'] >= 60) & (coverage_df['coverage'] < 80)).sum())\n",
    "print(((coverage_df['coverage'] >= 20) & (coverage_df['coverage'] < 60)).sum())\n",
    "print(((coverage_df['coverage'] >= 0) & (coverage_df['coverage'] < 20)).sum())"
   ]
  },
  {
   "cell_type": "code",
   "execution_count": 28,
   "id": "80a94ad4",
   "metadata": {},
   "outputs": [
    {
     "name": "stdout",
     "output_type": "stream",
     "text": [
      "2.9%\n",
      "10.0%\n",
      "18.7%\n",
      "41.6%\n",
      "26.8%\n"
     ]
    }
   ],
   "source": [
    "print(\"{:.1f}%\".format((coverage_df['coverage'] >= 95).sum() * 100 / coverage_df.shape[0]))\n",
    "print(\"{:.1f}%\".format(((coverage_df['coverage'] >= 80) & (coverage_df['coverage'] < 95)).sum() * 100 / coverage_df.shape[0]))\n",
    "print(\"{:.1f}%\".format(((coverage_df['coverage'] >= 60) & (coverage_df['coverage'] < 80)).sum() * 100 / coverage_df.shape[0]))\n",
    "print(\"{:.1f}%\".format(((coverage_df['coverage'] >= 20) & (coverage_df['coverage'] < 60)).sum() * 100 / coverage_df.shape[0]))\n",
    "print(\"{:.1f}%\".format(((coverage_df['coverage'] >= 0) & (coverage_df['coverage'] < 20)).sum() * 100 / coverage_df.shape[0]))"
   ]
  },
  {
   "cell_type": "code",
   "execution_count": 29,
   "id": "29f7b3fa",
   "metadata": {},
   "outputs": [
    {
     "data": {
      "image/png": "[encoded data removed]",
      "text/plain": [
       "<Figure size 400x300 with 1 Axes>"
      ]
     },
     "metadata": {
      "needs_background": "light"
     },
     "output_type": "display_data"
    }
   ],
   "source": [
    "plt.rcParams.update({'figure.figsize':(4,3), 'figure.dpi':100})\n",
    "fig1, ax1 = plt.subplots()\n",
    "ax1.set_ylabel('Coverage %')\n",
    "ax1.boxplot(coverage_df['coverage'])\n",
    "plt.show()"
   ]
  },
  {
   "cell_type": "code",
   "execution_count": 30,
   "id": "af9b0592",
   "metadata": {},
   "outputs": [
    {
     "name": "stdout",
     "output_type": "stream",
     "text": [
      "count of all projects: 659\n",
      "count of maven projects: 457\n",
      "count of gradle projects: 202\n",
      "percentage of maven projects: 69.35%\n",
      "percentage of gradle projects: 30.65%\n"
     ]
    }
   ],
   "source": [
    "all_count = df_jacoco.shape[0]\n",
    "maven_count = df_jacoco[df_jacoco['build_tool'] == 'maven'].shape[0]\n",
    "gradle_count = df_jacoco[df_jacoco['build_tool'] == 'gradle'].shape[0]\n",
    "\n",
    "print(\"count of all projects: {0}\".format(all_count))\n",
    "print(\"count of maven projects: {0}\".format(maven_count))\n",
    "print(\"count of gradle projects: {0}\".format(gradle_count))\n",
    "print(\"percentage of maven projects: {:.2f}%\".format(maven_count*100/all_count))\n",
    "print(\"percentage of gradle projects: {:.2f}%\".format(gradle_count*100/all_count))"
   ]
  },
  {
   "cell_type": "code",
   "execution_count": 31,
   "id": "7fe90ead",
   "metadata": {},
   "outputs": [
    {
     "name": "stdout",
     "output_type": "stream",
     "text": [
      "count of maven projects without any code: 14\n",
      "percentage of maven projects without any code: 3.06%\n"
     ]
    }
   ],
   "source": [
    "maven_without_code = df_jacoco[(df_jacoco['build_tool'] == 'maven') & (df_jacoco['results_count'] == 0) & (df_jacoco['no_test'] == 0) & (df_jacoco['no_code'] > 0)].shape[0]\n",
    "print(\"count of maven projects without any code: {0}\".format(maven_without_code))\n",
    "print(\"percentage of maven projects without any code: {:.2f}%\".format(maven_without_code*100/maven_count))"
   ]
  },
  {
   "cell_type": "code",
   "execution_count": 32,
   "id": "2c3ff101",
   "metadata": {},
   "outputs": [
    {
     "name": "stdout",
     "output_type": "stream",
     "text": [
      "count of gradle projects without any code: 23\n",
      "percentage of gradle projects without any code: 11.39%\n"
     ]
    }
   ],
   "source": [
    "gradle_without_code = df_jacoco[(df_jacoco['no_test'] == 0) & (df_jacoco['csv'] == 0) & (df_jacoco['no_csv'] == 0) & (df_jacoco['build_tool'] == 'gradle') & (df_jacoco['no_code'] > 0)].shape[0]\n",
    "print(\"count of gradle projects without any code: {0}\".format(gradle_without_code))\n",
    "print(\"percentage of gradle projects without any code: {:.2f}%\".format(gradle_without_code*100/gradle_count))\n"
   ]
  },
  {
   "cell_type": "code",
   "execution_count": 33,
   "id": "e645d2a1",
   "metadata": {},
   "outputs": [
    {
     "name": "stdout",
     "output_type": "stream",
     "text": [
      "count of all projects without any code: 37\n",
      "percentage of all projects without any code: 5.61%\n"
     ]
    }
   ],
   "source": [
    "print(\"count of all projects without any code: {0}\".format(maven_without_code + gradle_without_code))\n",
    "print(\"percentage of all projects without any code: {:.2f}%\".format((maven_without_code+gradle_without_code)*100/all_count))"
   ]
  },
  {
   "cell_type": "code",
   "execution_count": 34,
   "id": "5648ccb7",
   "metadata": {},
   "outputs": [
    {
     "name": "stdout",
     "output_type": "stream",
     "text": [
      "count of all projects without any test: 23\n",
      "count of maven projects without any test: 11\n",
      "count of gradle projects without any test: 12\n",
      "percentage of all projects without any test: 3.49%\n",
      "percentage of maven projects without any test: 2.41%\n",
      "percentage of gradle projects without any test: 5.94%\n"
     ]
    }
   ],
   "source": [
    "\n",
    "maven_no_test = df_jacoco[(df_jacoco['build_tool'] == 'maven') & (df_jacoco['no_test'] > 0) & (df_jacoco['results_count'] == 0)].shape[0]\n",
    "gradle_no_test = df_jacoco[(df_jacoco['no_test'] > 0) & (df_jacoco['csv'] == 0) & (df_jacoco['no_csv'] == 0) & (df_jacoco['build_tool'] == 'gradle')].shape[0]\n",
    "all_no_test = maven_no_test + gradle_no_test\n",
    "\n",
    "print(\"count of all projects without any test: {0}\".format(all_no_test))\n",
    "print(\"count of maven projects without any test: {0}\".format(maven_no_test))\n",
    "print(\"count of gradle projects without any test: {0}\".format(gradle_no_test))\n",
    "print(\"percentage of all projects without any test: {:.2f}%\".format(all_no_test*100/all_count))\n",
    "print(\"percentage of maven projects without any test: {:.2f}%\".format(maven_no_test*100/maven_count))\n",
    "print(\"percentage of gradle projects without any test: {:.2f}%\".format(gradle_no_test*100/gradle_count))"
   ]
  },
  {
   "cell_type": "code",
   "execution_count": 35,
   "id": "9f83cf13",
   "metadata": {},
   "outputs": [
    {
     "data": {
      "text/plain": [
       "622"
      ]
     },
     "execution_count": 35,
     "metadata": {},
     "output_type": "execute_result"
    }
   ],
   "source": [
    "# remove repos with no code\n",
    "\n",
    "no_code_repos = df_jacoco[(df_jacoco['build_tool'] == 'maven') & (df_jacoco['results_count'] == 0) & (df_jacoco['no_test'] == 0) & (df_jacoco['no_code'] > 0)].repo_name.tolist()\n",
    "no_code_repos = no_code_repos + (df_jacoco[(df_jacoco['no_test'] == 0) & (df_jacoco['csv'] == 0) & (df_jacoco['no_csv'] == 0) & (df_jacoco['build_tool'] == 'gradle') & (df_jacoco['no_code'] > 0)].repo_name.tolist())\n",
    "df_jacoco = df_jacoco[~df_jacoco['repo_name'].isin(no_code_repos)]\n",
    "df_jacoco.shape[0]"
   ]
  },
  {
   "cell_type": "code",
   "execution_count": 36,
   "id": "8d80a055",
   "metadata": {},
   "outputs": [
    {
     "data": {
      "text/plain": [
       "599"
      ]
     },
     "execution_count": 36,
     "metadata": {},
     "output_type": "execute_result"
    }
   ],
   "source": [
    "# remove repos with no test\n",
    "\n",
    "no_test_repos = df_jacoco[(df_jacoco['no_test'] > 0) & (df_jacoco['results_count'] == 0)].repo_name.tolist()\n",
    "no_test_repos = no_test_repos + df_jacoco[(df_jacoco['no_test'] > 0) & (df_jacoco['csv'] == 0) & (df_jacoco['no_csv'] == 0) & (df_jacoco['build_tool'] == 'gradle')].repo_name.tolist()\n",
    "df_jacoco = df_jacoco[~df_jacoco['repo_name'].isin(no_test_repos)]\n",
    "df_jacoco.shape[0]"
   ]
  },
  {
   "cell_type": "code",
   "execution_count": 37,
   "id": "1980ae71",
   "metadata": {},
   "outputs": [
    {
     "name": "stdout",
     "output_type": "stream",
     "text": [
      "count of all projects: 599\n",
      "count of maven projects: 432\n",
      "count of gradle projects: 167\n",
      "percentage of maven projects: 72.12%\n",
      "percentage of gradle projects: 27.88%\n"
     ]
    }
   ],
   "source": [
    "all_count = df_jacoco.shape[0]\n",
    "maven_count = df_jacoco[df_jacoco['build_tool'] == 'maven'].shape[0]\n",
    "gradle_count = df_jacoco[df_jacoco['build_tool'] == 'gradle'].shape[0]\n",
    "\n",
    "print(\"count of all projects: {0}\".format(all_count))\n",
    "print(\"count of maven projects: {0}\".format(maven_count))\n",
    "print(\"count of gradle projects: {0}\".format(gradle_count))\n",
    "print(\"percentage of maven projects: {:.2f}%\".format(maven_count*100/all_count))\n",
    "print(\"percentage of gradle projects: {:.2f}%\".format(gradle_count*100/all_count))"
   ]
  },
  {
   "cell_type": "code",
   "execution_count": 38,
   "id": "765db142",
   "metadata": {},
   "outputs": [
    {
     "name": "stdout",
     "output_type": "stream",
     "text": [
      "count of all projects with at least one path without any test: 389\n",
      "count of maven projects with at least one path without any test: 280\n",
      "count of gradle projects with at least one path without any test: 109\n",
      "percentage of all projects with at least one path without any test: 64.94%\n",
      "percentage of maven projects with at least one path without any test: 64.81%\n",
      "percentage of gradle projects with at least one path without any test: 65.27%\n"
     ]
    }
   ],
   "source": [
    "all_with_no_test = df_jacoco[df_jacoco['no_test'] > 0].shape[0]\n",
    "maven_with_no_test = df_jacoco[(df_jacoco['build_tool'] == 'maven') & (df_jacoco['no_test'] > 0)].shape[0]\n",
    "gradle_with_no_test = df_jacoco[(df_jacoco['build_tool'] == 'gradle') & (df_jacoco['no_test'] > 0)].shape[0]\n",
    "print(\"count of all projects with at least one path without any test: {0}\".format(all_with_no_test))\n",
    "print(\"count of maven projects with at least one path without any test: {0}\".format(maven_with_no_test))\n",
    "print(\"count of gradle projects with at least one path without any test: {0}\".format(gradle_with_no_test))\n",
    "print(\"percentage of all projects with at least one path without any test: {:.2f}%\".format(all_with_no_test*100/all_count))\n",
    "print(\"percentage of maven projects with at least one path without any test: {:.2f}%\".format(maven_with_no_test*100/maven_count))\n",
    "print(\"percentage of gradle projects with at least one path without any test: {:.2f}%\".format(gradle_with_no_test*100/gradle_count))"
   ]
  },
  {
   "cell_type": "code",
   "execution_count": 39,
   "id": "19deb8ab",
   "metadata": {},
   "outputs": [
    {
     "name": "stdout",
     "output_type": "stream",
     "text": [
      "count of all projects with at least one jacoco csv: 310\n",
      "count of maven projects with at least one jacoco csv: 237\n",
      "count of gradle projects with at least one jacoco csv: 73\n",
      "percentage of all projects with at least one jacoco csv: 51.75%\n",
      "percentage of maven projects with at least one jacoco csv: 76.45%\n",
      "percentage of gradle projects with at least one jacoco csv: 23.55%\n"
     ]
    }
   ],
   "source": [
    "all_with_csv = df_jacoco[df_jacoco['csv'] > 0].shape[0]\n",
    "maven_with_csv = df_jacoco[(df_jacoco['build_tool'] == 'maven') & (df_jacoco['csv'] > 0)].shape[0]\n",
    "gradle_with_csv = df_jacoco[(df_jacoco['build_tool'] == 'gradle') & (df_jacoco['csv'] > 0)].shape[0]\n",
    "print(\"count of all projects with at least one jacoco csv: {0}\".format(all_with_csv))\n",
    "print(\"count of maven projects with at least one jacoco csv: {0}\".format(maven_with_csv))\n",
    "print(\"count of gradle projects with at least one jacoco csv: {0}\".format(gradle_with_csv))\n",
    "print(\"percentage of all projects with at least one jacoco csv: {:.2f}%\".format(all_with_csv*100/all_count))\n",
    "print(\"percentage of maven projects with at least one jacoco csv: {:.2f}%\".format(maven_with_csv*100/all_with_csv))\n",
    "print(\"percentage of gradle projects with at least one jacoco csv: {:.2f}%\".format(gradle_with_csv*100/all_with_csv))"
   ]
  },
  {
   "cell_type": "code",
   "execution_count": 40,
   "id": "a9b08a93",
   "metadata": {},
   "outputs": [
    {
     "name": "stdout",
     "output_type": "stream",
     "text": [
      "count of all projects with no jacoco csv: 289\n",
      "count of maven projects with no jacoco csv: 195\n",
      "count of gradle projects with no jacoco csv: 94\n",
      "percentage of all projects with no jacoco csv: 48.25%\n",
      "percentage of maven projects with no jacoco csv: 45.14%\n",
      "percentage of gradle projects with no jacoco csv: 56.29%\n"
     ]
    }
   ],
   "source": [
    "all_with_csv = df_jacoco[df_jacoco['csv'] == 0].shape[0]\n",
    "maven_with_csv = df_jacoco[(df_jacoco['build_tool'] == 'maven') & (df_jacoco['csv'] == 0)].shape[0]\n",
    "gradle_with_csv = df_jacoco[(df_jacoco['build_tool'] == 'gradle') & (df_jacoco['csv'] == 0)].shape[0]\n",
    "print(\"count of all projects with no jacoco csv: {0}\".format(all_with_csv))\n",
    "print(\"count of maven projects with no jacoco csv: {0}\".format(maven_with_csv))\n",
    "print(\"count of gradle projects with no jacoco csv: {0}\".format(gradle_with_csv))\n",
    "print(\"percentage of all projects with no jacoco csv: {:.2f}%\".format(all_with_csv*100/all_count))\n",
    "print(\"percentage of maven projects with no jacoco csv: {:.2f}%\".format(maven_with_csv*100/maven_count))\n",
    "print(\"percentage of gradle projects with no jacoco csv: {:.2f}%\".format(gradle_with_csv*100/gradle_count))"
   ]
  },
  {
   "cell_type": "code",
   "execution_count": 41,
   "id": "28c85060",
   "metadata": {},
   "outputs": [
    {
     "name": "stdout",
     "output_type": "stream",
     "text": [
      "count of projects that don't miss any csv output: 172\n",
      "count of maven projects that don't miss any csv output: 117\n",
      "count of gradle projects that don't miss any csv output: 55\n",
      "percentage of all projects that don't miss any csv output: 59.52%\n",
      "percentage of maven projects that don't miss any csv output: 27.08%\n",
      "percentage of gradle projects that don't miss any csv output: 32.93%\n"
     ]
    }
   ],
   "source": [
    "all_only_csv = df_jacoco[(df_jacoco['fail'] == 0) & (df_jacoco['error'] == 0)  & (df_jacoco['no_csv'] == 0) & (df_jacoco['csv'] > 0)].shape[0]\n",
    "maven_only_csv = df_jacoco[(df_jacoco['build_tool'] == 'maven') & (df_jacoco['fail'] == 0) & (df_jacoco['error'] == 0) & (df_jacoco['no_csv'] == 0) & (df_jacoco['csv'] > 0)].shape[0]\n",
    "gradle_only_csv = df_jacoco[(df_jacoco['build_tool'] == 'gradle')& (df_jacoco['fail'] == 0) & (df_jacoco['error'] == 0) & (df_jacoco['no_csv'] == 0) & (df_jacoco['csv'] > 0)].shape[0]\n",
    "print(\"count of projects that don't miss any csv output: {0}\".format(all_only_csv))\n",
    "print(\"count of maven projects that don't miss any csv output: {0}\".format(maven_only_csv))\n",
    "print(\"count of gradle projects that don't miss any csv output: {0}\".format(gradle_only_csv))\n",
    "print(\"percentage of all projects that don't miss any csv output: {:.2f}%\".format(all_only_csv*100/all_with_csv))\n",
    "print(\"percentage of maven projects that don't miss any csv output: {:.2f}%\".format(maven_only_csv*100/maven_count))\n",
    "print(\"percentage of gradle projects that don't miss any csv output: {:.2f}%\".format(gradle_only_csv*100/gradle_count))"
   ]
  },
  {
   "cell_type": "code",
   "execution_count": 42,
   "id": "bacdfa15",
   "metadata": {},
   "outputs": [
    {
     "data": {
      "text/plain": [
       "172"
      ]
     },
     "execution_count": 42,
     "metadata": {},
     "output_type": "execute_result"
    }
   ],
   "source": [
    "repos_all_csv = df_jacoco[(df_jacoco['fail'] == 0) & (df_jacoco['error'] == 0)  & (df_jacoco['no_csv'] == 0) & (df_jacoco['csv'] > 0)].repo_name.tolist()\n",
    "complete_coverage_df = coverage_df[coverage_df['repo_name'].isin(repos_all_csv)]\n",
    "count_complete_coverage = complete_coverage_df.shape[0]\n",
    "count_complete_coverage"
   ]
  },
  {
   "cell_type": "code",
   "execution_count": 43,
   "id": "6ac4f938",
   "metadata": {},
   "outputs": [
    {
     "data": {
      "text/plain": [
       "138"
      ]
     },
     "execution_count": 43,
     "metadata": {},
     "output_type": "execute_result"
    }
   ],
   "source": [
    "partial_coverage_df = coverage_df[~coverage_df['repo_name'].isin(repos_all_csv)]\n",
    "partial_coverage_df.shape[0]"
   ]
  },
  {
   "cell_type": "code",
   "execution_count": 44,
   "id": "4e74a1ff",
   "metadata": {},
   "outputs": [
    {
     "data": {
      "text/html": [
       "<div>\n",
       "<style scoped>\n",
       "    .dataframe tbody tr th:only-of-type {\n",
       "        vertical-align: middle;\n",
       "    }\n",
       "\n",
       "    .dataframe tbody tr th {\n",
       "        vertical-align: top;\n",
       "    }\n",
       "\n",
       "    .dataframe thead th {\n",
       "        text-align: right;\n",
       "    }\n",
       "</style>\n",
       "<table border=\"1\" class=\"dataframe\">\n",
       "  <thead>\n",
       "    <tr style=\"text-align: right;\">\n",
       "      <th></th>\n",
       "      <th>repo_name</th>\n",
       "      <th>build_tool</th>\n",
       "      <th>success</th>\n",
       "      <th>fail</th>\n",
       "      <th>unclear</th>\n",
       "      <th>error</th>\n",
       "      <th>csv</th>\n",
       "      <th>no_code</th>\n",
       "      <th>no_test</th>\n",
       "      <th>no_csv</th>\n",
       "      <th>results_count</th>\n",
       "    </tr>\n",
       "  </thead>\n",
       "  <tbody>\n",
       "    <tr>\n",
       "      <th>5</th>\n",
       "      <td>reactor/reactor-core</td>\n",
       "      <td>gradle</td>\n",
       "      <td>0</td>\n",
       "      <td>0</td>\n",
       "      <td>1</td>\n",
       "      <td>0</td>\n",
       "      <td>3</td>\n",
       "      <td>1</td>\n",
       "      <td>1</td>\n",
       "      <td>2</td>\n",
       "      <td>1</td>\n",
       "    </tr>\n",
       "    <tr>\n",
       "      <th>18</th>\n",
       "      <td>micronaut-projects/micronaut-starter</td>\n",
       "      <td>gradle</td>\n",
       "      <td>0</td>\n",
       "      <td>0</td>\n",
       "      <td>1</td>\n",
       "      <td>0</td>\n",
       "      <td>8</td>\n",
       "      <td>0</td>\n",
       "      <td>2</td>\n",
       "      <td>4</td>\n",
       "      <td>1</td>\n",
       "    </tr>\n",
       "    <tr>\n",
       "      <th>24</th>\n",
       "      <td>odpi/egeria</td>\n",
       "      <td>gradle</td>\n",
       "      <td>0</td>\n",
       "      <td>0</td>\n",
       "      <td>1</td>\n",
       "      <td>0</td>\n",
       "      <td>52</td>\n",
       "      <td>13</td>\n",
       "      <td>210</td>\n",
       "      <td>27</td>\n",
       "      <td>1</td>\n",
       "    </tr>\n",
       "    <tr>\n",
       "      <th>32</th>\n",
       "      <td>hyperledger/fabric-chaincode-java</td>\n",
       "      <td>gradle</td>\n",
       "      <td>0</td>\n",
       "      <td>0</td>\n",
       "      <td>1</td>\n",
       "      <td>0</td>\n",
       "      <td>1</td>\n",
       "      <td>2</td>\n",
       "      <td>5</td>\n",
       "      <td>4</td>\n",
       "      <td>1</td>\n",
       "    </tr>\n",
       "    <tr>\n",
       "      <th>46</th>\n",
       "      <td>bonitasoft/bonita-engine</td>\n",
       "      <td>gradle</td>\n",
       "      <td>0</td>\n",
       "      <td>0</td>\n",
       "      <td>1</td>\n",
       "      <td>0</td>\n",
       "      <td>54</td>\n",
       "      <td>6</td>\n",
       "      <td>15</td>\n",
       "      <td>1</td>\n",
       "      <td>1</td>\n",
       "    </tr>\n",
       "  </tbody>\n",
       "</table>\n",
       "</div>"
      ],
      "text/plain": [
       "                               repo_name build_tool  success  fail  unclear  \\\n",
       "5                   reactor/reactor-core     gradle        0     0        1   \n",
       "18  micronaut-projects/micronaut-starter     gradle        0     0        1   \n",
       "24                           odpi/egeria     gradle        0     0        1   \n",
       "32     hyperledger/fabric-chaincode-java     gradle        0     0        1   \n",
       "46              bonitasoft/bonita-engine     gradle        0     0        1   \n",
       "\n",
       "    error  csv  no_code  no_test  no_csv  results_count  \n",
       "5       0    3        1        1       2              1  \n",
       "18      0    8        0        2       4              1  \n",
       "24      0   52       13      210      27              1  \n",
       "32      0    1        2        5       4              1  \n",
       "46      0   54        6       15       1              1  "
      ]
     },
     "execution_count": 44,
     "metadata": {},
     "output_type": "execute_result"
    }
   ],
   "source": [
    "df_jacoco[df_jacoco['repo_name'].isin(partial_coverage_df.repo_name.tolist())].head()"
   ]
  },
  {
   "cell_type": "code",
   "execution_count": 45,
   "id": "e9bf8da6",
   "metadata": {},
   "outputs": [
    {
     "data": {
      "text/html": [
       "<div>\n",
       "<style scoped>\n",
       "    .dataframe tbody tr th:only-of-type {\n",
       "        vertical-align: middle;\n",
       "    }\n",
       "\n",
       "    .dataframe tbody tr th {\n",
       "        vertical-align: top;\n",
       "    }\n",
       "\n",
       "    .dataframe thead th {\n",
       "        text-align: right;\n",
       "    }\n",
       "</style>\n",
       "<table border=\"1\" class=\"dataframe\">\n",
       "  <thead>\n",
       "    <tr style=\"text-align: right;\">\n",
       "      <th></th>\n",
       "      <th>repo_name</th>\n",
       "      <th>csv</th>\n",
       "      <th>no_test</th>\n",
       "    </tr>\n",
       "  </thead>\n",
       "  <tbody>\n",
       "    <tr>\n",
       "      <th>5</th>\n",
       "      <td>reactor/reactor-core</td>\n",
       "      <td>3</td>\n",
       "      <td>1</td>\n",
       "    </tr>\n",
       "    <tr>\n",
       "      <th>18</th>\n",
       "      <td>micronaut-projects/micronaut-starter</td>\n",
       "      <td>8</td>\n",
       "      <td>2</td>\n",
       "    </tr>\n",
       "    <tr>\n",
       "      <th>24</th>\n",
       "      <td>odpi/egeria</td>\n",
       "      <td>52</td>\n",
       "      <td>210</td>\n",
       "    </tr>\n",
       "    <tr>\n",
       "      <th>32</th>\n",
       "      <td>hyperledger/fabric-chaincode-java</td>\n",
       "      <td>1</td>\n",
       "      <td>5</td>\n",
       "    </tr>\n",
       "    <tr>\n",
       "      <th>46</th>\n",
       "      <td>bonitasoft/bonita-engine</td>\n",
       "      <td>54</td>\n",
       "      <td>15</td>\n",
       "    </tr>\n",
       "  </tbody>\n",
       "</table>\n",
       "</div>"
      ],
      "text/plain": [
       "                               repo_name  csv  no_test\n",
       "5                   reactor/reactor-core    3        1\n",
       "18  micronaut-projects/micronaut-starter    8        2\n",
       "24                           odpi/egeria   52      210\n",
       "32     hyperledger/fabric-chaincode-java    1        5\n",
       "46              bonitasoft/bonita-engine   54       15"
      ]
     },
     "execution_count": 45,
     "metadata": {},
     "output_type": "execute_result"
    }
   ],
   "source": [
    "partial_coverage_df_plot = df_jacoco[df_jacoco['repo_name'].isin(partial_coverage_df.repo_name.tolist())]\n",
    "partial_coverage_df_plot = partial_coverage_df_plot[['repo_name', 'csv', 'no_test']]\n",
    "partial_coverage_df_plot.head()"
   ]
  },
  {
   "cell_type": "code",
   "execution_count": 46,
   "id": "6d21e636",
   "metadata": {},
   "outputs": [],
   "source": [
    "from operator import truediv, add\n",
    "left = list( map(truediv, partial_coverage_df_plot['csv'].tolist(), list( map(add, partial_coverage_df_plot['csv'].tolist(), partial_coverage_df_plot['no_test'].tolist()) )) )\n",
    "right = list( map(truediv, partial_coverage_df_plot['no_test'].tolist(), list( map(add, partial_coverage_df_plot['csv'].tolist(), partial_coverage_df_plot['no_test'].tolist()) )) )"
   ]
  },
  {
   "cell_type": "code",
   "execution_count": 47,
   "id": "975262b7",
   "metadata": {},
   "outputs": [
    {
     "data": {
      "image/png": "[encoded data removed]",
      "text/plain": [
       "<Figure size 1850x2050 with 1 Axes>"
      ]
     },
     "metadata": {
      "needs_background": "light"
     },
     "output_type": "display_data"
    }
   ],
   "source": [
    "fig = plt.gcf()\n",
    "fig.set_size_inches(18.5, 20.5)\n",
    "plt.barh(list(range(1,139)), left)\n",
    "plt.barh(list(range(1,139)), right, left = left)\n",
    "plt.show()"
   ]
  },
  {
   "cell_type": "code",
   "execution_count": 48,
   "id": "88d31a52",
   "metadata": {},
   "outputs": [
    {
     "data": {
      "text/plain": [
       "maven     120\n",
       "gradle     18\n",
       "Name: build_tool, dtype: int64"
      ]
     },
     "execution_count": 48,
     "metadata": {},
     "output_type": "execute_result"
    }
   ],
   "source": [
    "df_jacoco[df_jacoco['repo_name'].isin(partial_coverage_df.repo_name.tolist())]['build_tool'].value_counts()"
   ]
  },
  {
   "cell_type": "code",
   "execution_count": 49,
   "id": "bc33a0f9",
   "metadata": {},
   "outputs": [
    {
     "data": {
      "text/plain": [
       "0.44516129032258067"
      ]
     },
     "execution_count": 49,
     "metadata": {},
     "output_type": "execute_result"
    }
   ],
   "source": [
    "138/310"
   ]
  },
  {
   "cell_type": "code",
   "execution_count": 50,
   "id": "d67e11a5",
   "metadata": {},
   "outputs": [
    {
     "data": {
      "text/plain": [
       "0.5548387096774193"
      ]
     },
     "execution_count": 50,
     "metadata": {},
     "output_type": "execute_result"
    }
   ],
   "source": [
    "172/310"
   ]
  },
  {
   "cell_type": "code",
   "execution_count": 51,
   "id": "18a87db3",
   "metadata": {},
   "outputs": [
    {
     "data": {
      "text/plain": [
       "113"
      ]
     },
     "execution_count": 51,
     "metadata": {},
     "output_type": "execute_result"
    }
   ],
   "source": [
    "(df_jacoco[df_jacoco['repo_name'].isin(partial_coverage_df.repo_name.tolist())]['no_test'] > 0).sum()"
   ]
  },
  {
   "cell_type": "code",
   "execution_count": 52,
   "id": "7e504651",
   "metadata": {},
   "outputs": [
    {
     "data": {
      "image/png": "[encoded data removed]",
      "text/plain": [
       "<Figure size 400x300 with 1 Axes>"
      ]
     },
     "metadata": {
      "needs_background": "light"
     },
     "output_type": "display_data"
    }
   ],
   "source": [
    "plt.rcParams.update({'figure.figsize':(4,3), 'figure.dpi':100})\n",
    "fig1, ax1 = plt.subplots()\n",
    "ax1.set_ylabel('modules with no test')\n",
    "ax1.boxplot(df_jacoco[df_jacoco['repo_name'].isin(partial_coverage_df.repo_name.tolist())]['no_test'])\n",
    "ax1.set_yscale('log')\n",
    "plt.show()"
   ]
  },
  {
   "cell_type": "code",
   "execution_count": 53,
   "id": "b47054ee",
   "metadata": {},
   "outputs": [
    {
     "name": "stdout",
     "output_type": "stream",
     "text": [
      "5 projects have >95% coverage which is 2.91%\n",
      "19 projects have 95%> >80% coverage which is 11.05%\n",
      "35 projects have 80%> >60% coverage which is 20.35%\n",
      "65 projects have 60%> >20% coverage which is 37.79%\n",
      "48 projects have 20%> >0% coverage which is 27.91%\n"
     ]
    }
   ],
   "source": [
    "more_than_95 = (complete_coverage_df['coverage'] >= 95).sum()\n",
    "between_95_80 = ((complete_coverage_df['coverage'] >= 80) & (complete_coverage_df['coverage'] < 95)).sum()\n",
    "between_80_60 = ((complete_coverage_df['coverage'] >= 60) & (complete_coverage_df['coverage'] < 80)).sum()\n",
    "between_60_20 = ((complete_coverage_df['coverage'] >= 20) & (complete_coverage_df['coverage'] < 60)).sum()\n",
    "between_20_0 = ((complete_coverage_df['coverage'] >= 0) & (complete_coverage_df['coverage'] < 20)).sum()\n",
    "\n",
    "\n",
    "print(\"{0} projects have >95% coverage which is {1:.2f}%\".format(more_than_95, more_than_95*100/count_complete_coverage))\n",
    "print(\"{0} projects have 95%> >80% coverage which is {1:.2f}%\".format(between_95_80, between_95_80*100/count_complete_coverage))\n",
    "print(\"{0} projects have 80%> >60% coverage which is {1:.2f}%\".format(between_80_60, between_80_60*100/count_complete_coverage))\n",
    "print(\"{0} projects have 60%> >20% coverage which is {1:.2f}%\".format(between_60_20, between_60_20*100/count_complete_coverage))\n",
    "print(\"{0} projects have 20%> >0% coverage which is {1:.2f}%\".format(between_20_0, between_20_0*100/count_complete_coverage))\n"
   ]
  },
  {
   "cell_type": "code",
   "execution_count": 54,
   "id": "26dc10e0",
   "metadata": {},
   "outputs": [
    {
     "name": "stdout",
     "output_type": "stream",
     "text": [
      "4 projects have >95% coverage which is 2.33%\n",
      "12 projects have 95%> >80% coverage which is 6.98%\n",
      "23 projects have 80%> >60% coverage which is 13.37%\n",
      "64 projects have 60%> >20% coverage which is 37.21%\n",
      "35 projects have 20%> >0% coverage which is 20.35%\n"
     ]
    }
   ],
   "source": [
    "more_than_95  = (partial_coverage_df['coverage'] >= 95).sum()\n",
    "between_95_80 = ((partial_coverage_df['coverage'] >= 80) & (partial_coverage_df['coverage'] < 95)).sum()\n",
    "between_80_60 = ((partial_coverage_df['coverage'] >= 60) & (partial_coverage_df['coverage'] < 80)).sum()\n",
    "between_60_20 = ((partial_coverage_df['coverage'] >= 20) & (partial_coverage_df['coverage'] < 60)).sum()\n",
    "between_20_0  = ((partial_coverage_df['coverage'] >= 0) & (partial_coverage_df['coverage'] < 20)).sum()\n",
    "\n",
    "print(\"{0} projects have >95% coverage which is {1:.2f}%\".format(more_than_95, more_than_95*100/count_complete_coverage))\n",
    "print(\"{0} projects have 95%> >80% coverage which is {1:.2f}%\".format(between_95_80, between_95_80*100/count_complete_coverage))\n",
    "print(\"{0} projects have 80%> >60% coverage which is {1:.2f}%\".format(between_80_60, between_80_60*100/count_complete_coverage))\n",
    "print(\"{0} projects have 60%> >20% coverage which is {1:.2f}%\".format(between_60_20, between_60_20*100/count_complete_coverage))\n",
    "print(\"{0} projects have 20%> >0% coverage which is {1:.2f}%\".format(between_20_0, between_20_0*100/count_complete_coverage))\n"
   ]
  },
  {
   "cell_type": "code",
   "execution_count": 55,
   "id": "4dd8ca06",
   "metadata": {},
   "outputs": [
    {
     "data": {
      "image/png": "[encoded data removed]",
      "text/plain": [
       "<Figure size 600x300 with 2 Axes>"
      ]
     },
     "metadata": {
      "needs_background": "light"
     },
     "output_type": "display_data"
    }
   ],
   "source": [
    "plt.rcParams.update({'figure.figsize':(6,3), 'figure.dpi':100})\n",
    "fig1, ax1 = plt.subplots(1,2,sharey=True)\n",
    "ax1[0].set_xlabel('Complete coverage results')\n",
    "ax1[0].set_ylabel('Branch coverage percentage')\n",
    "ax1[0].boxplot(complete_coverage_df[\"coverage\"])\n",
    "# ax1[1].set_ylabel('Count of statuses per project')\n",
    "ax1[1].set_xlabel('Partial coverage results')\n",
    "ax1[1].boxplot(partial_coverage_df[\"coverage\"])\n",
    "plt.show()"
   ]
  },
  {
   "cell_type": "code",
   "execution_count": 67,
   "id": "25865b6d",
   "metadata": {},
   "outputs": [
    {
     "name": "stdout",
     "output_type": "stream",
     "text": [
      "43.435\n",
      "42.93\n"
     ]
    }
   ],
   "source": [
    "print(complete_coverage_df[\"coverage\"].median())\n",
    "print(partial_coverage_df[\"coverage\"].median())"
   ]
  },
  {
   "cell_type": "code",
   "execution_count": 56,
   "id": "dd9519f3",
   "metadata": {},
   "outputs": [
    {
     "data": {
      "image/png": "[encoded data removed]",
      "text/plain": [
       "<Figure size 500x300 with 2 Axes>"
      ]
     },
     "metadata": {
      "needs_background": "light"
     },
     "output_type": "display_data"
    }
   ],
   "source": [
    "plt.rcParams.update({'figure.figsize':(6,3), 'figure.dpi':100})\n",
    "fig1, ax1 = plt.subplots(1,2,sharey=True)\n",
    "ax1[0].set_xlabel('Complete Coverage Results')\n",
    "ax1[0].set_ylabel('Branch Coverage Percentage')\n",
    "ax1[0].boxplot(complete_coverage_df[\"coverage\"])\n",
    "ax1[0].set_xticks([0], ['Complete Coverage Results'])\n",
    "\n",
    "ax1[1].set_xlabel('Partial Coverage Results')\n",
    "ax1[1].boxplot(partial_coverage_df[\"coverage\"])\n",
    "ax1[1].set_xticks([0], ['Partial Coverage Results'])\n",
    "\n",
    "plt.gcf().set_size_inches(5,3)\n",
    "plt.tight_layout()\n",
    "plt.savefig('branch-coverage.pdf', dpi=300)"
   ]
  },
  {
   "cell_type": "markdown",
   "id": "6b8ce943",
   "metadata": {},
   "source": [
    "## Fix repos name and export results"
   ]
  },
  {
   "cell_type": "code",
   "execution_count": 57,
   "id": "f4d4f43e",
   "metadata": {},
   "outputs": [
    {
     "data": {
      "text/html": [
       "<div>\n",
       "<style scoped>\n",
       "    .dataframe tbody tr th:only-of-type {\n",
       "        vertical-align: middle;\n",
       "    }\n",
       "\n",
       "    .dataframe tbody tr th {\n",
       "        vertical-align: top;\n",
       "    }\n",
       "\n",
       "    .dataframe thead th {\n",
       "        text-align: right;\n",
       "    }\n",
       "</style>\n",
       "<table border=\"1\" class=\"dataframe\">\n",
       "  <thead>\n",
       "    <tr style=\"text-align: right;\">\n",
       "      <th></th>\n",
       "      <th>repo_name</th>\n",
       "    </tr>\n",
       "  </thead>\n",
       "  <tbody>\n",
       "    <tr>\n",
       "      <th>0</th>\n",
       "      <td>1c-syntax/bsl-language-server</td>\n",
       "    </tr>\n",
       "    <tr>\n",
       "      <th>1</th>\n",
       "      <td>abhpd/hacktoberfest2021</td>\n",
       "    </tr>\n",
       "    <tr>\n",
       "      <th>2</th>\n",
       "      <td>actiontech/dble</td>\n",
       "    </tr>\n",
       "    <tr>\n",
       "      <th>3</th>\n",
       "      <td>activiti/activiti</td>\n",
       "    </tr>\n",
       "    <tr>\n",
       "      <th>4</th>\n",
       "      <td>adeekshith/watomatic</td>\n",
       "    </tr>\n",
       "  </tbody>\n",
       "</table>\n",
       "</div>"
      ],
      "text/plain": [
       "                       repo_name\n",
       "0  1c-syntax/bsl-language-server\n",
       "1        abhpd/hacktoberfest2021\n",
       "2                actiontech/dble\n",
       "3              activiti/activiti\n",
       "4           adeekshith/watomatic"
      ]
     },
     "metadata": {},
     "output_type": "display_data"
    },
    {
     "name": "stdout",
     "output_type": "stream",
     "text": [
      "(1454, 1)\n"
     ]
    }
   ],
   "source": [
    "final_df = pd.read_csv('data/selected_projects.csv')\n",
    "final_df['repo_name'] = final_df['Name']\n",
    "final_df = final_df[['repo_name']]\n",
    "display(final_df.head())\n",
    "print(final_df.shape)"
   ]
  },
  {
   "cell_type": "code",
   "execution_count": 58,
   "id": "607568dc",
   "metadata": {},
   "outputs": [],
   "source": [
    "coverage_df.loc[coverage_df['repo_name'] == 'mybatis/jpetstore-', 'repo_name'] = 'mybatis/jpetstore-6'\n",
    "coverage_df.loc[coverage_df['repo_name'] == 'edumips64/edumips', 'repo_name'] = 'edumips64/edumips64'\n",
    "coverage_df.loc[coverage_df['repo_name'] == 'slimefun/slimefun', 'repo_name'] = 'slimefun/slimefun4'\n",
    "coverage_df.loc[coverage_df['repo_name'] == 'junit-team/junit', 'repo_name'] = 'junit-team/junit4'\n",
    "coverage_df.loc[coverage_df['repo_name'] == 'edumips64/edumips', 'repo_name'] = 'edumips64/edumips64'\n",
    "coverage_df.loc[coverage_df['repo_name'] == 'mybatis/mybatis-', 'repo_name'] = 'mybatis/mybatis-3'\n",
    "coverage_df.loc[coverage_df['repo_name'] == 'apache/logging-log4j', 'repo_name'] = 'apache/logging-log4j2'"
   ]
  },
  {
   "cell_type": "code",
   "execution_count": 59,
   "id": "5db61d4d",
   "metadata": {},
   "outputs": [],
   "source": [
    "def label_coverage(x):\n",
    "    x = float(x)\n",
    "    if x >= 95:\n",
    "        return 'Very High'\n",
    "    elif x >= 80:\n",
    "        return 'High'\n",
    "    elif x >= 60:\n",
    "        return 'Moderate'\n",
    "    elif x >= 20:\n",
    "        return 'Low'\n",
    "    else:\n",
    "        return 'Very Low'"
   ]
  },
  {
   "cell_type": "code",
   "execution_count": 60,
   "id": "015d7107",
   "metadata": {
    "scrolled": true
   },
   "outputs": [
    {
     "data": {
      "text/html": [
       "<div>\n",
       "<style scoped>\n",
       "    .dataframe tbody tr th:only-of-type {\n",
       "        vertical-align: middle;\n",
       "    }\n",
       "\n",
       "    .dataframe tbody tr th {\n",
       "        vertical-align: top;\n",
       "    }\n",
       "\n",
       "    .dataframe thead th {\n",
       "        text-align: right;\n",
       "    }\n",
       "</style>\n",
       "<table border=\"1\" class=\"dataframe\">\n",
       "  <thead>\n",
       "    <tr style=\"text-align: right;\">\n",
       "      <th></th>\n",
       "      <th>repo_name</th>\n",
       "      <th>coverage</th>\n",
       "      <th>label</th>\n",
       "    </tr>\n",
       "  </thead>\n",
       "  <tbody>\n",
       "    <tr>\n",
       "      <th>0</th>\n",
       "      <td>actiontech/dble</td>\n",
       "      <td>8.02</td>\n",
       "      <td>Very Low</td>\n",
       "    </tr>\n",
       "    <tr>\n",
       "      <th>1</th>\n",
       "      <td>adobe-consulting-services/acs-aem-commons</td>\n",
       "      <td>48.47</td>\n",
       "      <td>Low</td>\n",
       "    </tr>\n",
       "    <tr>\n",
       "      <th>2</th>\n",
       "      <td>adorsys/keycloak-config-cli</td>\n",
       "      <td>4.71</td>\n",
       "      <td>Very Low</td>\n",
       "    </tr>\n",
       "    <tr>\n",
       "      <th>3</th>\n",
       "      <td>alibaba/easyexcel</td>\n",
       "      <td>36.06</td>\n",
       "      <td>Low</td>\n",
       "    </tr>\n",
       "    <tr>\n",
       "      <th>4</th>\n",
       "      <td>alibaba/nacos</td>\n",
       "      <td>11.13</td>\n",
       "      <td>Very Low</td>\n",
       "    </tr>\n",
       "    <tr>\n",
       "      <th>...</th>\n",
       "      <td>...</td>\n",
       "      <td>...</td>\n",
       "      <td>...</td>\n",
       "    </tr>\n",
       "    <tr>\n",
       "      <th>307</th>\n",
       "      <td>zalando/problem</td>\n",
       "      <td>100.00</td>\n",
       "      <td>Very High</td>\n",
       "    </tr>\n",
       "    <tr>\n",
       "      <th>308</th>\n",
       "      <td>zalando/problem-spring-web</td>\n",
       "      <td>100.00</td>\n",
       "      <td>Very High</td>\n",
       "    </tr>\n",
       "    <tr>\n",
       "      <th>309</th>\n",
       "      <td>zaproxy/zap-hud</td>\n",
       "      <td>2.85</td>\n",
       "      <td>Very Low</td>\n",
       "    </tr>\n",
       "    <tr>\n",
       "      <th>310</th>\n",
       "      <td>zendesk/maxwell</td>\n",
       "      <td>60.88</td>\n",
       "      <td>Moderate</td>\n",
       "    </tr>\n",
       "    <tr>\n",
       "      <th>311</th>\n",
       "      <td>zsmartsystems/com.zsmartsystems.zigbee</td>\n",
       "      <td>30.44</td>\n",
       "      <td>Low</td>\n",
       "    </tr>\n",
       "  </tbody>\n",
       "</table>\n",
       "<p>310 rows × 3 columns</p>\n",
       "</div>"
      ],
      "text/plain": [
       "                                     repo_name  coverage      label\n",
       "0                              actiontech/dble      8.02   Very Low\n",
       "1    adobe-consulting-services/acs-aem-commons     48.47        Low\n",
       "2                  adorsys/keycloak-config-cli      4.71   Very Low\n",
       "3                            alibaba/easyexcel     36.06        Low\n",
       "4                                alibaba/nacos     11.13   Very Low\n",
       "..                                         ...       ...        ...\n",
       "307                            zalando/problem    100.00  Very High\n",
       "308                 zalando/problem-spring-web    100.00  Very High\n",
       "309                            zaproxy/zap-hud      2.85   Very Low\n",
       "310                            zendesk/maxwell     60.88   Moderate\n",
       "311     zsmartsystems/com.zsmartsystems.zigbee     30.44        Low\n",
       "\n",
       "[310 rows x 3 columns]"
      ]
     },
     "execution_count": 60,
     "metadata": {},
     "output_type": "execute_result"
    }
   ],
   "source": [
    "coverage_df['label'] = coverage_df['coverage'].apply(lambda x: label_coverage(x))\n",
    "coverage_df"
   ]
  },
  {
   "cell_type": "code",
   "execution_count": 61,
   "id": "9b5de604",
   "metadata": {},
   "outputs": [],
   "source": [
    "df_results = pd.read_csv('data/combined_results.csv')\n",
    "\n",
    "for index, row in coverage_df.iterrows():\n",
    "    df_results.loc[df_results['repo_name'] == row['repo_name'], 'testing_coverage'] = row['coverage']\n",
    "\n",
    "df_results.to_csv('data/combined_results.csv', index=False)"
   ]
  },
  {
   "cell_type": "code",
   "execution_count": 62,
   "id": "b6718904",
   "metadata": {},
   "outputs": [],
   "source": [
    "final_df['testing'] = 'NA'"
   ]
  },
  {
   "cell_type": "code",
   "execution_count": 63,
   "id": "e1ed5cad",
   "metadata": {},
   "outputs": [],
   "source": [
    "for index, row in coverage_df.iterrows():\n",
    "    final_df.loc[final_df['repo_name'] == row['repo_name'], 'testing'] = row['label']"
   ]
  },
  {
   "cell_type": "code",
   "execution_count": 64,
   "id": "468eebad",
   "metadata": {},
   "outputs": [
    {
     "data": {
      "text/plain": [
       "NA           1144\n",
       "Low           129\n",
       "Very Low       83\n",
       "Moderate       58\n",
       "High           31\n",
       "Very High       9\n",
       "Name: testing, dtype: int64"
      ]
     },
     "execution_count": 64,
     "metadata": {},
     "output_type": "execute_result"
    }
   ],
   "source": [
    "final_df.testing.value_counts()"
   ]
  },
  {
   "cell_type": "code",
   "execution_count": 65,
   "id": "f0ec5397",
   "metadata": {},
   "outputs": [],
   "source": [
    "final_df.to_csv('data/combined_results.csv', index=False)"
   ]
  },
  {
   "cell_type": "code",
   "execution_count": null,
   "id": "45afe8aa",
   "metadata": {},
   "outputs": [],
   "source": []
  }
 ],
 "metadata": {
  "kernelspec": {
   "display_name": "Python 3",
   "language": "python",
   "name": "python3"
  },
  "language_info": {
   "codemirror_mode": {
    "name": "ipython",
    "version": 3
   },
   "file_extension": ".py",
   "mimetype": "text/x-python",
   "name": "python",
   "nbconvert_exporter": "python",
   "pygments_lexer": "ipython3",
   "version": "3.9.5"
  }
 },
 "nbformat": 4,
 "nbformat_minor": 5
}
