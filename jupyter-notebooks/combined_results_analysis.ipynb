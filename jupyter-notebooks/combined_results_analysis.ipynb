{
 "cells": [
  {
   "cell_type": "code",
   "execution_count": 1,
   "id": "54acc124",
   "metadata": {},
   "outputs": [],
   "source": [
    "import pandas as pd\n",
    "import numpy as np\n",
    "import matplotlib.pyplot as plt\n",
    "%matplotlib inline\n",
    "import seaborn as sns\n",
    "import matplotlib.patches as mpatches\n",
    "sns.set_theme(style=\"whitegrid\")\n",
    "import scipy.stats as stats"
   ]
  },
  {
   "cell_type": "code",
   "execution_count": 3,
   "id": "281b8934",
   "metadata": {},
   "outputs": [
    {
     "data": {
      "text/html": [
       "<div>\n",
       "<style scoped>\n",
       "    .dataframe tbody tr th:only-of-type {\n",
       "        vertical-align: middle;\n",
       "    }\n",
       "\n",
       "    .dataframe tbody tr th {\n",
       "        vertical-align: top;\n",
       "    }\n",
       "\n",
       "    .dataframe thead th {\n",
       "        text-align: right;\n",
       "    }\n",
       "</style>\n",
       "<table border=\"1\" class=\"dataframe\">\n",
       "  <thead>\n",
       "    <tr style=\"text-align: right;\">\n",
       "      <th></th>\n",
       "      <th>repo_name</th>\n",
       "      <th>local_build</th>\n",
       "      <th>sat_usage</th>\n",
       "      <th>ci_build_combined</th>\n",
       "      <th>ci_state</th>\n",
       "      <th>ci_usage</th>\n",
       "      <th>cr_reviews</th>\n",
       "      <th>cr_comments</th>\n",
       "      <th>cr_changed_files</th>\n",
       "      <th>cr_changed_lines</th>\n",
       "      <th>testing_coverage</th>\n",
       "    </tr>\n",
       "  </thead>\n",
       "  <tbody>\n",
       "    <tr>\n",
       "      <th>0</th>\n",
       "      <td>1c-syntax/bsl-language-server</td>\n",
       "      <td>1.0</td>\n",
       "      <td>0</td>\n",
       "      <td>1.0</td>\n",
       "      <td>1.0</td>\n",
       "      <td>1</td>\n",
       "      <td>64.0</td>\n",
       "      <td>36.0</td>\n",
       "      <td>752.0</td>\n",
       "      <td>40997.0</td>\n",
       "      <td>NaN</td>\n",
       "    </tr>\n",
       "    <tr>\n",
       "      <th>1</th>\n",
       "      <td>abhpd/hacktoberfest2021</td>\n",
       "      <td>NaN</td>\n",
       "      <td>0</td>\n",
       "      <td>NaN</td>\n",
       "      <td>NaN</td>\n",
       "      <td>0</td>\n",
       "      <td>14.0</td>\n",
       "      <td>14.0</td>\n",
       "      <td>52.0</td>\n",
       "      <td>7629.0</td>\n",
       "      <td>NaN</td>\n",
       "    </tr>\n",
       "    <tr>\n",
       "      <th>2</th>\n",
       "      <td>actiontech/dble</td>\n",
       "      <td>1.0</td>\n",
       "      <td>1</td>\n",
       "      <td>1.0</td>\n",
       "      <td>1.0</td>\n",
       "      <td>1</td>\n",
       "      <td>17.0</td>\n",
       "      <td>1.0</td>\n",
       "      <td>58.0</td>\n",
       "      <td>1513.0</td>\n",
       "      <td>8.02</td>\n",
       "    </tr>\n",
       "    <tr>\n",
       "      <th>3</th>\n",
       "      <td>activiti/activiti</td>\n",
       "      <td>1.0</td>\n",
       "      <td>1</td>\n",
       "      <td>1.0</td>\n",
       "      <td>1.0</td>\n",
       "      <td>1</td>\n",
       "      <td>31.0</td>\n",
       "      <td>13.0</td>\n",
       "      <td>70.0</td>\n",
       "      <td>2696.0</td>\n",
       "      <td>NaN</td>\n",
       "    </tr>\n",
       "    <tr>\n",
       "      <th>4</th>\n",
       "      <td>adeekshith/watomatic</td>\n",
       "      <td>NaN</td>\n",
       "      <td>0</td>\n",
       "      <td>NaN</td>\n",
       "      <td>NaN</td>\n",
       "      <td>0</td>\n",
       "      <td>16.0</td>\n",
       "      <td>11.0</td>\n",
       "      <td>88.0</td>\n",
       "      <td>2392.0</td>\n",
       "      <td>NaN</td>\n",
       "    </tr>\n",
       "  </tbody>\n",
       "</table>\n",
       "</div>"
      ],
      "text/plain": [
       "                       repo_name  local_build  sat_usage  ci_build_combined  \\\n",
       "0  1c-syntax/bsl-language-server          1.0          0                1.0   \n",
       "1        abhpd/hacktoberfest2021          NaN          0                NaN   \n",
       "2                actiontech/dble          1.0          1                1.0   \n",
       "3              activiti/activiti          1.0          1                1.0   \n",
       "4           adeekshith/watomatic          NaN          0                NaN   \n",
       "\n",
       "   ci_state  ci_usage  cr_reviews  cr_comments  cr_changed_files  \\\n",
       "0       1.0         1        64.0         36.0             752.0   \n",
       "1       NaN         0        14.0         14.0              52.0   \n",
       "2       1.0         1        17.0          1.0              58.0   \n",
       "3       1.0         1        31.0         13.0              70.0   \n",
       "4       NaN         0        16.0         11.0              88.0   \n",
       "\n",
       "   cr_changed_lines  testing_coverage  \n",
       "0           40997.0               NaN  \n",
       "1            7629.0               NaN  \n",
       "2            1513.0              8.02  \n",
       "3            2696.0               NaN  \n",
       "4            2392.0               NaN  "
      ]
     },
     "execution_count": 3,
     "metadata": {},
     "output_type": "execute_result"
    }
   ],
   "source": [
    "df = pd.read_csv('../data/combined_results.csv')\n",
    "df.head()"
   ]
  },
  {
   "cell_type": "markdown",
   "id": "eb731f4b",
   "metadata": {},
   "source": [
    "# CI usage vs. Local builds"
   ]
  },
  {
   "cell_type": "code",
   "execution_count": 5,
   "id": "b85f0850",
   "metadata": {},
   "outputs": [
    {
     "data": {
      "text/html": [
       "<div>\n",
       "<style scoped>\n",
       "    .dataframe tbody tr th:only-of-type {\n",
       "        vertical-align: middle;\n",
       "    }\n",
       "\n",
       "    .dataframe tbody tr th {\n",
       "        vertical-align: top;\n",
       "    }\n",
       "\n",
       "    .dataframe thead th {\n",
       "        text-align: right;\n",
       "    }\n",
       "</style>\n",
       "<table border=\"1\" class=\"dataframe\">\n",
       "  <thead>\n",
       "    <tr style=\"text-align: right;\">\n",
       "      <th></th>\n",
       "      <th>ci_usage</th>\n",
       "      <th>local_build</th>\n",
       "      <th>repo_name</th>\n",
       "      <th>sat_usage</th>\n",
       "      <th>ci_build_combined</th>\n",
       "      <th>ci_state</th>\n",
       "      <th>cr_reviews</th>\n",
       "      <th>cr_comments</th>\n",
       "      <th>cr_changed_files</th>\n",
       "      <th>cr_changed_lines</th>\n",
       "      <th>testing_coverage</th>\n",
       "    </tr>\n",
       "  </thead>\n",
       "  <tbody>\n",
       "    <tr>\n",
       "      <th>0</th>\n",
       "      <td>0</td>\n",
       "      <td>0.0</td>\n",
       "      <td>149</td>\n",
       "      <td>149</td>\n",
       "      <td>0</td>\n",
       "      <td>0</td>\n",
       "      <td>143</td>\n",
       "      <td>143</td>\n",
       "      <td>143</td>\n",
       "      <td>143</td>\n",
       "      <td>0</td>\n",
       "    </tr>\n",
       "    <tr>\n",
       "      <th>1</th>\n",
       "      <td>0</td>\n",
       "      <td>1.0</td>\n",
       "      <td>201</td>\n",
       "      <td>201</td>\n",
       "      <td>0</td>\n",
       "      <td>0</td>\n",
       "      <td>196</td>\n",
       "      <td>196</td>\n",
       "      <td>196</td>\n",
       "      <td>196</td>\n",
       "      <td>83</td>\n",
       "    </tr>\n",
       "    <tr>\n",
       "      <th>2</th>\n",
       "      <td>1</td>\n",
       "      <td>0.0</td>\n",
       "      <td>239</td>\n",
       "      <td>239</td>\n",
       "      <td>220</td>\n",
       "      <td>239</td>\n",
       "      <td>237</td>\n",
       "      <td>237</td>\n",
       "      <td>237</td>\n",
       "      <td>237</td>\n",
       "      <td>0</td>\n",
       "    </tr>\n",
       "    <tr>\n",
       "      <th>3</th>\n",
       "      <td>1</td>\n",
       "      <td>1.0</td>\n",
       "      <td>458</td>\n",
       "      <td>458</td>\n",
       "      <td>424</td>\n",
       "      <td>458</td>\n",
       "      <td>445</td>\n",
       "      <td>445</td>\n",
       "      <td>445</td>\n",
       "      <td>445</td>\n",
       "      <td>227</td>\n",
       "    </tr>\n",
       "  </tbody>\n",
       "</table>\n",
       "</div>"
      ],
      "text/plain": [
       "   ci_usage  local_build  repo_name  sat_usage  ci_build_combined  ci_state  \\\n",
       "0         0          0.0        149        149                  0         0   \n",
       "1         0          1.0        201        201                  0         0   \n",
       "2         1          0.0        239        239                220       239   \n",
       "3         1          1.0        458        458                424       458   \n",
       "\n",
       "   cr_reviews  cr_comments  cr_changed_files  cr_changed_lines  \\\n",
       "0         143          143               143               143   \n",
       "1         196          196               196               196   \n",
       "2         237          237               237               237   \n",
       "3         445          445               445               445   \n",
       "\n",
       "   testing_coverage  \n",
       "0                 0  \n",
       "1                83  \n",
       "2                 0  \n",
       "3               227  "
      ]
     },
     "execution_count": 5,
     "metadata": {},
     "output_type": "execute_result"
    }
   ],
   "source": [
    "df_grouped = df.groupby(by=['ci_usage', 'local_build']).count().reset_index()\n",
    "df_grouped.head()"
   ]
  },
  {
   "cell_type": "code",
   "execution_count": 7,
   "id": "4359a086",
   "metadata": {},
   "outputs": [
    {
     "data": {
      "image/png": "[encoded data removed]",
      "text/plain": [
       "<Figure size 504x360 with 1 Axes>"
      ]
     },
     "metadata": {},
     "output_type": "display_data"
    }
   ],
   "source": [
    "\n",
    "# Create an array with the colors you want to use\n",
    "colors = [\"#FF8C00\", \"#4374B3\"]\n",
    "# Set your custom color palette\n",
    "sns.set(font_scale=1)\n",
    "\n",
    "sns.set_theme(style=\"whitegrid\")\n",
    "sns.set_palette(sns.color_palette(colors))\n",
    "ax = sns.barplot(x=\"local_build\", y=\"repo_name\", hue=\"ci_usage\", data=df_grouped)\n",
    "ax.set_xlabel(\"Local Build Result\", fontsize = 13)\n",
    "ax.set_ylabel(\"Projects Count\", fontsize = 13)\n",
    "\n",
    "orange_patch = mpatches.Patch(color=colors[0])\n",
    "blue_patch = mpatches.Patch(color=colors[1])\n",
    "\n",
    "ax.legend(title='CI Usage', labels=['No (350, ~33%)', 'Yes (697, ~67%)'], handles=[orange_patch, blue_patch], fontsize = 12)\n",
    "\n",
    "plt.xticks([0,1], ['Failed', 'Successful'])\n",
    "for container in ax.containers:\n",
    "    ax.bar_label(container)\n",
    "    \n",
    "plt.gcf().set_size_inches(7,5)\n",
    "plt.tight_layout()\n",
    "plt.savefig('../figures/ci-usage-bar-chart.pdf', dpi=300)\n"
   ]
  },
  {
   "cell_type": "code",
   "execution_count": 8,
   "id": "30180cb2",
   "metadata": {},
   "outputs": [
    {
     "data": {
      "text/html": [
       "<div>\n",
       "<style scoped>\n",
       "    .dataframe tbody tr th:only-of-type {\n",
       "        vertical-align: middle;\n",
       "    }\n",
       "\n",
       "    .dataframe tbody tr th {\n",
       "        vertical-align: top;\n",
       "    }\n",
       "\n",
       "    .dataframe thead th {\n",
       "        text-align: right;\n",
       "    }\n",
       "</style>\n",
       "<table border=\"1\" class=\"dataframe\">\n",
       "  <thead>\n",
       "    <tr style=\"text-align: right;\">\n",
       "      <th></th>\n",
       "      <th>No Build</th>\n",
       "      <th>Yes Build</th>\n",
       "    </tr>\n",
       "  </thead>\n",
       "  <tbody>\n",
       "    <tr>\n",
       "      <th>Yes CI</th>\n",
       "      <td>149</td>\n",
       "      <td>201</td>\n",
       "    </tr>\n",
       "    <tr>\n",
       "      <th>No CI</th>\n",
       "      <td>239</td>\n",
       "      <td>458</td>\n",
       "    </tr>\n",
       "  </tbody>\n",
       "</table>\n",
       "</div>"
      ],
      "text/plain": [
       "        No Build  Yes Build\n",
       "Yes CI       149        201\n",
       "No CI        239        458"
      ]
     },
     "execution_count": 8,
     "metadata": {},
     "output_type": "execute_result"
    }
   ],
   "source": [
    "stats_df = pd.DataFrame({'No Build': [149, 239],\n",
    "                   'Yes Build' : [201, 458]},index ={'No CI','Yes CI'})\n",
    "stats_df"
   ]
  },
  {
   "cell_type": "code",
   "execution_count": 13,
   "id": "39b2b981",
   "metadata": {},
   "outputs": [],
   "source": [
    "def cal_chi_sq_cramer_v(stats_df):\n",
    "    chiRes = stats.chi2_contingency(stats_df)\n",
    "    # Details\n",
    "    print(f'chi-square statistic: {chiRes[0]}')\n",
    "    print(f'p-value: {chiRes[1]}')\n",
    "    print(f'degree of freedom: {chiRes[2]}')\n",
    "    print('expected contingency table') \n",
    "    print(chiRes[3])\n",
    "    # chi-square test statistic (alternative method to derive chi-sq stat)\n",
    "    chisq_stat = stats.chi2_contingency(stats_df, correction=False)[0]\n",
    "    # sample size\n",
    "    n = np.sum(np.sum(stats_df))\n",
    "    # minimum of rows & columns\n",
    "    minshape = min(stats_df.shape)-1\n",
    "    # Cramer's v\n",
    "    V_ = np.sqrt( (chisq_stat/n)/minshape)\n",
    "    print(f\"Cramer' V: {V_}\")"
   ]
  },
  {
   "cell_type": "code",
   "execution_count": 14,
   "id": "9c5cb65f",
   "metadata": {},
   "outputs": [
    {
     "name": "stdout",
     "output_type": "stream",
     "text": [
      "chi-square statistic: 6.500650826607792\n",
      "p-value: 0.010783501227885914\n",
      "degree of freedom: 1\n",
      "expected contingency table\n",
      "[[129.70391595 220.29608405]\n",
      " [258.29608405 438.70391595]]\n",
      "Cramer' V: 0.0808922438777348\n"
     ]
    }
   ],
   "source": [
    "cal_chi_sq_cramer_v(stats_df)"
   ]
  },
  {
   "cell_type": "markdown",
   "id": "63448c6a",
   "metadata": {},
   "source": [
    "# CI buids vs. Local builds"
   ]
  },
  {
   "cell_type": "code",
   "execution_count": 15,
   "id": "7975300f",
   "metadata": {},
   "outputs": [
    {
     "data": {
      "text/html": [
       "<div>\n",
       "<style scoped>\n",
       "    .dataframe tbody tr th:only-of-type {\n",
       "        vertical-align: middle;\n",
       "    }\n",
       "\n",
       "    .dataframe tbody tr th {\n",
       "        vertical-align: top;\n",
       "    }\n",
       "\n",
       "    .dataframe thead th {\n",
       "        text-align: right;\n",
       "    }\n",
       "</style>\n",
       "<table border=\"1\" class=\"dataframe\">\n",
       "  <thead>\n",
       "    <tr style=\"text-align: right;\">\n",
       "      <th></th>\n",
       "      <th>ci_build_combined</th>\n",
       "      <th>local_build</th>\n",
       "      <th>repo_name</th>\n",
       "      <th>sat_usage</th>\n",
       "      <th>ci_state</th>\n",
       "      <th>ci_usage</th>\n",
       "      <th>cr_reviews</th>\n",
       "      <th>cr_comments</th>\n",
       "      <th>cr_changed_files</th>\n",
       "      <th>cr_changed_lines</th>\n",
       "      <th>testing_coverage</th>\n",
       "    </tr>\n",
       "  </thead>\n",
       "  <tbody>\n",
       "    <tr>\n",
       "      <th>0</th>\n",
       "      <td>0.0</td>\n",
       "      <td>0.0</td>\n",
       "      <td>48</td>\n",
       "      <td>48</td>\n",
       "      <td>48</td>\n",
       "      <td>48</td>\n",
       "      <td>48</td>\n",
       "      <td>48</td>\n",
       "      <td>48</td>\n",
       "      <td>48</td>\n",
       "      <td>0</td>\n",
       "    </tr>\n",
       "    <tr>\n",
       "      <th>1</th>\n",
       "      <td>0.0</td>\n",
       "      <td>1.0</td>\n",
       "      <td>59</td>\n",
       "      <td>59</td>\n",
       "      <td>59</td>\n",
       "      <td>59</td>\n",
       "      <td>58</td>\n",
       "      <td>58</td>\n",
       "      <td>58</td>\n",
       "      <td>58</td>\n",
       "      <td>31</td>\n",
       "    </tr>\n",
       "    <tr>\n",
       "      <th>2</th>\n",
       "      <td>1.0</td>\n",
       "      <td>0.0</td>\n",
       "      <td>172</td>\n",
       "      <td>172</td>\n",
       "      <td>172</td>\n",
       "      <td>172</td>\n",
       "      <td>171</td>\n",
       "      <td>171</td>\n",
       "      <td>171</td>\n",
       "      <td>171</td>\n",
       "      <td>0</td>\n",
       "    </tr>\n",
       "    <tr>\n",
       "      <th>3</th>\n",
       "      <td>1.0</td>\n",
       "      <td>1.0</td>\n",
       "      <td>365</td>\n",
       "      <td>365</td>\n",
       "      <td>365</td>\n",
       "      <td>365</td>\n",
       "      <td>358</td>\n",
       "      <td>358</td>\n",
       "      <td>358</td>\n",
       "      <td>358</td>\n",
       "      <td>180</td>\n",
       "    </tr>\n",
       "  </tbody>\n",
       "</table>\n",
       "</div>"
      ],
      "text/plain": [
       "   ci_build_combined  local_build  repo_name  sat_usage  ci_state  ci_usage  \\\n",
       "0                0.0          0.0         48         48        48        48   \n",
       "1                0.0          1.0         59         59        59        59   \n",
       "2                1.0          0.0        172        172       172       172   \n",
       "3                1.0          1.0        365        365       365       365   \n",
       "\n",
       "   cr_reviews  cr_comments  cr_changed_files  cr_changed_lines  \\\n",
       "0          48           48                48                48   \n",
       "1          58           58                58                58   \n",
       "2         171          171               171               171   \n",
       "3         358          358               358               358   \n",
       "\n",
       "   testing_coverage  \n",
       "0                 0  \n",
       "1                31  \n",
       "2                 0  \n",
       "3               180  "
      ]
     },
     "execution_count": 15,
     "metadata": {},
     "output_type": "execute_result"
    }
   ],
   "source": [
    "df_grouped = df.groupby(by=['ci_build_combined', 'local_build']).count().reset_index()\n",
    "df_grouped.head()"
   ]
  },
  {
   "cell_type": "code",
   "execution_count": 17,
   "id": "ff363ef1",
   "metadata": {},
   "outputs": [
    {
     "data": {
      "image/png": "[encoded data removed]",
      "text/plain": [
       "<Figure size 504x360 with 1 Axes>"
      ]
     },
     "metadata": {},
     "output_type": "display_data"
    }
   ],
   "source": [
    "\n",
    "# Create an array with the colors you want to use\n",
    "colors = [\"#FF8C00\", \"#4374B3\"]\n",
    "# Set your custom color palette\n",
    "sns.set(font_scale=1)\n",
    "\n",
    "sns.set_theme(style=\"whitegrid\")\n",
    "sns.set_palette(sns.color_palette(colors))\n",
    "ax = sns.barplot(x=\"local_build\", y=\"repo_name\", hue=\"ci_build_combined\", data=df_grouped)\n",
    "ax.set_xlabel(\"Local Build Result\", fontsize = 13)\n",
    "ax.set_ylabel(\"Projects Count\", fontsize = 13)\n",
    "\n",
    "orange_patch = mpatches.Patch(color=colors[0])\n",
    "blue_patch = mpatches.Patch(color=colors[1])\n",
    "\n",
    "ax.legend(title='CI build results', labels=['Failed (107, ~17%)', 'Successful (537, ~83%)'], handles=[orange_patch, blue_patch], fontsize = 12)\n",
    "\n",
    "plt.xticks([0,1], ['Failed', 'Successful'])\n",
    "for container in ax.containers:\n",
    "    ax.bar_label(container)\n",
    "    \n",
    "plt.gcf().set_size_inches(7,5)\n",
    "plt.tight_layout()\n",
    "plt.savefig('../figures/ci-local-builds-bar-chart.pdf', dpi=300)\n"
   ]
  },
  {
   "cell_type": "code",
   "execution_count": 18,
   "id": "08355294",
   "metadata": {},
   "outputs": [
    {
     "data": {
      "text/html": [
       "<div>\n",
       "<style scoped>\n",
       "    .dataframe tbody tr th:only-of-type {\n",
       "        vertical-align: middle;\n",
       "    }\n",
       "\n",
       "    .dataframe tbody tr th {\n",
       "        vertical-align: top;\n",
       "    }\n",
       "\n",
       "    .dataframe thead th {\n",
       "        text-align: right;\n",
       "    }\n",
       "</style>\n",
       "<table border=\"1\" class=\"dataframe\">\n",
       "  <thead>\n",
       "    <tr style=\"text-align: right;\">\n",
       "      <th></th>\n",
       "      <th>Failed Local</th>\n",
       "      <th>Successful Local</th>\n",
       "    </tr>\n",
       "  </thead>\n",
       "  <tbody>\n",
       "    <tr>\n",
       "      <th>Failed CI</th>\n",
       "      <td>48</td>\n",
       "      <td>59</td>\n",
       "    </tr>\n",
       "    <tr>\n",
       "      <th>Successful CI</th>\n",
       "      <td>172</td>\n",
       "      <td>365</td>\n",
       "    </tr>\n",
       "  </tbody>\n",
       "</table>\n",
       "</div>"
      ],
      "text/plain": [
       "               Failed Local  Successful Local\n",
       "Failed CI                48                59\n",
       "Successful CI           172               365"
      ]
     },
     "execution_count": 18,
     "metadata": {},
     "output_type": "execute_result"
    }
   ],
   "source": [
    "stats_df = pd.DataFrame({'Failed Local': [48, 172],\n",
    "                   'Successful Local' : [59, 365]},index ={'Failed CI','Successful CI'})\n",
    "stats_df"
   ]
  },
  {
   "cell_type": "code",
   "execution_count": 19,
   "id": "620679b1",
   "metadata": {},
   "outputs": [
    {
     "name": "stdout",
     "output_type": "stream",
     "text": [
      "chi-square statistic: 5.971968393183753\n",
      "p-value: 0.014535047168153868\n",
      "degree of freedom: 1\n",
      "expected contingency table\n",
      "[[ 36.55279503  70.44720497]\n",
      " [183.44720497 353.55279503]]\n",
      "Cramer' V: 0.10069595524115173\n"
     ]
    }
   ],
   "source": [
    "cal_chi_sq_cramer_v(stats_df)"
   ]
  },
  {
   "cell_type": "markdown",
   "id": "d50b0cbc",
   "metadata": {},
   "source": [
    "## Add Code Review Metric"
   ]
  },
  {
   "cell_type": "code",
   "execution_count": 20,
   "id": "6759d79b",
   "metadata": {},
   "outputs": [],
   "source": [
    "df['cr_rate'] = (df['cr_reviews'] + df['cr_comments']) / (df['cr_changed_lines'] / df['cr_changed_files'])"
   ]
  },
  {
   "cell_type": "markdown",
   "id": "493cd4a1",
   "metadata": {},
   "source": [
    "## Code Review / CI Usage / ASAT usage"
   ]
  },
  {
   "cell_type": "markdown",
   "id": "66000ff7",
   "metadata": {},
   "source": [
    "First we'll remove cr_rate outliers:"
   ]
  },
  {
   "cell_type": "code",
   "execution_count": 21,
   "id": "b3bae519",
   "metadata": {},
   "outputs": [
    {
     "data": {
      "image/png": "[encoded data removed]",
      "text/plain": [
       "<Figure size 400x300 with 1 Axes>"
      ]
     },
     "metadata": {},
     "output_type": "display_data"
    }
   ],
   "source": [
    "plt.rcParams.update({'figure.figsize':(4,3), 'figure.dpi':100})\n",
    "fig1, ax1 = plt.subplots()\n",
    "ax1.set_ylabel('cr rate')\n",
    "ax1.boxplot(df[~df['cr_rate'].isna()]['cr_rate'])\n",
    "# ax1.set_yscale('log')\n",
    "plt.show()"
   ]
  },
  {
   "cell_type": "code",
   "execution_count": 22,
   "id": "fa796965",
   "metadata": {},
   "outputs": [
    {
     "data": {
      "image/png": "[encoded data removed]",
      "text/plain": [
       "<Figure size 400x300 with 1 Axes>"
      ]
     },
     "metadata": {},
     "output_type": "display_data"
    }
   ],
   "source": [
    "Q1 = df['cr_rate'].quantile(0.25)\n",
    "Q3 = df['cr_rate'].quantile(0.75)\n",
    "IQR = Q3 - Q1    #IQR is interquartile range. \n",
    "\n",
    "filter = (df['cr_rate'] >= Q1 - 1.5 * IQR) & (df['cr_rate'] <= Q3 + 1.5 *IQR)\n",
    "\n",
    "plt.rcParams.update({'figure.figsize':(4,3), 'figure.dpi':100})\n",
    "fig1, ax1 = plt.subplots()\n",
    "ax1.set_ylabel('cr rate')\n",
    "ax1.boxplot(df.loc[filter]['cr_rate'])\n",
    "plt.show()"
   ]
  },
  {
   "cell_type": "code",
   "execution_count": 23,
   "id": "f400fa49",
   "metadata": {},
   "outputs": [
    {
     "data": {
      "image/png": "[encoded data removed]",
      "text/plain": [
       "<Figure size 500x300 with 2 Axes>"
      ]
     },
     "metadata": {},
     "output_type": "display_data"
    }
   ],
   "source": [
    "plt.rcParams.update({'figure.figsize':(5,3), 'figure.dpi':100})\n",
    "fig1, ax1 = plt.subplots(1,2,sharey=True)\n",
    "ax1[0].set_xlabel('Before Removing Outliers')\n",
    "ax1[0].set_ylabel('Code Review Rates in Log Scale')\n",
    "ax1[0].boxplot(df[~df['cr_rate'].isna()]['cr_rate'])\n",
    "ax1[0].set_yscale('log')\n",
    "ax1[0].set_xticks([0], [''])\n",
    "\n",
    "# ax1[1].set_ylabel('Count of statuses per project')\n",
    "ax1[1].set_xlabel('After Removing Outliers')\n",
    "ax1[1].boxplot(df.loc[filter]['cr_rate'])\n",
    "ax1[1].set_xticks([0], [''])\n",
    "\n",
    "plt.ylim(0.1, 100)\n",
    "plt.gcf().set_size_inches(5,3)\n",
    "plt.tight_layout()\n",
    "plt.savefig('../figures/code-review-metric-before-after.pdf', dpi=300)"
   ]
  },
  {
   "cell_type": "code",
   "execution_count": null,
   "id": "513c92ae",
   "metadata": {},
   "outputs": [],
   "source": []
  },
  {
   "cell_type": "code",
   "execution_count": 106,
   "id": "f9e2a5fd",
   "metadata": {},
   "outputs": [
    {
     "data": {
      "text/plain": [
       "1398"
      ]
     },
     "execution_count": 106,
     "metadata": {},
     "output_type": "execute_result"
    }
   ],
   "source": [
    "df[~df['cr_rate'].isna()]['cr_rate'].shape[0]"
   ]
  },
  {
   "cell_type": "code",
   "execution_count": 108,
   "id": "2d6bf404",
   "metadata": {},
   "outputs": [
    {
     "data": {
      "text/plain": [
       "1292"
      ]
     },
     "execution_count": 108,
     "metadata": {},
     "output_type": "execute_result"
    }
   ],
   "source": [
    "df.loc[filter]['cr_rate'].shape[0]"
   ]
  },
  {
   "cell_type": "code",
   "execution_count": 70,
   "id": "e1df5849",
   "metadata": {},
   "outputs": [
    {
     "data": {
      "image/png": "[encoded data removed]",
      "text/plain": [
       "<Figure size 1118.85x500 with 2 Axes>"
      ]
     },
     "metadata": {},
     "output_type": "display_data"
    }
   ],
   "source": [
    "g = sns.lmplot(\n",
    "    data=df.loc[filter],\n",
    "    x=\"cr_rate\", y=\"testing_coverage\", col=\"sat_usage\" ,hue=\"ci_usage_new\", height=5, legend=True,\n",
    "    markers=[\"x\", \"o\"]\n",
    ")\n",
    "# plt.legend(title='CI Usage', loc='lower right', labels=['Yes', 'No'])\n",
    "\n",
    "new_title = 'CI Usage'\n",
    "g._legend.set_title(new_title)\n",
    "new_labels = ['No', 'Yes']\n",
    "for t, l in zip(g._legend.texts, new_labels):\n",
    "    t.set_text(l)\n",
    "g.axes[0][0].set_title(\"Not Using ASAT\")\n",
    "g.axes[0][1].set_title(\"Using ASAT\")\n",
    "# Use more informative axis labels than are provided by default\n",
    "g.set_axis_labels(\"Code Review Rate\", \"Code Coverage\")\n",
    "\n",
    "plt.savefig('cc-cr-asat-ci.pdf', dpi=300)"
   ]
  },
  {
   "cell_type": "markdown",
   "id": "4f529d07",
   "metadata": {},
   "source": [
    "Count of crosses / dots per each graph"
   ]
  },
  {
   "cell_type": "code",
   "execution_count": 76,
   "id": "4b42649a",
   "metadata": {},
   "outputs": [],
   "source": [
    "no_asat_filter = (df['sat_usage'] == 0)\n",
    "no_ci_filter = (df['ci_usage_new'] == 0)\n",
    "asat_filter = (df['sat_usage'] == 1)\n",
    "ci_filter = (df['ci_usage_new'] == 1)\n",
    "with_testing_filter = (~df['testing_coverage'].isnull())"
   ]
  },
  {
   "cell_type": "code",
   "execution_count": 80,
   "id": "cb730e99",
   "metadata": {},
   "outputs": [
    {
     "name": "stdout",
     "output_type": "stream",
     "text": [
      "all_dots_count 195\n",
      "all_crosses_count 75\n",
      "left_side_count 158\n",
      "right_side_count 112\n",
      "\n",
      "left_dots_count 106\n",
      "right_dots_count 89\n",
      "left_crosses_count 52\n",
      "right_crosses_count 23\n"
     ]
    }
   ],
   "source": [
    "all_dots_count = df.loc[filter & with_testing_filter & ci_filter].shape[0]\n",
    "all_crosses_count = df.loc[filter & with_testing_filter & no_ci_filter].shape[0]\n",
    "left_side_count = df.loc[filter & with_testing_filter & no_asat_filter].shape[0]\n",
    "right_side_count = df.loc[filter & with_testing_filter & asat_filter].shape[0]\n",
    "\n",
    "left_dots_count = df.loc[filter & with_testing_filter & no_asat_filter & ci_filter].shape[0]\n",
    "right_dots_count = df.loc[filter & with_testing_filter & asat_filter & ci_filter].shape[0]\n",
    "left_crosses_count = df.loc[filter & with_testing_filter & no_asat_filter & no_ci_filter].shape[0]\n",
    "right_crosses_count = df.loc[filter & with_testing_filter & asat_filter & no_ci_filter].shape[0]\n",
    "\n",
    "print('all_dots_count', all_dots_count)\n",
    "print('all_crosses_count', all_crosses_count)\n",
    "print('left_side_count', left_side_count)\n",
    "print('right_side_count', right_side_count)\n",
    "print()\n",
    "print('left_dots_count', left_dots_count)\n",
    "print('right_dots_count', right_dots_count)\n",
    "print('left_crosses_count', left_crosses_count)\n",
    "print('right_crosses_count', right_crosses_count)"
   ]
  },
  {
   "cell_type": "code",
   "execution_count": 83,
   "id": "88fda1ff",
   "metadata": {},
   "outputs": [
    {
     "name": "stdout",
     "output_type": "stream",
     "text": [
      "0.5222222222222223\n",
      "0.4777777777777778\n"
     ]
    }
   ],
   "source": [
    "print((right_dots_count + left_crosses_count) / 270)\n",
    "print((right_crosses_count + left_dots_count) / 270)"
   ]
  },
  {
   "cell_type": "code",
   "execution_count": 85,
   "id": "d0405043",
   "metadata": {},
   "outputs": [
    {
     "name": "stdout",
     "output_type": "stream",
     "text": [
      "0.7946428571428571\n",
      "0.6708860759493671\n"
     ]
    }
   ],
   "source": [
    "print(right_dots_count / (right_dots_count + right_crosses_count))\n",
    "print(left_dots_count / (left_dots_count + left_crosses_count))"
   ]
  },
  {
   "cell_type": "markdown",
   "id": "e5f18335",
   "metadata": {},
   "source": [
    "# CI vs. ASAT"
   ]
  },
  {
   "cell_type": "code",
   "execution_count": 42,
   "id": "ce50041e",
   "metadata": {},
   "outputs": [
    {
     "name": "stdout",
     "output_type": "stream",
     "text": [
      "379\n",
      "533\n",
      "169\n",
      "373\n"
     ]
    }
   ],
   "source": [
    "print(df[(df['ci_usage_new'] == 1) & (df['sat_usage'] == 1)].shape[0])\n",
    "print(df[(df['ci_usage_new'] == 1) & (df['sat_usage'] == 0)].shape[0])\n",
    "print(df[(df['ci_usage_new'] == 0) & (df['sat_usage'] == 1)].shape[0])\n",
    "print(df[(df['ci_usage_new'] == 0) & (df['sat_usage'] == 0)].shape[0])"
   ]
  },
  {
   "cell_type": "code",
   "execution_count": 43,
   "id": "f18b8276",
   "metadata": {},
   "outputs": [
    {
     "data": {
      "text/html": [
       "<div>\n",
       "<style scoped>\n",
       "    .dataframe tbody tr th:only-of-type {\n",
       "        vertical-align: middle;\n",
       "    }\n",
       "\n",
       "    .dataframe tbody tr th {\n",
       "        vertical-align: top;\n",
       "    }\n",
       "\n",
       "    .dataframe thead th {\n",
       "        text-align: right;\n",
       "    }\n",
       "</style>\n",
       "<table border=\"1\" class=\"dataframe\">\n",
       "  <thead>\n",
       "    <tr style=\"text-align: right;\">\n",
       "      <th></th>\n",
       "      <th>No ASAT</th>\n",
       "      <th>Yes ASAT</th>\n",
       "    </tr>\n",
       "  </thead>\n",
       "  <tbody>\n",
       "    <tr>\n",
       "      <th>CI Yes</th>\n",
       "      <td>373</td>\n",
       "      <td>169</td>\n",
       "    </tr>\n",
       "    <tr>\n",
       "      <th>CI No</th>\n",
       "      <td>533</td>\n",
       "      <td>379</td>\n",
       "    </tr>\n",
       "  </tbody>\n",
       "</table>\n",
       "</div>"
      ],
      "text/plain": [
       "        No ASAT  Yes ASAT\n",
       "CI Yes      373       169\n",
       "CI No       533       379"
      ]
     },
     "execution_count": 43,
     "metadata": {},
     "output_type": "execute_result"
    }
   ],
   "source": [
    "OD = pd.DataFrame({'No ASAT': [373, 533],\n",
    "                   'Yes ASAT' : [169, 379]},index ={'CI Yes','CI No'})\n",
    "OD"
   ]
  },
  {
   "cell_type": "code",
   "execution_count": 44,
   "id": "af5ccfe9",
   "metadata": {},
   "outputs": [
    {
     "name": "stdout",
     "output_type": "stream",
     "text": [
      "chi-square statistic: 15.147019782761388\n",
      "p-value: 9.945517397323125e-05\n",
      "0.0000994552\n",
      "degree of freedom: 1\n",
      "expected contingency table\n",
      "[[337.72489684 204.27510316]\n",
      " [568.27510316 343.72489684]]\n"
     ]
    }
   ],
   "source": [
    "chiRes = stats.chi2_contingency(OD)\n",
    "# Details\n",
    "print(f'chi-square statistic: {chiRes[0]}')\n",
    "print(f'p-value: {chiRes[1]}')\n",
    "print(\"{:.10f}\". format(chiRes[1]))\n",
    "print(f'degree of freedom: {chiRes[2]}')\n",
    "print('expected contingency table') \n",
    "print(chiRes[3])"
   ]
  },
  {
   "cell_type": "code",
   "execution_count": 45,
   "id": "265720fe",
   "metadata": {},
   "outputs": [
    {
     "name": "stdout",
     "output_type": "stream",
     "text": [
      "chi-square statistic: 15.147019782761388\n",
      "p-value: 9.945517397323125e-05\n",
      "Cramer' V: 0.10353358647952651\n"
     ]
    }
   ],
   "source": [
    "# chi-square test\n",
    "print(f'chi-square statistic: {chiRes[0]}')\n",
    "print(f'p-value: {chiRes[1]}')\n",
    "# chi-square test statistic (alternative method to derive chi-sq stat)\n",
    "chisq_stat = stats.chi2_contingency(OD, correction=False)[0]\n",
    "# sample size\n",
    "n = np.sum(np.sum(OD))\n",
    "# minimum of rows & columns\n",
    "minshape = min(OD.shape)-1\n",
    "# Cramer's v\n",
    "V_ = np.sqrt( (chisq_stat/n)/minshape)\n",
    "print(f\"Cramer' V: {V_}\")"
   ]
  },
  {
   "cell_type": "markdown",
   "id": "388d4ccd",
   "metadata": {},
   "source": [
    "# CI vs. Testing"
   ]
  },
  {
   "cell_type": "code",
   "execution_count": 46,
   "id": "a5e5c1f0",
   "metadata": {},
   "outputs": [],
   "source": [
    "test_df = df[(~df['ci_usage_new'].isna()) & (~df['testing_coverage'].isna())]"
   ]
  },
  {
   "cell_type": "code",
   "execution_count": 47,
   "id": "50a1f1dd",
   "metadata": {},
   "outputs": [
    {
     "data": {
      "text/html": [
       "<div>\n",
       "<style scoped>\n",
       "    .dataframe tbody tr th:only-of-type {\n",
       "        vertical-align: middle;\n",
       "    }\n",
       "\n",
       "    .dataframe tbody tr th {\n",
       "        vertical-align: top;\n",
       "    }\n",
       "\n",
       "    .dataframe thead th {\n",
       "        text-align: right;\n",
       "    }\n",
       "</style>\n",
       "<table border=\"1\" class=\"dataframe\">\n",
       "  <thead>\n",
       "    <tr style=\"text-align: right;\">\n",
       "      <th></th>\n",
       "      <th>ci_usage_new</th>\n",
       "      <th>testing_coverage</th>\n",
       "    </tr>\n",
       "  </thead>\n",
       "  <tbody>\n",
       "    <tr>\n",
       "      <th>2</th>\n",
       "      <td>1</td>\n",
       "      <td>8.02</td>\n",
       "    </tr>\n",
       "    <tr>\n",
       "      <th>8</th>\n",
       "      <td>1</td>\n",
       "      <td>48.47</td>\n",
       "    </tr>\n",
       "    <tr>\n",
       "      <th>11</th>\n",
       "      <td>1</td>\n",
       "      <td>4.71</td>\n",
       "    </tr>\n",
       "    <tr>\n",
       "      <th>26</th>\n",
       "      <td>1</td>\n",
       "      <td>36.06</td>\n",
       "    </tr>\n",
       "    <tr>\n",
       "      <th>29</th>\n",
       "      <td>0</td>\n",
       "      <td>11.13</td>\n",
       "    </tr>\n",
       "    <tr>\n",
       "      <th>...</th>\n",
       "      <td>...</td>\n",
       "      <td>...</td>\n",
       "    </tr>\n",
       "    <tr>\n",
       "      <th>1434</th>\n",
       "      <td>1</td>\n",
       "      <td>100.00</td>\n",
       "    </tr>\n",
       "    <tr>\n",
       "      <th>1435</th>\n",
       "      <td>1</td>\n",
       "      <td>100.00</td>\n",
       "    </tr>\n",
       "    <tr>\n",
       "      <th>1440</th>\n",
       "      <td>1</td>\n",
       "      <td>2.85</td>\n",
       "    </tr>\n",
       "    <tr>\n",
       "      <th>1443</th>\n",
       "      <td>1</td>\n",
       "      <td>60.88</td>\n",
       "    </tr>\n",
       "    <tr>\n",
       "      <th>1451</th>\n",
       "      <td>0</td>\n",
       "      <td>30.44</td>\n",
       "    </tr>\n",
       "  </tbody>\n",
       "</table>\n",
       "<p>310 rows × 2 columns</p>\n",
       "</div>"
      ],
      "text/plain": [
       "      ci_usage_new  testing_coverage\n",
       "2                1              8.02\n",
       "8                1             48.47\n",
       "11               1              4.71\n",
       "26               1             36.06\n",
       "29               0             11.13\n",
       "...            ...               ...\n",
       "1434             1            100.00\n",
       "1435             1            100.00\n",
       "1440             1              2.85\n",
       "1443             1             60.88\n",
       "1451             0             30.44\n",
       "\n",
       "[310 rows x 2 columns]"
      ]
     },
     "execution_count": 47,
     "metadata": {},
     "output_type": "execute_result"
    }
   ],
   "source": [
    "test_df[['ci_usage_new', 'testing_coverage']]"
   ]
  },
  {
   "cell_type": "code",
   "execution_count": 48,
   "id": "9d8e6857",
   "metadata": {},
   "outputs": [
    {
     "name": "stdout",
     "output_type": "stream",
     "text": [
      "correlation between X and y: 0.0231\n",
      "p-value: 0.69\n"
     ]
    }
   ],
   "source": [
    "result = stats.pointbiserialr(test_df['ci_usage_new'], test_df['testing_coverage'])\n",
    "print(f'correlation between X and y: {result[0]:.4f}')\n",
    "print(f'p-value: {result[1]:.2g}')"
   ]
  },
  {
   "cell_type": "markdown",
   "id": "e30a483e",
   "metadata": {},
   "source": [
    "# CI vs. Code Review"
   ]
  },
  {
   "cell_type": "code",
   "execution_count": 49,
   "id": "c1b2550d",
   "metadata": {},
   "outputs": [],
   "source": [
    "test_df = df[(~df['ci_usage_new'].isna()) & (~df['cr_rate'].isna())]"
   ]
  },
  {
   "cell_type": "code",
   "execution_count": 50,
   "id": "811a3ef7",
   "metadata": {},
   "outputs": [
    {
     "name": "stdout",
     "output_type": "stream",
     "text": [
      "correlation between X and y: 0.0317\n",
      "p-value: 0.24\n"
     ]
    }
   ],
   "source": [
    "result = stats.pointbiserialr(test_df['ci_usage_new'], test_df['cr_rate'])\n",
    "print(f'correlation between X and y: {result[0]:.4f}')\n",
    "print(f'p-value: {result[1]:.2g}')"
   ]
  },
  {
   "cell_type": "code",
   "execution_count": 51,
   "id": "80658113",
   "metadata": {},
   "outputs": [
    {
     "name": "stdout",
     "output_type": "stream",
     "text": [
      "correlation between X and y: 0.0317\n",
      "p-value: 0.24\n"
     ]
    }
   ],
   "source": [
    "result = stats.pointbiserialr(test_df['cr_rate'], test_df['ci_usage_new'])\n",
    "print(f'correlation between X and y: {result[0]:.4f}')\n",
    "print(f'p-value: {result[1]:.2g}')"
   ]
  },
  {
   "cell_type": "markdown",
   "id": "cdd6e1c5",
   "metadata": {},
   "source": [
    "After removing outliers of code review:"
   ]
  },
  {
   "cell_type": "code",
   "execution_count": 52,
   "id": "36d515f3",
   "metadata": {},
   "outputs": [
    {
     "name": "stdout",
     "output_type": "stream",
     "text": [
      "correlation between X and y: 0.1020\n",
      "p-value: 0.00024\n"
     ]
    }
   ],
   "source": [
    "test_df = df.loc[filter &(~df['ci_usage_new'].isna()) & (~df['cr_rate'].isna())]\n",
    "result = stats.pointbiserialr(test_df['ci_usage_new'], test_df['cr_rate'])\n",
    "print(f'correlation between X and y: {result[0]:.4f}')\n",
    "print(f'p-value: {result[1]:.2g}')"
   ]
  },
  {
   "cell_type": "markdown",
   "id": "711f270c",
   "metadata": {},
   "source": [
    "# ASAT vs. Code Review"
   ]
  },
  {
   "cell_type": "code",
   "execution_count": 53,
   "id": "e7adcaa1",
   "metadata": {},
   "outputs": [
    {
     "name": "stdout",
     "output_type": "stream",
     "text": [
      "correlation between X and y: 0.0190\n",
      "p-value: 0.48\n"
     ]
    }
   ],
   "source": [
    "test_df = df[(~df['sat_usage'].isna()) & (~df['cr_rate'].isna())]\n",
    "\n",
    "result = stats.pointbiserialr(test_df['sat_usage'], test_df['cr_rate'])\n",
    "print(f'correlation between X and y: {result[0]:.4f}')\n",
    "print(f'p-value: {result[1]:.2g}')"
   ]
  },
  {
   "cell_type": "markdown",
   "id": "abc0ddf9",
   "metadata": {},
   "source": [
    "After removing outliers:"
   ]
  },
  {
   "cell_type": "code",
   "execution_count": 54,
   "id": "b0f6ad26",
   "metadata": {},
   "outputs": [
    {
     "name": "stdout",
     "output_type": "stream",
     "text": [
      "correlation between X and y: 0.1190\n",
      "p-value: 1.8e-05\n"
     ]
    }
   ],
   "source": [
    "test_df = df.loc[filter &(~df['sat_usage'].isna()) & (~df['cr_rate'].isna())]\n",
    "\n",
    "result = stats.pointbiserialr(test_df['sat_usage'], test_df['cr_rate'])\n",
    "print(f'correlation between X and y: {result[0]:.4f}')\n",
    "print(f'p-value: {result[1]:.2g}')"
   ]
  },
  {
   "cell_type": "markdown",
   "id": "b1da36d7",
   "metadata": {},
   "source": [
    "# Testing vs. Code Review"
   ]
  },
  {
   "cell_type": "code",
   "execution_count": 55,
   "id": "bce4a916",
   "metadata": {},
   "outputs": [
    {
     "name": "stdout",
     "output_type": "stream",
     "text": [
      "correlation between X and y: 0.2912\n",
      "p-value: 2.7e-07\n"
     ]
    }
   ],
   "source": [
    "test_df = df[(~df['cr_rate'].isna()) & (~df['testing_coverage'].isna())]\n",
    "\n",
    "result = stats.pointbiserialr(test_df['testing_coverage'], test_df['cr_rate'])\n",
    "print(f'correlation between X and y: {result[0]:.4f}')\n",
    "print(f'p-value: {result[1]:.2g}')"
   ]
  },
  {
   "cell_type": "code",
   "execution_count": 56,
   "id": "96c9c2c0",
   "metadata": {},
   "outputs": [
    {
     "name": "stdout",
     "output_type": "stream",
     "text": [
      "correlation between X and y: 0.1542\n",
      "p-value: 0.011\n"
     ]
    }
   ],
   "source": [
    "test_df = df.loc[filter &(~df['testing_coverage'].isna()) & (~df['cr_rate'].isna())]\n",
    "\n",
    "result = stats.pointbiserialr(test_df['testing_coverage'], test_df['cr_rate'])\n",
    "print(f'correlation between X and y: {result[0]:.4f}')\n",
    "print(f'p-value: {result[1]:.2g}')"
   ]
  },
  {
   "cell_type": "markdown",
   "id": "ff91e9a1",
   "metadata": {},
   "source": [
    "# More Code Review Analysis"
   ]
  },
  {
   "cell_type": "code",
   "execution_count": 57,
   "id": "dcb55393",
   "metadata": {},
   "outputs": [
    {
     "data": {
      "text/plain": [
       "239"
      ]
     },
     "execution_count": 57,
     "metadata": {},
     "output_type": "execute_result"
    }
   ],
   "source": [
    "high_cr_filter = ((df['comments'] == 'Very High') | (df['reviews'] == 'Very High'))\n",
    "df[high_cr_filter].shape[0]"
   ]
  },
  {
   "cell_type": "code",
   "execution_count": 58,
   "id": "bc847851",
   "metadata": {},
   "outputs": [
    {
     "data": {
      "text/plain": [
       "0    121\n",
       "1    118\n",
       "Name: sat_usage, dtype: int64"
      ]
     },
     "execution_count": 58,
     "metadata": {},
     "output_type": "execute_result"
    }
   ],
   "source": [
    "df[high_cr_filter].sat_usage.value_counts()"
   ]
  },
  {
   "cell_type": "code",
   "execution_count": 59,
   "id": "7371fa4c",
   "metadata": {},
   "outputs": [
    {
     "data": {
      "text/plain": [
       "1    156\n",
       "0     83\n",
       "Name: ci_usage_new, dtype: int64"
      ]
     },
     "execution_count": 59,
     "metadata": {},
     "output_type": "execute_result"
    }
   ],
   "source": [
    "df[high_cr_filter].ci_usage_new.value_counts()"
   ]
  },
  {
   "cell_type": "code",
   "execution_count": 60,
   "id": "3d352d3a",
   "metadata": {},
   "outputs": [
    {
     "name": "stdout",
     "output_type": "stream",
     "text": [
      "48.955\n",
      "45.837\n"
     ]
    }
   ],
   "source": [
    "print(df[high_cr_filter].testing_coverage.median())\n",
    "print(df[high_cr_filter].testing_coverage.mean())"
   ]
  },
  {
   "cell_type": "code",
   "execution_count": 61,
   "id": "b3b024b6",
   "metadata": {},
   "outputs": [
    {
     "data": {
      "text/plain": [
       "40"
      ]
     },
     "execution_count": 61,
     "metadata": {},
     "output_type": "execute_result"
    }
   ],
   "source": [
    "df[high_cr_filter].testing_coverage.count()"
   ]
  },
  {
   "cell_type": "code",
   "execution_count": 62,
   "id": "6044208f",
   "metadata": {},
   "outputs": [
    {
     "data": {
      "text/plain": [
       "781"
      ]
     },
     "execution_count": 62,
     "metadata": {},
     "output_type": "execute_result"
    }
   ],
   "source": [
    "low_cr_filter = ((df['comments'] == 'Low') & (df['reviews'] == 'Low'))\n",
    "df[low_cr_filter].shape[0]"
   ]
  },
  {
   "cell_type": "code",
   "execution_count": 63,
   "id": "9a151c09",
   "metadata": {},
   "outputs": [
    {
     "data": {
      "text/plain": [
       "0    534\n",
       "1    247\n",
       "Name: sat_usage, dtype: int64"
      ]
     },
     "execution_count": 63,
     "metadata": {},
     "output_type": "execute_result"
    }
   ],
   "source": [
    "df[low_cr_filter].sat_usage.value_counts()"
   ]
  },
  {
   "cell_type": "code",
   "execution_count": 64,
   "id": "870f92ff",
   "metadata": {},
   "outputs": [
    {
     "data": {
      "text/plain": [
       "1    477\n",
       "0    304\n",
       "Name: ci_usage_new, dtype: int64"
      ]
     },
     "execution_count": 64,
     "metadata": {},
     "output_type": "execute_result"
    }
   ],
   "source": [
    "df[low_cr_filter].ci_usage_new.value_counts()"
   ]
  },
  {
   "cell_type": "code",
   "execution_count": 65,
   "id": "7e0c3aff",
   "metadata": {},
   "outputs": [
    {
     "name": "stdout",
     "output_type": "stream",
     "text": [
      "44.8\n",
      "44.59529069767442\n"
     ]
    }
   ],
   "source": [
    "print(df[low_cr_filter].testing_coverage.median())\n",
    "print(df[low_cr_filter].testing_coverage.mean())"
   ]
  },
  {
   "cell_type": "code",
   "execution_count": 66,
   "id": "3102e099",
   "metadata": {},
   "outputs": [
    {
     "data": {
      "text/plain": [
       "172"
      ]
     },
     "execution_count": 66,
     "metadata": {},
     "output_type": "execute_result"
    }
   ],
   "source": [
    "df[low_cr_filter].testing_coverage.count()"
   ]
  },
  {
   "cell_type": "code",
   "execution_count": null,
   "id": "c20b8602",
   "metadata": {},
   "outputs": [],
   "source": []
  }
 ],
 "metadata": {
  "interpreter": {
   "hash": "1173d848a8a0ab1970ad5d3962a89c189f46324aa17d1a9dcb0ee1eb121ab366"
  },
  "kernelspec": {
   "display_name": "Python 3.8.5 ('my-env': venv)",
   "language": "python",
   "name": "python3"
  },
  "language_info": {
   "codemirror_mode": {
    "name": "ipython",
    "version": 3
   },
   "file_extension": ".py",
   "mimetype": "text/x-python",
   "name": "python",
   "nbconvert_exporter": "python",
   "pygments_lexer": "ipython3",
   "version": "3.8.5"
  }
 },
 "nbformat": 4,
 "nbformat_minor": 5
}
