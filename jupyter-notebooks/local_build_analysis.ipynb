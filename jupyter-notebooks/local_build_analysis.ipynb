{
 "cells": [
  {
   "cell_type": "code",
   "execution_count": 1,
   "metadata": {},
   "outputs": [],
   "source": [
    "import pandas as pd\n",
    "import numpy as np\n",
    "import matplotlib.pyplot as plt\n",
    "%matplotlib inline\n",
    "import seaborn as sns\n",
    "import matplotlib.patches as mpatches"
   ]
  },
  {
   "cell_type": "code",
   "execution_count": 2,
   "metadata": {},
   "outputs": [],
   "source": [
    "df_all = pd.read_csv('./data/selected_projects.csv')"
   ]
  },
  {
   "cell_type": "code",
   "execution_count": 3,
   "metadata": {},
   "outputs": [
    {
     "data": {
      "text/plain": [
       "1454"
      ]
     },
     "execution_count": 3,
     "metadata": {},
     "output_type": "execute_result"
    }
   ],
   "source": [
    "df_all.shape[0]"
   ]
  },
  {
   "cell_type": "code",
   "execution_count": 4,
   "metadata": {},
   "outputs": [],
   "source": [
    "df_gradle = pd.read_csv('./data/gradle_build_results.csv')"
   ]
  },
  {
   "cell_type": "code",
   "execution_count": 5,
   "metadata": {},
   "outputs": [
    {
     "data": {
      "text/html": [
       "<div>\n",
       "<style scoped>\n",
       "    .dataframe tbody tr th:only-of-type {\n",
       "        vertical-align: middle;\n",
       "    }\n",
       "\n",
       "    .dataframe tbody tr th {\n",
       "        vertical-align: top;\n",
       "    }\n",
       "\n",
       "    .dataframe thead th {\n",
       "        text-align: right;\n",
       "    }\n",
       "</style>\n",
       "<table border=\"1\" class=\"dataframe\">\n",
       "  <thead>\n",
       "    <tr style=\"text-align: right;\">\n",
       "      <th></th>\n",
       "      <th>repo_name</th>\n",
       "      <th>build_tool</th>\n",
       "      <th>last_commit_sha</th>\n",
       "      <th>success</th>\n",
       "      <th>fail</th>\n",
       "      <th>unclear</th>\n",
       "      <th>error</th>\n",
       "    </tr>\n",
       "  </thead>\n",
       "  <tbody>\n",
       "    <tr>\n",
       "      <th>0</th>\n",
       "      <td>joinfaces/joinfaces</td>\n",
       "      <td>gradle</td>\n",
       "      <td>6b379a0240fa3002c4321abc919e0d62fcc4164f</td>\n",
       "      <td>0</td>\n",
       "      <td>0</td>\n",
       "      <td>0</td>\n",
       "      <td>1</td>\n",
       "    </tr>\n",
       "    <tr>\n",
       "      <th>1</th>\n",
       "      <td>apereo/cas</td>\n",
       "      <td>gradle</td>\n",
       "      <td>32a5e5de26fd70c1229efe7d66676228c663d1fc</td>\n",
       "      <td>0</td>\n",
       "      <td>0</td>\n",
       "      <td>0</td>\n",
       "      <td>1</td>\n",
       "    </tr>\n",
       "    <tr>\n",
       "      <th>2</th>\n",
       "      <td>remkop/picocli</td>\n",
       "      <td>gradle</td>\n",
       "      <td>bd48d6f3934c25876931dce5fcc3677dbfc1f410</td>\n",
       "      <td>0</td>\n",
       "      <td>0</td>\n",
       "      <td>0</td>\n",
       "      <td>1</td>\n",
       "    </tr>\n",
       "    <tr>\n",
       "      <th>3</th>\n",
       "      <td>shedaniel/roughlyenoughitems</td>\n",
       "      <td>gradle</td>\n",
       "      <td>303fe1b4564b0f7df38df59453e761e4a279dea5</td>\n",
       "      <td>0</td>\n",
       "      <td>0</td>\n",
       "      <td>1</td>\n",
       "      <td>0</td>\n",
       "    </tr>\n",
       "    <tr>\n",
       "      <th>4</th>\n",
       "      <td>hortonworks/cloudbreak</td>\n",
       "      <td>gradle</td>\n",
       "      <td>ef36a65f738b4ebc9bf5d932133621ea085808b8</td>\n",
       "      <td>0</td>\n",
       "      <td>0</td>\n",
       "      <td>1</td>\n",
       "      <td>0</td>\n",
       "    </tr>\n",
       "  </tbody>\n",
       "</table>\n",
       "</div>"
      ],
      "text/plain": [
       "                      repo_name build_tool  \\\n",
       "0           joinfaces/joinfaces     gradle   \n",
       "1                    apereo/cas     gradle   \n",
       "2                remkop/picocli     gradle   \n",
       "3  shedaniel/roughlyenoughitems     gradle   \n",
       "4        hortonworks/cloudbreak     gradle   \n",
       "\n",
       "                            last_commit_sha  success  fail  unclear  error  \n",
       "0  6b379a0240fa3002c4321abc919e0d62fcc4164f        0     0        0      1  \n",
       "1  32a5e5de26fd70c1229efe7d66676228c663d1fc        0     0        0      1  \n",
       "2  bd48d6f3934c25876931dce5fcc3677dbfc1f410        0     0        0      1  \n",
       "3  303fe1b4564b0f7df38df59453e761e4a279dea5        0     0        1      0  \n",
       "4  ef36a65f738b4ebc9bf5d932133621ea085808b8        0     0        1      0  "
      ]
     },
     "execution_count": 5,
     "metadata": {},
     "output_type": "execute_result"
    }
   ],
   "source": [
    "df_gradle.head()"
   ]
  },
  {
   "cell_type": "code",
   "execution_count": 6,
   "metadata": {},
   "outputs": [
    {
     "data": {
      "text/plain": [
       "361"
      ]
     },
     "execution_count": 6,
     "metadata": {},
     "output_type": "execute_result"
    }
   ],
   "source": [
    "df_gradle.shape[0]"
   ]
  },
  {
   "cell_type": "code",
   "execution_count": 7,
   "metadata": {},
   "outputs": [
    {
     "name": "stdout",
     "output_type": "stream",
     "text": [
      "Successful builds: 202\n",
      "Failed builds: 70\n",
      "Unclear builds: 86\n",
      "Errors: 3\n"
     ]
    }
   ],
   "source": [
    "print(\"Successful builds: {}\".format(df_gradle[df_gradle['success'] == 1].shape[0]))\n",
    "print(\"Failed builds: {}\".format(df_gradle[df_gradle['fail'] == 1].shape[0]))\n",
    "print(\"Unclear builds: {}\".format(df_gradle[df_gradle['unclear'] == 1].shape[0]))\n",
    "print(\"Errors: {}\".format(df_gradle[df_gradle['error'] == 1].shape[0]))"
   ]
  },
  {
   "cell_type": "code",
   "execution_count": 8,
   "metadata": {},
   "outputs": [
    {
     "name": "stdout",
     "output_type": "stream",
     "text": [
      "Unsuccessful builds: 159\n"
     ]
    }
   ],
   "source": [
    "print(\"Unsuccessful builds: {}\".format(df_gradle[df_gradle['success'] != 1].shape[0]))"
   ]
  },
  {
   "cell_type": "code",
   "execution_count": 9,
   "metadata": {},
   "outputs": [
    {
     "name": "stdout",
     "output_type": "stream",
     "text": [
      "Gradle Success builds percentage: 55.96%\n"
     ]
    }
   ],
   "source": [
    "count_success = df_gradle[df_gradle['success'] == 1].shape[0]\n",
    "count_all = df_gradle.shape[0]\n",
    "print(\"Gradle Success builds percentage: {:.2f}%\".format(count_success*100/count_all))"
   ]
  },
  {
   "cell_type": "code",
   "execution_count": 10,
   "metadata": {},
   "outputs": [],
   "source": [
    "df_maven = pd.read_csv('./data/maven_build_results.csv')"
   ]
  },
  {
   "cell_type": "code",
   "execution_count": 11,
   "metadata": {},
   "outputs": [
    {
     "data": {
      "text/plain": [
       "686"
      ]
     },
     "execution_count": 11,
     "metadata": {},
     "output_type": "execute_result"
    }
   ],
   "source": [
    "df_maven.shape[0]"
   ]
  },
  {
   "cell_type": "code",
   "execution_count": 12,
   "metadata": {},
   "outputs": [
    {
     "name": "stdout",
     "output_type": "stream",
     "text": [
      "Successful builds: 457\n",
      "Failed builds: 203\n",
      "Unclear builds: 22\n",
      "Errors: 4\n"
     ]
    }
   ],
   "source": [
    "print(\"Successful builds: {}\".format(df_maven[df_maven['success'] == 1].shape[0]))\n",
    "print(\"Failed builds: {}\".format(df_maven[df_maven['fail'] == 1].shape[0]))\n",
    "print(\"Unclear builds: {}\".format(df_maven[df_maven['unclear'] == 1].shape[0]))\n",
    "print(\"Errors: {}\".format(df_maven[df_maven['error'] == 1].shape[0]))"
   ]
  },
  {
   "cell_type": "code",
   "execution_count": 13,
   "metadata": {},
   "outputs": [
    {
     "name": "stdout",
     "output_type": "stream",
     "text": [
      "Unuccessful builds: 229\n"
     ]
    }
   ],
   "source": [
    "print(\"Unuccessful builds: {}\".format(df_maven[df_maven['success'] != 1].shape[0]))"
   ]
  },
  {
   "cell_type": "code",
   "execution_count": 14,
   "metadata": {},
   "outputs": [
    {
     "name": "stdout",
     "output_type": "stream",
     "text": [
      "Maven success builds percentage: 66.62%\n"
     ]
    }
   ],
   "source": [
    "count_success = df_maven[df_maven['success'] == 1].shape[0]\n",
    "count_all = df_maven.shape[0]\n",
    "print(\"Maven success builds percentage: {:.2f}%\".format(count_success*100/count_all))"
   ]
  },
  {
   "cell_type": "code",
   "execution_count": 15,
   "metadata": {},
   "outputs": [],
   "source": [
    "df = pd.concat([df_gradle, df_maven])"
   ]
  },
  {
   "cell_type": "code",
   "execution_count": 16,
   "metadata": {},
   "outputs": [
    {
     "name": "stdout",
     "output_type": "stream",
     "text": [
      "Successful builds: 659\n",
      "Failed builds: 273\n",
      "Unclear builds: 108\n",
      "Errors: 7\n"
     ]
    }
   ],
   "source": [
    "print(\"Successful builds: {}\".format(df[df['success'] == 1].shape[0]))\n",
    "print(\"Failed builds: {}\".format(df[df['fail'] == 1].shape[0]))\n",
    "print(\"Unclear builds: {}\".format(df[df['unclear'] == 1].shape[0]))\n",
    "print(\"Errors: {}\".format(df[df['error'] == 1].shape[0]))"
   ]
  },
  {
   "cell_type": "code",
   "execution_count": 17,
   "metadata": {},
   "outputs": [
    {
     "name": "stdout",
     "output_type": "stream",
     "text": [
      "Unsuccessful builds: 388\n"
     ]
    }
   ],
   "source": [
    "print(\"Unsuccessful builds: {}\".format(df[df['success'] != 1].shape[0]))"
   ]
  },
  {
   "cell_type": "code",
   "execution_count": 18,
   "metadata": {},
   "outputs": [
    {
     "data": {
      "text/plain": [
       "1047"
      ]
     },
     "execution_count": 18,
     "metadata": {},
     "output_type": "execute_result"
    }
   ],
   "source": [
    "df.shape[0]"
   ]
  },
  {
   "cell_type": "code",
   "execution_count": 19,
   "metadata": {},
   "outputs": [
    {
     "name": "stdout",
     "output_type": "stream",
     "text": [
      "Success builds percentage: 62.94%\n"
     ]
    }
   ],
   "source": [
    "count_success = df[df['success'] == 1].shape[0]\n",
    "count_all = df.shape[0]\n",
    "print(\"Success builds percentage: {:.2f}%\".format(count_success*100/count_all))"
   ]
  },
  {
   "cell_type": "code",
   "execution_count": 20,
   "metadata": {},
   "outputs": [
    {
     "data": {
      "image/png": "[encoded data removed]",
      "text/plain": [
       "<Figure size 432x288 with 1 Axes>"
      ]
     },
     "metadata": {},
     "output_type": "display_data"
    }
   ],
   "source": [
    "labels = 'Failed', 'Successful'\n",
    "colors = ['#ff758c','#32bf57']\n",
    "sizes = [388, 659]\n",
    "explode = (0, 0) \n",
    "\n",
    "fig1, ax1 = plt.subplots()\n",
    "ax1.pie(sizes, explode=explode, labels=labels, autopct='%1.1f%%', colors = colors,\n",
    "        shadow=True, startangle=90)\n",
    "ax1.axis('equal')  # Equal aspect ratio ensures that pie is drawn as a circle.\n",
    "\n",
    "plt.show()"
   ]
  },
  {
   "cell_type": "code",
   "execution_count": 21,
   "metadata": {},
   "outputs": [],
   "source": [
    "df.to_csv('data/local_build_results.csv', index=False)"
   ]
  },
  {
   "cell_type": "code",
   "execution_count": 22,
   "metadata": {},
   "outputs": [],
   "source": [
    "df_add = pd.read_csv('./data/selected_projects_add.csv')"
   ]
  },
  {
   "cell_type": "code",
   "execution_count": 23,
   "metadata": {},
   "outputs": [
    {
     "data": {
      "text/plain": [
       "Index(['Name', 'Is Fork', 'Commits', 'Branches', 'Default Branch', 'Releases',\n",
       "       'Contributors', 'License', 'Watchers', 'Stargazers', 'Forks', 'Size',\n",
       "       'Created At', 'Pushed At', 'Updated At', 'Homepage', 'Main Language',\n",
       "       'Total Issues', 'Open Issues', 'Total Pull Requests',\n",
       "       'Open Pull Requests', 'Last Commit', 'Last Commit SHA', 'Has Wiki',\n",
       "       'Is Archived', 'Languages', 'Labels', 'checkstyle', 'findbugs', 'maven',\n",
       "       'gradle', 'gradle_on_root', 'maven_usage_on_root', 'spotbugs',\n",
       "       'android', 'commit_status'],\n",
       "      dtype='object')"
      ]
     },
     "execution_count": 23,
     "metadata": {},
     "output_type": "execute_result"
    }
   ],
   "source": [
    "df_add.columns"
   ]
  },
  {
   "cell_type": "code",
   "execution_count": 24,
   "metadata": {},
   "outputs": [
    {
     "data": {
      "text/plain": [
       "737"
      ]
     },
     "execution_count": 24,
     "metadata": {},
     "output_type": "execute_result"
    }
   ],
   "source": [
    "df_add[(df_add['maven'] == 1) & (df_add['gradle'] != 1)].shape[0]"
   ]
  },
  {
   "cell_type": "code",
   "execution_count": 25,
   "metadata": {},
   "outputs": [
    {
     "data": {
      "text/plain": [
       "668"
      ]
     },
     "execution_count": 25,
     "metadata": {},
     "output_type": "execute_result"
    }
   ],
   "source": [
    "df_add[df_add['gradle'] == 1].shape[0]"
   ]
  },
  {
   "cell_type": "code",
   "execution_count": 26,
   "metadata": {
    "scrolled": true
   },
   "outputs": [
    {
     "data": {
      "text/plain": [
       "49"
      ]
     },
     "execution_count": 26,
     "metadata": {},
     "output_type": "execute_result"
    }
   ],
   "source": [
    "df_add[(df_add['maven'] != 1) & (df_add['gradle'] != 1)].shape[0]"
   ]
  },
  {
   "cell_type": "code",
   "execution_count": 27,
   "metadata": {
    "scrolled": true
   },
   "outputs": [
    {
     "data": {
      "text/html": [
       "<div>\n",
       "<style scoped>\n",
       "    .dataframe tbody tr th:only-of-type {\n",
       "        vertical-align: middle;\n",
       "    }\n",
       "\n",
       "    .dataframe tbody tr th {\n",
       "        vertical-align: top;\n",
       "    }\n",
       "\n",
       "    .dataframe thead th {\n",
       "        text-align: right;\n",
       "    }\n",
       "</style>\n",
       "<table border=\"1\" class=\"dataframe\">\n",
       "  <thead>\n",
       "    <tr style=\"text-align: right;\">\n",
       "      <th></th>\n",
       "      <th>repo_name</th>\n",
       "      <th>build_tool</th>\n",
       "      <th>last_commit_sha</th>\n",
       "      <th>success</th>\n",
       "      <th>fail</th>\n",
       "      <th>unclear</th>\n",
       "      <th>error</th>\n",
       "      <th>unseccessful</th>\n",
       "    </tr>\n",
       "  </thead>\n",
       "  <tbody>\n",
       "    <tr>\n",
       "      <th>0</th>\n",
       "      <td>joinfaces/joinfaces</td>\n",
       "      <td>gradle</td>\n",
       "      <td>6b379a0240fa3002c4321abc919e0d62fcc4164f</td>\n",
       "      <td>0</td>\n",
       "      <td>0</td>\n",
       "      <td>0</td>\n",
       "      <td>1</td>\n",
       "      <td>1</td>\n",
       "    </tr>\n",
       "    <tr>\n",
       "      <th>1</th>\n",
       "      <td>apereo/cas</td>\n",
       "      <td>gradle</td>\n",
       "      <td>32a5e5de26fd70c1229efe7d66676228c663d1fc</td>\n",
       "      <td>0</td>\n",
       "      <td>0</td>\n",
       "      <td>0</td>\n",
       "      <td>1</td>\n",
       "      <td>1</td>\n",
       "    </tr>\n",
       "    <tr>\n",
       "      <th>2</th>\n",
       "      <td>remkop/picocli</td>\n",
       "      <td>gradle</td>\n",
       "      <td>bd48d6f3934c25876931dce5fcc3677dbfc1f410</td>\n",
       "      <td>0</td>\n",
       "      <td>0</td>\n",
       "      <td>0</td>\n",
       "      <td>1</td>\n",
       "      <td>1</td>\n",
       "    </tr>\n",
       "    <tr>\n",
       "      <th>3</th>\n",
       "      <td>shedaniel/roughlyenoughitems</td>\n",
       "      <td>gradle</td>\n",
       "      <td>303fe1b4564b0f7df38df59453e761e4a279dea5</td>\n",
       "      <td>0</td>\n",
       "      <td>0</td>\n",
       "      <td>1</td>\n",
       "      <td>0</td>\n",
       "      <td>1</td>\n",
       "    </tr>\n",
       "    <tr>\n",
       "      <th>4</th>\n",
       "      <td>hortonworks/cloudbreak</td>\n",
       "      <td>gradle</td>\n",
       "      <td>ef36a65f738b4ebc9bf5d932133621ea085808b8</td>\n",
       "      <td>0</td>\n",
       "      <td>0</td>\n",
       "      <td>1</td>\n",
       "      <td>0</td>\n",
       "      <td>1</td>\n",
       "    </tr>\n",
       "  </tbody>\n",
       "</table>\n",
       "</div>"
      ],
      "text/plain": [
       "                      repo_name build_tool  \\\n",
       "0           joinfaces/joinfaces     gradle   \n",
       "1                    apereo/cas     gradle   \n",
       "2                remkop/picocli     gradle   \n",
       "3  shedaniel/roughlyenoughitems     gradle   \n",
       "4        hortonworks/cloudbreak     gradle   \n",
       "\n",
       "                            last_commit_sha  success  fail  unclear  error  \\\n",
       "0  6b379a0240fa3002c4321abc919e0d62fcc4164f        0     0        0      1   \n",
       "1  32a5e5de26fd70c1229efe7d66676228c663d1fc        0     0        0      1   \n",
       "2  bd48d6f3934c25876931dce5fcc3677dbfc1f410        0     0        0      1   \n",
       "3  303fe1b4564b0f7df38df59453e761e4a279dea5        0     0        1      0   \n",
       "4  ef36a65f738b4ebc9bf5d932133621ea085808b8        0     0        1      0   \n",
       "\n",
       "   unseccessful  \n",
       "0             1  \n",
       "1             1  \n",
       "2             1  \n",
       "3             1  \n",
       "4             1  "
      ]
     },
     "execution_count": 27,
     "metadata": {},
     "output_type": "execute_result"
    }
   ],
   "source": [
    "def aggregate_failure(x, y, z):\n",
    "    if x==1 or y==1 or z==1:\n",
    "        return 1\n",
    "    else:\n",
    "        return 0\n",
    "\n",
    "df['unseccessful'] = df.apply(lambda x: aggregate_failure(x.unclear, x.fail, x.error), axis=1)\n",
    "df.head()"
   ]
  },
  {
   "cell_type": "code",
   "execution_count": 28,
   "metadata": {
    "scrolled": true
   },
   "outputs": [
    {
     "data": {
      "text/html": [
       "<div>\n",
       "<style scoped>\n",
       "    .dataframe tbody tr th:only-of-type {\n",
       "        vertical-align: middle;\n",
       "    }\n",
       "\n",
       "    .dataframe tbody tr th {\n",
       "        vertical-align: top;\n",
       "    }\n",
       "\n",
       "    .dataframe thead th {\n",
       "        text-align: right;\n",
       "    }\n",
       "</style>\n",
       "<table border=\"1\" class=\"dataframe\">\n",
       "  <thead>\n",
       "    <tr style=\"text-align: right;\">\n",
       "      <th></th>\n",
       "      <th>build_tool</th>\n",
       "      <th>success</th>\n",
       "      <th>unseccessful</th>\n",
       "      <th>repo_name</th>\n",
       "      <th>last_commit_sha</th>\n",
       "      <th>fail</th>\n",
       "      <th>unclear</th>\n",
       "      <th>error</th>\n",
       "    </tr>\n",
       "  </thead>\n",
       "  <tbody>\n",
       "    <tr>\n",
       "      <th>0</th>\n",
       "      <td>gradle</td>\n",
       "      <td>0</td>\n",
       "      <td>1</td>\n",
       "      <td>159</td>\n",
       "      <td>159</td>\n",
       "      <td>159</td>\n",
       "      <td>159</td>\n",
       "      <td>159</td>\n",
       "    </tr>\n",
       "    <tr>\n",
       "      <th>1</th>\n",
       "      <td>gradle</td>\n",
       "      <td>1</td>\n",
       "      <td>0</td>\n",
       "      <td>202</td>\n",
       "      <td>202</td>\n",
       "      <td>202</td>\n",
       "      <td>202</td>\n",
       "      <td>202</td>\n",
       "    </tr>\n",
       "    <tr>\n",
       "      <th>2</th>\n",
       "      <td>maven</td>\n",
       "      <td>0</td>\n",
       "      <td>1</td>\n",
       "      <td>229</td>\n",
       "      <td>229</td>\n",
       "      <td>229</td>\n",
       "      <td>229</td>\n",
       "      <td>229</td>\n",
       "    </tr>\n",
       "    <tr>\n",
       "      <th>3</th>\n",
       "      <td>maven</td>\n",
       "      <td>1</td>\n",
       "      <td>0</td>\n",
       "      <td>457</td>\n",
       "      <td>457</td>\n",
       "      <td>457</td>\n",
       "      <td>457</td>\n",
       "      <td>457</td>\n",
       "    </tr>\n",
       "  </tbody>\n",
       "</table>\n",
       "</div>"
      ],
      "text/plain": [
       "  build_tool  success  unseccessful  repo_name  last_commit_sha  fail  \\\n",
       "0     gradle        0             1        159              159   159   \n",
       "1     gradle        1             0        202              202   202   \n",
       "2      maven        0             1        229              229   229   \n",
       "3      maven        1             0        457              457   457   \n",
       "\n",
       "   unclear  error  \n",
       "0      159    159  \n",
       "1      202    202  \n",
       "2      229    229  \n",
       "3      457    457  "
      ]
     },
     "execution_count": 28,
     "metadata": {},
     "output_type": "execute_result"
    }
   ],
   "source": [
    "df_grouped = df.groupby(by=['build_tool', 'success', 'unseccessful']).count().reset_index()\n",
    "df_grouped.head()"
   ]
  },
  {
   "cell_type": "code",
   "execution_count": 45,
   "metadata": {},
   "outputs": [
    {
     "data": {
      "image/png": "[encoded data removed]",
      "text/plain": [
       "<Figure size 504x360 with 1 Axes>"
      ]
     },
     "metadata": {},
     "output_type": "display_data"
    }
   ],
   "source": [
    "sns.set(rc={'figure.figsize':(5, 3), 'font.size': 12})\n",
    "\n",
    "# Create an array with the colors you want to use\n",
    "colors = [\"#FF8C00\", \"#4374B3\"]\n",
    "# Set your custom color palette\n",
    "sns.set(font_scale=0.75)\n",
    "sns.set_theme(style=\"whitegrid\")\n",
    "sns.set_palette(sns.color_palette(colors))\n",
    "\n",
    "\n",
    "ax = sns.barplot(x=\"build_tool\", y=\"repo_name\", hue=\"success\", data=df_grouped)\n",
    "ax.set_xlabel(\"Build System\", fontsize = 10)\n",
    "ax.set_ylabel(\"Projects Count\", fontsize = 10)\n",
    "\n",
    "orange_patch = mpatches.Patch(color=colors[0])\n",
    "blue_patch = mpatches.Patch(color=colors[1])\n",
    "\n",
    "ax.legend(title='Build Result', labels=['Failed (388, ~37%)', 'Successful (659, ~63%)'], handles=[orange_patch, blue_patch], fontsize = 10)\n",
    "\n",
    "plt.xticks([0,1], ['Gradle', 'Maven'])\n",
    "for container in ax.containers:\n",
    "    ax.bar_label(container)\n",
    "\n",
    "plt.gcf().set_size_inches(7,5)\n",
    "plt.tight_layout()\n",
    "plt.savefig('local-builds-bar-chart.pdf', dpi=300)"
   ]
  },
  {
   "cell_type": "code",
   "execution_count": null,
   "metadata": {},
   "outputs": [],
   "source": []
  }
 ],
 "metadata": {
  "kernelspec": {
   "display_name": "Python 3",
   "language": "python",
   "name": "python3"
  },
  "language_info": {
   "codemirror_mode": {
    "name": "ipython",
    "version": 3
   },
   "file_extension": ".py",
   "mimetype": "text/x-python",
   "name": "python",
   "nbconvert_exporter": "python",
   "pygments_lexer": "ipython3",
   "version": "3.8.5"
  }
 },
 "nbformat": 4,
 "nbformat_minor": 5
}
