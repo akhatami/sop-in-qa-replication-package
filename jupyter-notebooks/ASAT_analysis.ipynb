{
 "cells": [
  {
   "cell_type": "code",
   "execution_count": 1,
   "id": "55864e9d",
   "metadata": {},
   "outputs": [],
   "source": [
    "import pandas as pd\n",
    "import numpy as np\n",
    "import matplotlib.pyplot as plt"
   ]
  },
  {
   "cell_type": "code",
   "execution_count": 2,
   "id": "2256aa49",
   "metadata": {},
   "outputs": [],
   "source": [
    "df_all = pd.read_csv('data/selected_projects_add.csv')"
   ]
  },
  {
   "cell_type": "code",
   "execution_count": 3,
   "id": "be988e53",
   "metadata": {},
   "outputs": [
    {
     "data": {
      "text/plain": [
       "Index(['Name', 'Is Fork', 'Commits', 'Branches', 'Default Branch', 'Releases',\n",
       "       'Contributors', 'License', 'Watchers', 'Stargazers', 'Forks', 'Size',\n",
       "       'Created At', 'Pushed At', 'Updated At', 'Homepage', 'Main Language',\n",
       "       'Total Issues', 'Open Issues', 'Total Pull Requests',\n",
       "       'Open Pull Requests', 'Last Commit', 'Last Commit SHA', 'Has Wiki',\n",
       "       'Is Archived', 'Languages', 'Labels', 'checkstyle', 'findbugs', 'maven',\n",
       "       'gradle', 'gradle_on_root', 'maven_usage_on_root', 'spotbugs',\n",
       "       'android', 'commit_status'],\n",
       "      dtype='object')"
      ]
     },
     "execution_count": 3,
     "metadata": {},
     "output_type": "execute_result"
    }
   ],
   "source": [
    "df_all.columns"
   ]
  },
  {
   "cell_type": "code",
   "execution_count": 4,
   "id": "c8694ddf",
   "metadata": {},
   "outputs": [
    {
     "data": {
      "text/plain": [
       "1454"
      ]
     },
     "execution_count": 4,
     "metadata": {},
     "output_type": "execute_result"
    }
   ],
   "source": [
    "df_all.shape[0]"
   ]
  },
  {
   "cell_type": "code",
   "execution_count": 5,
   "id": "9ea9ff56",
   "metadata": {},
   "outputs": [
    {
     "data": {
      "text/plain": [
       "519"
      ]
     },
     "execution_count": 5,
     "metadata": {},
     "output_type": "execute_result"
    }
   ],
   "source": [
    "df_all[df_all['checkstyle'] == 1].shape[0]"
   ]
  },
  {
   "cell_type": "code",
   "execution_count": 6,
   "id": "ce6796e5",
   "metadata": {},
   "outputs": [
    {
     "data": {
      "text/plain": [
       "3"
      ]
     },
     "execution_count": 6,
     "metadata": {},
     "output_type": "execute_result"
    }
   ],
   "source": [
    "df_all[df_all['findbugs'] == 1].shape[0]"
   ]
  },
  {
   "cell_type": "code",
   "execution_count": 7,
   "id": "54968870",
   "metadata": {},
   "outputs": [
    {
     "data": {
      "text/plain": [
       "104"
      ]
     },
     "execution_count": 7,
     "metadata": {},
     "output_type": "execute_result"
    }
   ],
   "source": [
    "df_all[df_all['spotbugs'] == 1].shape[0]"
   ]
  },
  {
   "cell_type": "code",
   "execution_count": 78,
   "id": "6e4b7566",
   "metadata": {},
   "outputs": [],
   "source": [
    "df_all['ASATs_count'] = df_all['checkstyle'] + df_all['findbugs'] + df_all['spotbugs']"
   ]
  },
  {
   "cell_type": "code",
   "execution_count": 79,
   "id": "b80d3d9b",
   "metadata": {},
   "outputs": [
    {
     "data": {
      "text/plain": [
       "0    906\n",
       "1    470\n",
       "2     78\n",
       "Name: ASATs_count, dtype: int64"
      ]
     },
     "execution_count": 79,
     "metadata": {},
     "output_type": "execute_result"
    }
   ],
   "source": [
    "df_all['ASATs_count'].value_counts()"
   ]
  },
  {
   "cell_type": "code",
   "execution_count": 8,
   "id": "62fd9c80",
   "metadata": {},
   "outputs": [
    {
     "data": {
      "text/plain": [
       "548"
      ]
     },
     "execution_count": 8,
     "metadata": {},
     "output_type": "execute_result"
    }
   ],
   "source": [
    "df_all[(df_all['checkstyle'] == 1) | (df_all['findbugs'] == 1) | (df_all['spotbugs'] == 1)].shape[0]"
   ]
  },
  {
   "cell_type": "code",
   "execution_count": 9,
   "id": "b2fa0b04",
   "metadata": {},
   "outputs": [],
   "source": [
    "using_sat = df_all[(df_all['checkstyle'] == 1) | (df_all['findbugs'] == 1) | (df_all['spotbugs'] == 1)].Name.tolist()"
   ]
  },
  {
   "cell_type": "code",
   "execution_count": 10,
   "id": "85c3023a",
   "metadata": {},
   "outputs": [
    {
     "data": {
      "text/plain": [
       "0.3768913342503439"
      ]
     },
     "execution_count": 10,
     "metadata": {},
     "output_type": "execute_result"
    }
   ],
   "source": [
    "548/1454"
   ]
  },
  {
   "cell_type": "code",
   "execution_count": 11,
   "id": "df3a25c6",
   "metadata": {},
   "outputs": [
    {
     "data": {
      "text/plain": [
       "76"
      ]
     },
     "execution_count": 11,
     "metadata": {},
     "output_type": "execute_result"
    }
   ],
   "source": [
    "df_all[(df_all['checkstyle'] == 1) & (df_all['spotbugs'] == 1)].shape[0]"
   ]
  },
  {
   "cell_type": "code",
   "execution_count": 12,
   "id": "53c9d1ee",
   "metadata": {},
   "outputs": [
    {
     "data": {
      "text/plain": [
       "2"
      ]
     },
     "execution_count": 12,
     "metadata": {},
     "output_type": "execute_result"
    }
   ],
   "source": [
    "df_all[(df_all['checkstyle'] == 1) & (df_all['findbugs'] == 1)].shape[0]"
   ]
  },
  {
   "cell_type": "code",
   "execution_count": 13,
   "id": "7d826e76",
   "metadata": {},
   "outputs": [
    {
     "data": {
      "text/plain": [
       "0"
      ]
     },
     "execution_count": 13,
     "metadata": {},
     "output_type": "execute_result"
    }
   ],
   "source": [
    "df_all[(df_all['findbugs'] == 1) & (df_all['spotbugs'] == 1)].shape[0]"
   ]
  },
  {
   "cell_type": "code",
   "execution_count": 71,
   "id": "816ab0b5",
   "metadata": {
    "scrolled": false
   },
   "outputs": [
    {
     "data": {
      "image/png": "[encoded data removed]",
      "text/plain": [
       "<Figure size 468x288 with 1 Axes>"
      ]
     },
     "metadata": {},
     "output_type": "display_data"
    }
   ],
   "source": [
    "labels = 'Evidence of ASATs', 'No Evidence of ASATs'\n",
    "colors = [\"#FF8C00\", \"#4374B3\"]\n",
    "sizes = [548, (1454-548)]\n",
    "explode = (0.1, 0) \n",
    "\n",
    "fig1, ax1 = plt.subplots()\n",
    "ax1.pie(sizes, explode=explode, labels=labels, autopct='%1.1f%%', colors = colors,\n",
    "        shadow=True, startangle=90)\n",
    "ax1.axis('equal')  # Equal aspect ratio ensures that pie is drawn as a circle.\n",
    "\n",
    "plt.show()"
   ]
  },
  {
   "cell_type": "code",
   "execution_count": 15,
   "id": "7f041584",
   "metadata": {},
   "outputs": [],
   "source": [
    "df = pd.read_csv('data/local_build_results.csv')"
   ]
  },
  {
   "cell_type": "code",
   "execution_count": 16,
   "id": "18deef36",
   "metadata": {
    "scrolled": true
   },
   "outputs": [
    {
     "data": {
      "text/html": [
       "<div>\n",
       "<style scoped>\n",
       "    .dataframe tbody tr th:only-of-type {\n",
       "        vertical-align: middle;\n",
       "    }\n",
       "\n",
       "    .dataframe tbody tr th {\n",
       "        vertical-align: top;\n",
       "    }\n",
       "\n",
       "    .dataframe thead th {\n",
       "        text-align: right;\n",
       "    }\n",
       "</style>\n",
       "<table border=\"1\" class=\"dataframe\">\n",
       "  <thead>\n",
       "    <tr style=\"text-align: right;\">\n",
       "      <th></th>\n",
       "      <th>repo_name</th>\n",
       "      <th>build_tool</th>\n",
       "      <th>last_commit_sha</th>\n",
       "      <th>success</th>\n",
       "      <th>fail</th>\n",
       "      <th>unclear</th>\n",
       "      <th>error</th>\n",
       "    </tr>\n",
       "  </thead>\n",
       "  <tbody>\n",
       "    <tr>\n",
       "      <th>0</th>\n",
       "      <td>joinfaces/joinfaces</td>\n",
       "      <td>gradle</td>\n",
       "      <td>6b379a0240fa3002c4321abc919e0d62fcc4164f</td>\n",
       "      <td>0</td>\n",
       "      <td>0</td>\n",
       "      <td>0</td>\n",
       "      <td>1</td>\n",
       "    </tr>\n",
       "    <tr>\n",
       "      <th>1</th>\n",
       "      <td>apereo/cas</td>\n",
       "      <td>gradle</td>\n",
       "      <td>32a5e5de26fd70c1229efe7d66676228c663d1fc</td>\n",
       "      <td>0</td>\n",
       "      <td>0</td>\n",
       "      <td>0</td>\n",
       "      <td>1</td>\n",
       "    </tr>\n",
       "    <tr>\n",
       "      <th>2</th>\n",
       "      <td>remkop/picocli</td>\n",
       "      <td>gradle</td>\n",
       "      <td>bd48d6f3934c25876931dce5fcc3677dbfc1f410</td>\n",
       "      <td>0</td>\n",
       "      <td>0</td>\n",
       "      <td>0</td>\n",
       "      <td>1</td>\n",
       "    </tr>\n",
       "    <tr>\n",
       "      <th>3</th>\n",
       "      <td>shedaniel/roughlyenoughitems</td>\n",
       "      <td>gradle</td>\n",
       "      <td>303fe1b4564b0f7df38df59453e761e4a279dea5</td>\n",
       "      <td>0</td>\n",
       "      <td>0</td>\n",
       "      <td>1</td>\n",
       "      <td>0</td>\n",
       "    </tr>\n",
       "    <tr>\n",
       "      <th>4</th>\n",
       "      <td>hortonworks/cloudbreak</td>\n",
       "      <td>gradle</td>\n",
       "      <td>ef36a65f738b4ebc9bf5d932133621ea085808b8</td>\n",
       "      <td>0</td>\n",
       "      <td>0</td>\n",
       "      <td>1</td>\n",
       "      <td>0</td>\n",
       "    </tr>\n",
       "  </tbody>\n",
       "</table>\n",
       "</div>"
      ],
      "text/plain": [
       "                      repo_name build_tool  \\\n",
       "0           joinfaces/joinfaces     gradle   \n",
       "1                    apereo/cas     gradle   \n",
       "2                remkop/picocli     gradle   \n",
       "3  shedaniel/roughlyenoughitems     gradle   \n",
       "4        hortonworks/cloudbreak     gradle   \n",
       "\n",
       "                            last_commit_sha  success  fail  unclear  error  \n",
       "0  6b379a0240fa3002c4321abc919e0d62fcc4164f        0     0        0      1  \n",
       "1  32a5e5de26fd70c1229efe7d66676228c663d1fc        0     0        0      1  \n",
       "2  bd48d6f3934c25876931dce5fcc3677dbfc1f410        0     0        0      1  \n",
       "3  303fe1b4564b0f7df38df59453e761e4a279dea5        0     0        1      0  \n",
       "4  ef36a65f738b4ebc9bf5d932133621ea085808b8        0     0        1      0  "
      ]
     },
     "execution_count": 16,
     "metadata": {},
     "output_type": "execute_result"
    }
   ],
   "source": [
    "df.head()"
   ]
  },
  {
   "cell_type": "code",
   "execution_count": 73,
   "id": "9a117d5e",
   "metadata": {
    "scrolled": true
   },
   "outputs": [
    {
     "data": {
      "text/plain": [
       "0    1350\n",
       "1     104\n",
       "Name: spotbugs, dtype: int64"
      ]
     },
     "execution_count": 73,
     "metadata": {},
     "output_type": "execute_result"
    }
   ],
   "source": [
    "df_all.spotbugs.value_counts()"
   ]
  },
  {
   "cell_type": "code",
   "execution_count": 75,
   "id": "0cfd39ee",
   "metadata": {
    "scrolled": false
   },
   "outputs": [
    {
     "data": {
      "text/plain": [
       "0    935\n",
       "1    519\n",
       "Name: checkstyle, dtype: int64"
      ]
     },
     "execution_count": 75,
     "metadata": {},
     "output_type": "execute_result"
    }
   ],
   "source": [
    "df_all.checkstyle.value_counts()"
   ]
  },
  {
   "cell_type": "code",
   "execution_count": 77,
   "id": "0f1eab63",
   "metadata": {
    "scrolled": true
   },
   "outputs": [
    {
     "data": {
      "text/plain": [
       "0    1451\n",
       "1       3\n",
       "Name: findbugs, dtype: int64"
      ]
     },
     "execution_count": 77,
     "metadata": {},
     "output_type": "execute_result"
    }
   ],
   "source": [
    "df_all.findbugs.value_counts()"
   ]
  },
  {
   "cell_type": "code",
   "execution_count": null,
   "id": "fcf85de3",
   "metadata": {},
   "outputs": [],
   "source": []
  },
  {
   "cell_type": "code",
   "execution_count": 17,
   "id": "660ada31",
   "metadata": {},
   "outputs": [],
   "source": [
    "build_success = df[df['success'] == 1].repo_name.tolist()\n",
    "build_fail = df[df['success'] != 1].repo_name.tolist()"
   ]
  },
  {
   "cell_type": "code",
   "execution_count": 36,
   "id": "a7fed368",
   "metadata": {
    "scrolled": true
   },
   "outputs": [],
   "source": [
    "df_all.loc[df_all['Name'].isin(build_success), 'local_build_success'] = 1\n",
    "df_all.loc[df_all['Name'].isin(build_success), 'local_build_failed'] = 0\n",
    "df_all.loc[df_all['Name'].isin(build_fail), 'local_build_failed'] = 1\n",
    "df_all.loc[df_all['Name'].isin(build_fail), 'local_build_success'] = 0\n",
    "df_all.loc[df_all['Name'].isin(using_sat), 'ASAT_usage'] = 1\n",
    "df_all.loc[~df_all['Name'].isin(using_sat), 'ASAT_usage'] = 0"
   ]
  },
  {
   "cell_type": "code",
   "execution_count": 37,
   "id": "cfa8f824",
   "metadata": {
    "scrolled": true
   },
   "outputs": [
    {
     "data": {
      "text/html": [
       "<div>\n",
       "<style scoped>\n",
       "    .dataframe tbody tr th:only-of-type {\n",
       "        vertical-align: middle;\n",
       "    }\n",
       "\n",
       "    .dataframe tbody tr th {\n",
       "        vertical-align: top;\n",
       "    }\n",
       "\n",
       "    .dataframe thead th {\n",
       "        text-align: right;\n",
       "    }\n",
       "</style>\n",
       "<table border=\"1\" class=\"dataframe\">\n",
       "  <thead>\n",
       "    <tr style=\"text-align: right;\">\n",
       "      <th></th>\n",
       "      <th>ASAT_usage</th>\n",
       "      <th>local_build_success</th>\n",
       "      <th>local_build_failed</th>\n",
       "      <th>Name</th>\n",
       "      <th>Is Fork</th>\n",
       "      <th>Commits</th>\n",
       "      <th>Branches</th>\n",
       "      <th>Default Branch</th>\n",
       "      <th>Releases</th>\n",
       "      <th>Contributors</th>\n",
       "      <th>...</th>\n",
       "      <th>checkstyle</th>\n",
       "      <th>findbugs</th>\n",
       "      <th>maven</th>\n",
       "      <th>gradle</th>\n",
       "      <th>gradle_on_root</th>\n",
       "      <th>maven_usage_on_root</th>\n",
       "      <th>spotbugs</th>\n",
       "      <th>android</th>\n",
       "      <th>commit_status</th>\n",
       "      <th>local_build</th>\n",
       "    </tr>\n",
       "  </thead>\n",
       "  <tbody>\n",
       "    <tr>\n",
       "      <th>0</th>\n",
       "      <td>0.0</td>\n",
       "      <td>0.0</td>\n",
       "      <td>1.0</td>\n",
       "      <td>238</td>\n",
       "      <td>238</td>\n",
       "      <td>238</td>\n",
       "      <td>238</td>\n",
       "      <td>238</td>\n",
       "      <td>238</td>\n",
       "      <td>238</td>\n",
       "      <td>...</td>\n",
       "      <td>238</td>\n",
       "      <td>238</td>\n",
       "      <td>238</td>\n",
       "      <td>238</td>\n",
       "      <td>238</td>\n",
       "      <td>238</td>\n",
       "      <td>238</td>\n",
       "      <td>238</td>\n",
       "      <td>238</td>\n",
       "      <td>238</td>\n",
       "    </tr>\n",
       "    <tr>\n",
       "      <th>1</th>\n",
       "      <td>0.0</td>\n",
       "      <td>1.0</td>\n",
       "      <td>0.0</td>\n",
       "      <td>377</td>\n",
       "      <td>377</td>\n",
       "      <td>377</td>\n",
       "      <td>377</td>\n",
       "      <td>377</td>\n",
       "      <td>377</td>\n",
       "      <td>377</td>\n",
       "      <td>...</td>\n",
       "      <td>377</td>\n",
       "      <td>377</td>\n",
       "      <td>377</td>\n",
       "      <td>377</td>\n",
       "      <td>377</td>\n",
       "      <td>377</td>\n",
       "      <td>377</td>\n",
       "      <td>377</td>\n",
       "      <td>377</td>\n",
       "      <td>377</td>\n",
       "    </tr>\n",
       "    <tr>\n",
       "      <th>2</th>\n",
       "      <td>1.0</td>\n",
       "      <td>0.0</td>\n",
       "      <td>1.0</td>\n",
       "      <td>150</td>\n",
       "      <td>150</td>\n",
       "      <td>150</td>\n",
       "      <td>150</td>\n",
       "      <td>150</td>\n",
       "      <td>150</td>\n",
       "      <td>150</td>\n",
       "      <td>...</td>\n",
       "      <td>150</td>\n",
       "      <td>150</td>\n",
       "      <td>150</td>\n",
       "      <td>150</td>\n",
       "      <td>150</td>\n",
       "      <td>150</td>\n",
       "      <td>150</td>\n",
       "      <td>150</td>\n",
       "      <td>150</td>\n",
       "      <td>150</td>\n",
       "    </tr>\n",
       "    <tr>\n",
       "      <th>3</th>\n",
       "      <td>1.0</td>\n",
       "      <td>1.0</td>\n",
       "      <td>0.0</td>\n",
       "      <td>282</td>\n",
       "      <td>282</td>\n",
       "      <td>282</td>\n",
       "      <td>282</td>\n",
       "      <td>282</td>\n",
       "      <td>282</td>\n",
       "      <td>282</td>\n",
       "      <td>...</td>\n",
       "      <td>282</td>\n",
       "      <td>282</td>\n",
       "      <td>282</td>\n",
       "      <td>282</td>\n",
       "      <td>282</td>\n",
       "      <td>282</td>\n",
       "      <td>282</td>\n",
       "      <td>282</td>\n",
       "      <td>282</td>\n",
       "      <td>282</td>\n",
       "    </tr>\n",
       "  </tbody>\n",
       "</table>\n",
       "<p>4 rows × 40 columns</p>\n",
       "</div>"
      ],
      "text/plain": [
       "   ASAT_usage  local_build_success  local_build_failed  Name  Is Fork  \\\n",
       "0         0.0                  0.0                 1.0   238      238   \n",
       "1         0.0                  1.0                 0.0   377      377   \n",
       "2         1.0                  0.0                 1.0   150      150   \n",
       "3         1.0                  1.0                 0.0   282      282   \n",
       "\n",
       "   Commits  Branches  Default Branch  Releases  Contributors  ...  checkstyle  \\\n",
       "0      238       238             238       238           238  ...         238   \n",
       "1      377       377             377       377           377  ...         377   \n",
       "2      150       150             150       150           150  ...         150   \n",
       "3      282       282             282       282           282  ...         282   \n",
       "\n",
       "   findbugs  maven  gradle  gradle_on_root  maven_usage_on_root  spotbugs  \\\n",
       "0       238    238     238             238                  238       238   \n",
       "1       377    377     377             377                  377       377   \n",
       "2       150    150     150             150                  150       150   \n",
       "3       282    282     282             282                  282       282   \n",
       "\n",
       "   android  commit_status  local_build  \n",
       "0      238            238          238  \n",
       "1      377            377          377  \n",
       "2      150            150          150  \n",
       "3      282            282          282  \n",
       "\n",
       "[4 rows x 40 columns]"
      ]
     },
     "execution_count": 37,
     "metadata": {},
     "output_type": "execute_result"
    }
   ],
   "source": [
    "df_grouped = df_all.groupby(by=['ASAT_usage', 'local_build_success', 'local_build_failed']).count().reset_index()\n",
    "df_grouped.head()"
   ]
  },
  {
   "cell_type": "code",
   "execution_count": 50,
   "id": "ae6fbbea",
   "metadata": {},
   "outputs": [
    {
     "name": "stdout",
     "output_type": "stream",
     "text": [
      "615\n",
      "432\n",
      "0.5873925501432665\n",
      "0.41260744985673353\n"
     ]
    }
   ],
   "source": [
    "print(377+238)\n",
    "print(150+282)\n",
    "print((377+238)/1047)\n",
    "print((150+282)/1047)"
   ]
  },
  {
   "cell_type": "code",
   "execution_count": 88,
   "id": "94f4ef77",
   "metadata": {},
   "outputs": [
    {
     "data": {
      "image/png": "[encoded data removed]",
      "text/plain": [
       "<Figure size 504x360 with 1 Axes>"
      ]
     },
     "metadata": {},
     "output_type": "display_data"
    }
   ],
   "source": [
    "import matplotlib.pyplot as plt\n",
    "import seaborn as sns\n",
    "import matplotlib.patches as mpatches\n",
    "sns.set(rc={'figure.figsize':(6.5, 4)})\n",
    "# Create an array with the colors you want to use\n",
    "colors = [\"#FF8C00\", \"#4374B3\"]\n",
    "# Set your custom color palette\n",
    "sns.set(font_scale=1)\n",
    "sns.set_theme(style=\"whitegrid\")\n",
    "sns.set_palette(sns.color_palette(colors))\n",
    "\n",
    "ax = sns.barplot(x=\"local_build_success\", y=\"Name\", hue=\"ASAT_usage\", data=df_grouped)\n",
    "ax.set_xlabel(\"Local Build Result\", fontsize = 13)\n",
    "ax.set_ylabel(\"Projects Count\", fontsize = 13)\n",
    "\n",
    "orange_patch = mpatches.Patch(color=colors[0])\n",
    "blue_patch = mpatches.Patch(color=colors[1])\n",
    "\n",
    "ax.legend(title='ASAT Usage', labels=['No (615, ~59%)', 'Yes (435, ~41%)'], handles=[orange_patch, blue_patch], fontsize = 12)\n",
    "\n",
    "plt.xticks([0,1], ['Failed', 'Successful'])\n",
    "for container in ax.containers:\n",
    "    ax.bar_label(container)\n",
    "    \n",
    "plt.gcf().set_size_inches(7,5)\n",
    "plt.tight_layout()\n",
    "plt.savefig('asat-bar-chart.pdf', dpi=300)\n"
   ]
  },
  {
   "cell_type": "code",
   "execution_count": 18,
   "id": "4a1b459d",
   "metadata": {},
   "outputs": [
    {
     "data": {
      "text/plain": [
       "282"
      ]
     },
     "execution_count": 18,
     "metadata": {},
     "output_type": "execute_result"
    }
   ],
   "source": [
    "df_all[(df_all['Name'].isin(build_success)) & (df_all['Name'].isin(using_sat))].shape[0]"
   ]
  },
  {
   "cell_type": "code",
   "execution_count": 19,
   "id": "a640a385",
   "metadata": {},
   "outputs": [
    {
     "data": {
      "text/plain": [
       "150"
      ]
     },
     "execution_count": 19,
     "metadata": {},
     "output_type": "execute_result"
    }
   ],
   "source": [
    "df_all[(df_all['Name'].isin(build_fail)) & (df_all['Name'].isin(using_sat))].shape[0]"
   ]
  },
  {
   "cell_type": "code",
   "execution_count": 20,
   "id": "13afa8af",
   "metadata": {},
   "outputs": [
    {
     "data": {
      "text/plain": [
       "377"
      ]
     },
     "execution_count": 20,
     "metadata": {},
     "output_type": "execute_result"
    }
   ],
   "source": [
    "df_all[(df_all['Name'].isin(build_success)) & (~df_all['Name'].isin(using_sat))].shape[0]"
   ]
  },
  {
   "cell_type": "code",
   "execution_count": 21,
   "id": "fa9fcc4f",
   "metadata": {},
   "outputs": [
    {
     "data": {
      "text/plain": [
       "238"
      ]
     },
     "execution_count": 21,
     "metadata": {},
     "output_type": "execute_result"
    }
   ],
   "source": [
    "df_all[(df_all['Name'].isin(build_fail)) & (~df_all['Name'].isin(using_sat))].shape[0]"
   ]
  },
  {
   "cell_type": "code",
   "execution_count": 81,
   "id": "33529987",
   "metadata": {},
   "outputs": [],
   "source": [
    "# Import libraries\n",
    "import random\n",
    "import scipy.stats as stats\n",
    "import statsmodels.api as sm\n",
    "import statsmodels.stats.contingency_tables as ct\n",
    "from statsmodels.graphics.gofplots import qqplot\n",
    "from statsmodels.stats.weightstats import ztest"
   ]
  },
  {
   "cell_type": "code",
   "execution_count": 82,
   "id": "884c632c",
   "metadata": {},
   "outputs": [
    {
     "data": {
      "text/html": [
       "<div>\n",
       "<style scoped>\n",
       "    .dataframe tbody tr th:only-of-type {\n",
       "        vertical-align: middle;\n",
       "    }\n",
       "\n",
       "    .dataframe tbody tr th {\n",
       "        vertical-align: top;\n",
       "    }\n",
       "\n",
       "    .dataframe thead th {\n",
       "        text-align: right;\n",
       "    }\n",
       "</style>\n",
       "<table border=\"1\" class=\"dataframe\">\n",
       "  <thead>\n",
       "    <tr style=\"text-align: right;\">\n",
       "      <th></th>\n",
       "      <th>No ASAT</th>\n",
       "      <th>Yes ASAT</th>\n",
       "    </tr>\n",
       "  </thead>\n",
       "  <tbody>\n",
       "    <tr>\n",
       "      <th>Build Failed</th>\n",
       "      <td>238</td>\n",
       "      <td>150</td>\n",
       "    </tr>\n",
       "    <tr>\n",
       "      <th>Successful Build</th>\n",
       "      <td>377</td>\n",
       "      <td>282</td>\n",
       "    </tr>\n",
       "  </tbody>\n",
       "</table>\n",
       "</div>"
      ],
      "text/plain": [
       "                  No ASAT  Yes ASAT\n",
       "Build Failed          238       150\n",
       "Successful Build      377       282"
      ]
     },
     "execution_count": 82,
     "metadata": {},
     "output_type": "execute_result"
    }
   ],
   "source": [
    "# Create contingency table \n",
    "OD = pd.DataFrame({'No ASAT': [238, 377],\n",
    "                   'Yes ASAT' : [150, 282]},index ={'Build Failed','Successful Build'})\n",
    "OD"
   ]
  },
  {
   "cell_type": "code",
   "execution_count": 83,
   "id": "7c489d97",
   "metadata": {},
   "outputs": [
    {
     "name": "stdout",
     "output_type": "stream",
     "text": [
      "chi-square statistic: 1.5543698357304931\n",
      "p-value: 0.21249149245606067\n",
      "degree of freedom: 1\n",
      "expected contingency table\n",
      "[[227.90830946 160.09169054]\n",
      " [387.09169054 271.90830946]]\n"
     ]
    }
   ],
   "source": [
    "# chi-square test\n",
    "chiRes = stats.chi2_contingency(OD)\n",
    "# Details\n",
    "print(f'chi-square statistic: {chiRes[0]}')\n",
    "print(f'p-value: {chiRes[1]}')\n",
    "print(f'degree of freedom: {chiRes[2]}')\n",
    "print('expected contingency table') \n",
    "print(chiRes[3])"
   ]
  },
  {
   "cell_type": "code",
   "execution_count": 84,
   "id": "88a827d0",
   "metadata": {},
   "outputs": [
    {
     "name": "stdout",
     "output_type": "stream",
     "text": [
      "chi-square statistic: 1.5543698357304931\n",
      "p-value: 0.21249149245606067\n",
      "Cramer' V: 0.04053896018642988\n"
     ]
    }
   ],
   "source": [
    "# chi-square test\n",
    "print(f'chi-square statistic: {chiRes[0]}')\n",
    "print(f'p-value: {chiRes[1]}')\n",
    "# chi-square test statistic (alternative method to derive chi-sq stat)\n",
    "chisq_stat = stats.chi2_contingency(OD, correction=False)[0]\n",
    "# sample size\n",
    "n = np.sum(np.sum(OD))\n",
    "# minimum of rows & columns\n",
    "minshape = min(OD.shape)-1\n",
    "# Cramer's v\n",
    "V_ = np.sqrt( (chisq_stat/n)/minshape)\n",
    "print(f\"Cramer' V: {V_}\")"
   ]
  },
  {
   "cell_type": "code",
   "execution_count": 29,
   "id": "388fa9cb",
   "metadata": {},
   "outputs": [
    {
     "data": {
      "text/html": [
       "<div>\n",
       "<style scoped>\n",
       "    .dataframe tbody tr th:only-of-type {\n",
       "        vertical-align: middle;\n",
       "    }\n",
       "\n",
       "    .dataframe tbody tr th {\n",
       "        vertical-align: top;\n",
       "    }\n",
       "\n",
       "    .dataframe thead th {\n",
       "        text-align: right;\n",
       "    }\n",
       "</style>\n",
       "<table border=\"1\" class=\"dataframe\">\n",
       "  <thead>\n",
       "    <tr style=\"text-align: right;\">\n",
       "      <th></th>\n",
       "      <th>Name</th>\n",
       "      <th>Is Fork</th>\n",
       "      <th>Commits</th>\n",
       "      <th>Branches</th>\n",
       "      <th>Default Branch</th>\n",
       "      <th>Releases</th>\n",
       "      <th>Contributors</th>\n",
       "      <th>License</th>\n",
       "      <th>Watchers</th>\n",
       "      <th>Stargazers</th>\n",
       "      <th>...</th>\n",
       "      <th>Labels</th>\n",
       "      <th>checkstyle</th>\n",
       "      <th>findbugs</th>\n",
       "      <th>maven</th>\n",
       "      <th>gradle</th>\n",
       "      <th>gradle_on_root</th>\n",
       "      <th>maven_usage_on_root</th>\n",
       "      <th>spotbugs</th>\n",
       "      <th>android</th>\n",
       "      <th>commit_status</th>\n",
       "    </tr>\n",
       "  </thead>\n",
       "  <tbody>\n",
       "    <tr>\n",
       "      <th>0</th>\n",
       "      <td>1c-syntax/bsl-language-server</td>\n",
       "      <td>False</td>\n",
       "      <td>5114</td>\n",
       "      <td>25</td>\n",
       "      <td>develop</td>\n",
       "      <td>52</td>\n",
       "      <td>40</td>\n",
       "      <td>Other</td>\n",
       "      <td>19</td>\n",
       "      <td>192</td>\n",
       "      <td>...</td>\n",
       "      <td>component/cli,component/codeAction,component/c...</td>\n",
       "      <td>0</td>\n",
       "      <td>0</td>\n",
       "      <td>0</td>\n",
       "      <td>1</td>\n",
       "      <td>1</td>\n",
       "      <td>0</td>\n",
       "      <td>0</td>\n",
       "      <td>0</td>\n",
       "      <td>pending</td>\n",
       "    </tr>\n",
       "    <tr>\n",
       "      <th>1</th>\n",
       "      <td>abhpd/hacktoberfest2021</td>\n",
       "      <td>False</td>\n",
       "      <td>266</td>\n",
       "      <td>7</td>\n",
       "      <td>main</td>\n",
       "      <td>0</td>\n",
       "      <td>77</td>\n",
       "      <td>MIT License</td>\n",
       "      <td>5</td>\n",
       "      <td>541</td>\n",
       "      <td>...</td>\n",
       "      <td>bug,changes-needed,documentation,duplicate,enh...</td>\n",
       "      <td>0</td>\n",
       "      <td>0</td>\n",
       "      <td>0</td>\n",
       "      <td>0</td>\n",
       "      <td>0</td>\n",
       "      <td>0</td>\n",
       "      <td>0</td>\n",
       "      <td>0</td>\n",
       "      <td>pending</td>\n",
       "    </tr>\n",
       "    <tr>\n",
       "      <th>2</th>\n",
       "      <td>actiontech/dble</td>\n",
       "      <td>False</td>\n",
       "      <td>3352</td>\n",
       "      <td>53</td>\n",
       "      <td>master</td>\n",
       "      <td>43</td>\n",
       "      <td>27</td>\n",
       "      <td>GNU General Public License v2.0</td>\n",
       "      <td>76</td>\n",
       "      <td>860</td>\n",
       "      <td>...</td>\n",
       "      <td>accidental_bug,Aggregate function,autotest-add...</td>\n",
       "      <td>1</td>\n",
       "      <td>0</td>\n",
       "      <td>1</td>\n",
       "      <td>0</td>\n",
       "      <td>0</td>\n",
       "      <td>1</td>\n",
       "      <td>0</td>\n",
       "      <td>0</td>\n",
       "      <td>pending</td>\n",
       "    </tr>\n",
       "    <tr>\n",
       "      <th>3</th>\n",
       "      <td>activiti/activiti</td>\n",
       "      <td>False</td>\n",
       "      <td>10768</td>\n",
       "      <td>33</td>\n",
       "      <td>develop</td>\n",
       "      <td>28</td>\n",
       "      <td>195</td>\n",
       "      <td>Apache License 2.0</td>\n",
       "      <td>647</td>\n",
       "      <td>8143</td>\n",
       "      <td>...</td>\n",
       "      <td>api,api-events,automation,blocked,blocking,BPM...</td>\n",
       "      <td>1</td>\n",
       "      <td>0</td>\n",
       "      <td>1</td>\n",
       "      <td>0</td>\n",
       "      <td>0</td>\n",
       "      <td>1</td>\n",
       "      <td>0</td>\n",
       "      <td>0</td>\n",
       "      <td>pending</td>\n",
       "    </tr>\n",
       "    <tr>\n",
       "      <th>4</th>\n",
       "      <td>adeekshith/watomatic</td>\n",
       "      <td>False</td>\n",
       "      <td>1382</td>\n",
       "      <td>10</td>\n",
       "      <td>main</td>\n",
       "      <td>23</td>\n",
       "      <td>15</td>\n",
       "      <td>GNU General Public License v3.0</td>\n",
       "      <td>10</td>\n",
       "      <td>218</td>\n",
       "      <td>...</td>\n",
       "      <td>bug,documentation,duplicate,enhancement,good f...</td>\n",
       "      <td>0</td>\n",
       "      <td>0</td>\n",
       "      <td>0</td>\n",
       "      <td>1</td>\n",
       "      <td>1</td>\n",
       "      <td>0</td>\n",
       "      <td>0</td>\n",
       "      <td>1</td>\n",
       "      <td>pending</td>\n",
       "    </tr>\n",
       "    <tr>\n",
       "      <th>...</th>\n",
       "      <td>...</td>\n",
       "      <td>...</td>\n",
       "      <td>...</td>\n",
       "      <td>...</td>\n",
       "      <td>...</td>\n",
       "      <td>...</td>\n",
       "      <td>...</td>\n",
       "      <td>...</td>\n",
       "      <td>...</td>\n",
       "      <td>...</td>\n",
       "      <td>...</td>\n",
       "      <td>...</td>\n",
       "      <td>...</td>\n",
       "      <td>...</td>\n",
       "      <td>...</td>\n",
       "      <td>...</td>\n",
       "      <td>...</td>\n",
       "      <td>...</td>\n",
       "      <td>...</td>\n",
       "      <td>...</td>\n",
       "      <td>...</td>\n",
       "    </tr>\n",
       "    <tr>\n",
       "      <th>1449</th>\n",
       "      <td>zoinkwiz/quest-helper</td>\n",
       "      <td>False</td>\n",
       "      <td>1059</td>\n",
       "      <td>31</td>\n",
       "      <td>master</td>\n",
       "      <td>0</td>\n",
       "      <td>73</td>\n",
       "      <td>BSD 2-Clause Simplified License</td>\n",
       "      <td>8</td>\n",
       "      <td>101</td>\n",
       "      <td>...</td>\n",
       "      <td>bug,discussion,documentation,duplicate,enhance...</td>\n",
       "      <td>0</td>\n",
       "      <td>0</td>\n",
       "      <td>0</td>\n",
       "      <td>1</td>\n",
       "      <td>1</td>\n",
       "      <td>0</td>\n",
       "      <td>0</td>\n",
       "      <td>0</td>\n",
       "      <td>pending</td>\n",
       "    </tr>\n",
       "    <tr>\n",
       "      <th>1450</th>\n",
       "      <td>zoranpandovski/design-patterns</td>\n",
       "      <td>False</td>\n",
       "      <td>962</td>\n",
       "      <td>2</td>\n",
       "      <td>master</td>\n",
       "      <td>0</td>\n",
       "      <td>176</td>\n",
       "      <td>NaN</td>\n",
       "      <td>14</td>\n",
       "      <td>271</td>\n",
       "      <td>...</td>\n",
       "      <td>bug,duplicate,enhancement,good first issue,hac...</td>\n",
       "      <td>0</td>\n",
       "      <td>0</td>\n",
       "      <td>0</td>\n",
       "      <td>0</td>\n",
       "      <td>0</td>\n",
       "      <td>0</td>\n",
       "      <td>0</td>\n",
       "      <td>0</td>\n",
       "      <td>pending</td>\n",
       "    </tr>\n",
       "    <tr>\n",
       "      <th>1451</th>\n",
       "      <td>zsmartsystems/com.zsmartsystems.zigbee</td>\n",
       "      <td>False</td>\n",
       "      <td>1060</td>\n",
       "      <td>11</td>\n",
       "      <td>master</td>\n",
       "      <td>3</td>\n",
       "      <td>25</td>\n",
       "      <td>Eclipse Public License 1.0</td>\n",
       "      <td>19</td>\n",
       "      <td>102</td>\n",
       "      <td>...</td>\n",
       "      <td>awaiting feedback,breaking change,bug,CC2531,C...</td>\n",
       "      <td>0</td>\n",
       "      <td>0</td>\n",
       "      <td>1</td>\n",
       "      <td>0</td>\n",
       "      <td>0</td>\n",
       "      <td>1</td>\n",
       "      <td>0</td>\n",
       "      <td>0</td>\n",
       "      <td>pending</td>\n",
       "    </tr>\n",
       "    <tr>\n",
       "      <th>1452</th>\n",
       "      <td>zstackio/zstack</td>\n",
       "      <td>False</td>\n",
       "      <td>11269</td>\n",
       "      <td>725</td>\n",
       "      <td>master</td>\n",
       "      <td>0</td>\n",
       "      <td>45</td>\n",
       "      <td>Other</td>\n",
       "      <td>136</td>\n",
       "      <td>1058</td>\n",
       "      <td>...</td>\n",
       "      <td>bug,BUILD-FAIL,BUILD-PASS,dependencies,duplica...</td>\n",
       "      <td>0</td>\n",
       "      <td>0</td>\n",
       "      <td>1</td>\n",
       "      <td>0</td>\n",
       "      <td>0</td>\n",
       "      <td>1</td>\n",
       "      <td>0</td>\n",
       "      <td>0</td>\n",
       "      <td>pending</td>\n",
       "    </tr>\n",
       "    <tr>\n",
       "      <th>1453</th>\n",
       "      <td>zxing/zxing</td>\n",
       "      <td>False</td>\n",
       "      <td>3620</td>\n",
       "      <td>2</td>\n",
       "      <td>master</td>\n",
       "      <td>27</td>\n",
       "      <td>107</td>\n",
       "      <td>Apache License 2.0</td>\n",
       "      <td>1702</td>\n",
       "      <td>28587</td>\n",
       "      <td>...</td>\n",
       "      <td>android,bug,dependencies,enhancement</td>\n",
       "      <td>1</td>\n",
       "      <td>0</td>\n",
       "      <td>1</td>\n",
       "      <td>0</td>\n",
       "      <td>0</td>\n",
       "      <td>1</td>\n",
       "      <td>0</td>\n",
       "      <td>1</td>\n",
       "      <td>success</td>\n",
       "    </tr>\n",
       "  </tbody>\n",
       "</table>\n",
       "<p>1454 rows × 36 columns</p>\n",
       "</div>"
      ],
      "text/plain": [
       "                                        Name  Is Fork  Commits  Branches  \\\n",
       "0              1c-syntax/bsl-language-server    False     5114        25   \n",
       "1                    abhpd/hacktoberfest2021    False      266         7   \n",
       "2                            actiontech/dble    False     3352        53   \n",
       "3                          activiti/activiti    False    10768        33   \n",
       "4                       adeekshith/watomatic    False     1382        10   \n",
       "...                                      ...      ...      ...       ...   \n",
       "1449                   zoinkwiz/quest-helper    False     1059        31   \n",
       "1450          zoranpandovski/design-patterns    False      962         2   \n",
       "1451  zsmartsystems/com.zsmartsystems.zigbee    False     1060        11   \n",
       "1452                         zstackio/zstack    False    11269       725   \n",
       "1453                             zxing/zxing    False     3620         2   \n",
       "\n",
       "     Default Branch  Releases  Contributors                          License  \\\n",
       "0           develop        52            40                            Other   \n",
       "1              main         0            77                      MIT License   \n",
       "2            master        43            27  GNU General Public License v2.0   \n",
       "3           develop        28           195               Apache License 2.0   \n",
       "4              main        23            15  GNU General Public License v3.0   \n",
       "...             ...       ...           ...                              ...   \n",
       "1449         master         0            73  BSD 2-Clause Simplified License   \n",
       "1450         master         0           176                              NaN   \n",
       "1451         master         3            25       Eclipse Public License 1.0   \n",
       "1452         master         0            45                            Other   \n",
       "1453         master        27           107               Apache License 2.0   \n",
       "\n",
       "      Watchers  Stargazers  ...  \\\n",
       "0           19         192  ...   \n",
       "1            5         541  ...   \n",
       "2           76         860  ...   \n",
       "3          647        8143  ...   \n",
       "4           10         218  ...   \n",
       "...        ...         ...  ...   \n",
       "1449         8         101  ...   \n",
       "1450        14         271  ...   \n",
       "1451        19         102  ...   \n",
       "1452       136        1058  ...   \n",
       "1453      1702       28587  ...   \n",
       "\n",
       "                                                 Labels  checkstyle findbugs  \\\n",
       "0     component/cli,component/codeAction,component/c...           0        0   \n",
       "1     bug,changes-needed,documentation,duplicate,enh...           0        0   \n",
       "2     accidental_bug,Aggregate function,autotest-add...           1        0   \n",
       "3     api,api-events,automation,blocked,blocking,BPM...           1        0   \n",
       "4     bug,documentation,duplicate,enhancement,good f...           0        0   \n",
       "...                                                 ...         ...      ...   \n",
       "1449  bug,discussion,documentation,duplicate,enhance...           0        0   \n",
       "1450  bug,duplicate,enhancement,good first issue,hac...           0        0   \n",
       "1451  awaiting feedback,breaking change,bug,CC2531,C...           0        0   \n",
       "1452  bug,BUILD-FAIL,BUILD-PASS,dependencies,duplica...           0        0   \n",
       "1453               android,bug,dependencies,enhancement           1        0   \n",
       "\n",
       "     maven gradle gradle_on_root maven_usage_on_root  spotbugs  android  \\\n",
       "0        0      1              1                   0         0        0   \n",
       "1        0      0              0                   0         0        0   \n",
       "2        1      0              0                   1         0        0   \n",
       "3        1      0              0                   1         0        0   \n",
       "4        0      1              1                   0         0        1   \n",
       "...    ...    ...            ...                 ...       ...      ...   \n",
       "1449     0      1              1                   0         0        0   \n",
       "1450     0      0              0                   0         0        0   \n",
       "1451     1      0              0                   1         0        0   \n",
       "1452     1      0              0                   1         0        0   \n",
       "1453     1      0              0                   1         0        1   \n",
       "\n",
       "      commit_status  \n",
       "0           pending  \n",
       "1           pending  \n",
       "2           pending  \n",
       "3           pending  \n",
       "4           pending  \n",
       "...             ...  \n",
       "1449        pending  \n",
       "1450        pending  \n",
       "1451        pending  \n",
       "1452        pending  \n",
       "1453        success  \n",
       "\n",
       "[1454 rows x 36 columns]"
      ]
     },
     "execution_count": 29,
     "metadata": {},
     "output_type": "execute_result"
    }
   ],
   "source": [
    "df_all"
   ]
  },
  {
   "cell_type": "code",
   "execution_count": 22,
   "id": "5435dbd6",
   "metadata": {},
   "outputs": [
    {
     "data": {
      "text/html": [
       "<div>\n",
       "<style scoped>\n",
       "    .dataframe tbody tr th:only-of-type {\n",
       "        vertical-align: middle;\n",
       "    }\n",
       "\n",
       "    .dataframe tbody tr th {\n",
       "        vertical-align: top;\n",
       "    }\n",
       "\n",
       "    .dataframe thead th {\n",
       "        text-align: right;\n",
       "    }\n",
       "</style>\n",
       "<table border=\"1\" class=\"dataframe\">\n",
       "  <thead>\n",
       "    <tr style=\"text-align: right;\">\n",
       "      <th></th>\n",
       "      <th>repo_name</th>\n",
       "      <th>testing</th>\n",
       "    </tr>\n",
       "  </thead>\n",
       "  <tbody>\n",
       "    <tr>\n",
       "      <th>0</th>\n",
       "      <td>1c-syntax/bsl-language-server</td>\n",
       "      <td>NaN</td>\n",
       "    </tr>\n",
       "    <tr>\n",
       "      <th>1</th>\n",
       "      <td>abhpd/hacktoberfest2021</td>\n",
       "      <td>NaN</td>\n",
       "    </tr>\n",
       "    <tr>\n",
       "      <th>2</th>\n",
       "      <td>actiontech/dble</td>\n",
       "      <td>Very Low</td>\n",
       "    </tr>\n",
       "    <tr>\n",
       "      <th>3</th>\n",
       "      <td>activiti/activiti</td>\n",
       "      <td>NaN</td>\n",
       "    </tr>\n",
       "    <tr>\n",
       "      <th>4</th>\n",
       "      <td>adeekshith/watomatic</td>\n",
       "      <td>NaN</td>\n",
       "    </tr>\n",
       "  </tbody>\n",
       "</table>\n",
       "</div>"
      ],
      "text/plain": [
       "                       repo_name   testing\n",
       "0  1c-syntax/bsl-language-server       NaN\n",
       "1        abhpd/hacktoberfest2021       NaN\n",
       "2                actiontech/dble  Very Low\n",
       "3              activiti/activiti       NaN\n",
       "4           adeekshith/watomatic       NaN"
      ]
     },
     "execution_count": 22,
     "metadata": {},
     "output_type": "execute_result"
    }
   ],
   "source": [
    "final_df = pd.read_csv('data/combined_results.csv')\n",
    "final_df.head()"
   ]
  },
  {
   "cell_type": "code",
   "execution_count": 25,
   "id": "13eb6925",
   "metadata": {},
   "outputs": [
    {
     "data": {
      "text/plain": [
       "0    906\n",
       "1    470\n",
       "2     78\n",
       "Name: sat_usage, dtype: int64"
      ]
     },
     "execution_count": 25,
     "metadata": {},
     "output_type": "execute_result"
    }
   ],
   "source": [
    "final_df['sat_usage'] = df_all['checkstyle'] + df_all['findbugs'] + df_all['spotbugs']\n",
    "final_df['sat_usage'].value_counts()"
   ]
  },
  {
   "cell_type": "code",
   "execution_count": 26,
   "id": "1fc28f84",
   "metadata": {},
   "outputs": [],
   "source": [
    "final_df.loc[final_df['sat_usage'] > 0, 'sat_usage'] = 1"
   ]
  },
  {
   "cell_type": "code",
   "execution_count": 27,
   "id": "918df06c",
   "metadata": {},
   "outputs": [
    {
     "data": {
      "text/plain": [
       "0    906\n",
       "1    548\n",
       "Name: sat_usage, dtype: int64"
      ]
     },
     "execution_count": 27,
     "metadata": {},
     "output_type": "execute_result"
    }
   ],
   "source": [
    "final_df['sat_usage'].value_counts()"
   ]
  },
  {
   "cell_type": "code",
   "execution_count": 28,
   "id": "cfb82301",
   "metadata": {},
   "outputs": [],
   "source": [
    "final_df.to_csv('data/combined_results.csv', index=False)"
   ]
  },
  {
   "cell_type": "code",
   "execution_count": null,
   "id": "c8d93c75",
   "metadata": {},
   "outputs": [],
   "source": []
  }
 ],
 "metadata": {
  "kernelspec": {
   "display_name": "Python 3",
   "language": "python",
   "name": "python3"
  },
  "language_info": {
   "codemirror_mode": {
    "name": "ipython",
    "version": 3
   },
   "file_extension": ".py",
   "mimetype": "text/x-python",
   "name": "python",
   "nbconvert_exporter": "python",
   "pygments_lexer": "ipython3",
   "version": "3.9.5"
  }
 },
 "nbformat": 4,
 "nbformat_minor": 5
}
