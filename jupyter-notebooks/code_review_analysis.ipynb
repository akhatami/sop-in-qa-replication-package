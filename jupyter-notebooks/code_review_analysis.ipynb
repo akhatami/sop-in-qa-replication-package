{
 "cells": [
  {
   "cell_type": "code",
   "execution_count": 2,
   "id": "9da8d826",
   "metadata": {},
   "outputs": [],
   "source": [
    "import pandas as pd\n",
    "import numpy as np\n",
    "import matplotlib.pyplot as plt\n",
    "%matplotlib inline"
   ]
  },
  {
   "cell_type": "code",
   "execution_count": 3,
   "id": "56896907",
   "metadata": {},
   "outputs": [],
   "source": [
    "df_all = pd.read_csv('data/selected_projects.csv')"
   ]
  },
  {
   "cell_type": "code",
   "execution_count": 4,
   "id": "d881017a",
   "metadata": {},
   "outputs": [
    {
     "data": {
      "text/plain": [
       "1454"
      ]
     },
     "execution_count": 4,
     "metadata": {},
     "output_type": "execute_result"
    }
   ],
   "source": [
    "df_all.shape[0]"
   ]
  },
  {
   "cell_type": "code",
   "execution_count": 5,
   "id": "5a5d4205",
   "metadata": {},
   "outputs": [],
   "source": [
    "df = pd.read_csv('data/pull_details.csv')"
   ]
  },
  {
   "cell_type": "code",
   "execution_count": 6,
   "id": "7a7b81b1",
   "metadata": {},
   "outputs": [
    {
     "data": {
      "text/plain": [
       "Index(['repo_name', 'last_commit_sha', 'pull_number', 'count_review_requests',\n",
       "       'count_all_reviews', 'count_all_review_comments', 'count_all_comments',\n",
       "       'count_changed_files', 'count_total_changed_lines'],\n",
       "      dtype='object')"
      ]
     },
     "execution_count": 6,
     "metadata": {},
     "output_type": "execute_result"
    }
   ],
   "source": [
    "df.columns"
   ]
  },
  {
   "cell_type": "code",
   "execution_count": 13,
   "id": "d1ab837e",
   "metadata": {},
   "outputs": [
    {
     "data": {
      "text/html": [
       "<div>\n",
       "<style scoped>\n",
       "    .dataframe tbody tr th:only-of-type {\n",
       "        vertical-align: middle;\n",
       "    }\n",
       "\n",
       "    .dataframe tbody tr th {\n",
       "        vertical-align: top;\n",
       "    }\n",
       "\n",
       "    .dataframe thead th {\n",
       "        text-align: right;\n",
       "    }\n",
       "</style>\n",
       "<table border=\"1\" class=\"dataframe\">\n",
       "  <thead>\n",
       "    <tr style=\"text-align: right;\">\n",
       "      <th></th>\n",
       "      <th>repo_name</th>\n",
       "      <th>last_commit_sha</th>\n",
       "      <th>pull_number</th>\n",
       "      <th>count_review_requests</th>\n",
       "      <th>count_all_reviews</th>\n",
       "      <th>count_all_review_comments</th>\n",
       "      <th>count_all_comments</th>\n",
       "      <th>count_changed_files</th>\n",
       "      <th>count_total_changed_lines</th>\n",
       "    </tr>\n",
       "  </thead>\n",
       "  <tbody>\n",
       "    <tr>\n",
       "      <th>2120</th>\n",
       "      <td>apache/iotdb</td>\n",
       "      <td>25fefb540b6ee9ceaafa515a4ef2b571ec3be08a</td>\n",
       "      <td>3657</td>\n",
       "      <td>0</td>\n",
       "      <td>1</td>\n",
       "      <td>0</td>\n",
       "      <td>1</td>\n",
       "      <td>7</td>\n",
       "      <td>38</td>\n",
       "    </tr>\n",
       "    <tr>\n",
       "      <th>2121</th>\n",
       "      <td>apache/iotdb</td>\n",
       "      <td>25fefb540b6ee9ceaafa515a4ef2b571ec3be08a</td>\n",
       "      <td>3656</td>\n",
       "      <td>0</td>\n",
       "      <td>1</td>\n",
       "      <td>0</td>\n",
       "      <td>1</td>\n",
       "      <td>28</td>\n",
       "      <td>376</td>\n",
       "    </tr>\n",
       "    <tr>\n",
       "      <th>2122</th>\n",
       "      <td>apache/iotdb</td>\n",
       "      <td>25fefb540b6ee9ceaafa515a4ef2b571ec3be08a</td>\n",
       "      <td>3655</td>\n",
       "      <td>0</td>\n",
       "      <td>0</td>\n",
       "      <td>0</td>\n",
       "      <td>2</td>\n",
       "      <td>1</td>\n",
       "      <td>2</td>\n",
       "    </tr>\n",
       "    <tr>\n",
       "      <th>2123</th>\n",
       "      <td>apache/iotdb</td>\n",
       "      <td>25fefb540b6ee9ceaafa515a4ef2b571ec3be08a</td>\n",
       "      <td>3654</td>\n",
       "      <td>0</td>\n",
       "      <td>0</td>\n",
       "      <td>0</td>\n",
       "      <td>0</td>\n",
       "      <td>1</td>\n",
       "      <td>2</td>\n",
       "    </tr>\n",
       "    <tr>\n",
       "      <th>2124</th>\n",
       "      <td>apache/iotdb</td>\n",
       "      <td>25fefb540b6ee9ceaafa515a4ef2b571ec3be08a</td>\n",
       "      <td>3652</td>\n",
       "      <td>0</td>\n",
       "      <td>1</td>\n",
       "      <td>0</td>\n",
       "      <td>1</td>\n",
       "      <td>1</td>\n",
       "      <td>2</td>\n",
       "    </tr>\n",
       "    <tr>\n",
       "      <th>2125</th>\n",
       "      <td>apache/iotdb</td>\n",
       "      <td>25fefb540b6ee9ceaafa515a4ef2b571ec3be08a</td>\n",
       "      <td>3651</td>\n",
       "      <td>0</td>\n",
       "      <td>3</td>\n",
       "      <td>0</td>\n",
       "      <td>0</td>\n",
       "      <td>2</td>\n",
       "      <td>4</td>\n",
       "    </tr>\n",
       "    <tr>\n",
       "      <th>2126</th>\n",
       "      <td>apache/iotdb</td>\n",
       "      <td>25fefb540b6ee9ceaafa515a4ef2b571ec3be08a</td>\n",
       "      <td>3650</td>\n",
       "      <td>0</td>\n",
       "      <td>2</td>\n",
       "      <td>1</td>\n",
       "      <td>1</td>\n",
       "      <td>14</td>\n",
       "      <td>989</td>\n",
       "    </tr>\n",
       "    <tr>\n",
       "      <th>2127</th>\n",
       "      <td>apache/iotdb</td>\n",
       "      <td>25fefb540b6ee9ceaafa515a4ef2b571ec3be08a</td>\n",
       "      <td>3649</td>\n",
       "      <td>2</td>\n",
       "      <td>20</td>\n",
       "      <td>31</td>\n",
       "      <td>3</td>\n",
       "      <td>12</td>\n",
       "      <td>27103</td>\n",
       "    </tr>\n",
       "    <tr>\n",
       "      <th>2128</th>\n",
       "      <td>apache/iotdb</td>\n",
       "      <td>25fefb540b6ee9ceaafa515a4ef2b571ec3be08a</td>\n",
       "      <td>3648</td>\n",
       "      <td>0</td>\n",
       "      <td>3</td>\n",
       "      <td>0</td>\n",
       "      <td>0</td>\n",
       "      <td>1</td>\n",
       "      <td>9</td>\n",
       "    </tr>\n",
       "    <tr>\n",
       "      <th>2129</th>\n",
       "      <td>apache/iotdb</td>\n",
       "      <td>25fefb540b6ee9ceaafa515a4ef2b571ec3be08a</td>\n",
       "      <td>3647</td>\n",
       "      <td>0</td>\n",
       "      <td>3</td>\n",
       "      <td>2</td>\n",
       "      <td>1</td>\n",
       "      <td>46</td>\n",
       "      <td>734</td>\n",
       "    </tr>\n",
       "  </tbody>\n",
       "</table>\n",
       "</div>"
      ],
      "text/plain": [
       "         repo_name                           last_commit_sha  pull_number  \\\n",
       "2120  apache/iotdb  25fefb540b6ee9ceaafa515a4ef2b571ec3be08a         3657   \n",
       "2121  apache/iotdb  25fefb540b6ee9ceaafa515a4ef2b571ec3be08a         3656   \n",
       "2122  apache/iotdb  25fefb540b6ee9ceaafa515a4ef2b571ec3be08a         3655   \n",
       "2123  apache/iotdb  25fefb540b6ee9ceaafa515a4ef2b571ec3be08a         3654   \n",
       "2124  apache/iotdb  25fefb540b6ee9ceaafa515a4ef2b571ec3be08a         3652   \n",
       "2125  apache/iotdb  25fefb540b6ee9ceaafa515a4ef2b571ec3be08a         3651   \n",
       "2126  apache/iotdb  25fefb540b6ee9ceaafa515a4ef2b571ec3be08a         3650   \n",
       "2127  apache/iotdb  25fefb540b6ee9ceaafa515a4ef2b571ec3be08a         3649   \n",
       "2128  apache/iotdb  25fefb540b6ee9ceaafa515a4ef2b571ec3be08a         3648   \n",
       "2129  apache/iotdb  25fefb540b6ee9ceaafa515a4ef2b571ec3be08a         3647   \n",
       "\n",
       "      count_review_requests  count_all_reviews  count_all_review_comments  \\\n",
       "2120                      0                  1                          0   \n",
       "2121                      0                  1                          0   \n",
       "2122                      0                  0                          0   \n",
       "2123                      0                  0                          0   \n",
       "2124                      0                  1                          0   \n",
       "2125                      0                  3                          0   \n",
       "2126                      0                  2                          1   \n",
       "2127                      2                 20                         31   \n",
       "2128                      0                  3                          0   \n",
       "2129                      0                  3                          2   \n",
       "\n",
       "      count_all_comments  count_changed_files  count_total_changed_lines  \n",
       "2120                   1                    7                         38  \n",
       "2121                   1                   28                        376  \n",
       "2122                   2                    1                          2  \n",
       "2123                   0                    1                          2  \n",
       "2124                   1                    1                          2  \n",
       "2125                   0                    2                          4  \n",
       "2126                   1                   14                        989  \n",
       "2127                   3                   12                      27103  \n",
       "2128                   0                    1                          9  \n",
       "2129                   1                   46                        734  "
      ]
     },
     "execution_count": 13,
     "metadata": {},
     "output_type": "execute_result"
    }
   ],
   "source": [
    "df[2120:2130]"
   ]
  },
  {
   "cell_type": "code",
   "execution_count": 6,
   "id": "f8e46943",
   "metadata": {},
   "outputs": [
    {
     "data": {
      "text/plain": [
       "1432"
      ]
     },
     "execution_count": 6,
     "metadata": {},
     "output_type": "execute_result"
    }
   ],
   "source": [
    "df.groupby(df[\"repo_name\"]).size().shape[0]"
   ]
  },
  {
   "cell_type": "code",
   "execution_count": 7,
   "id": "eef8247d",
   "metadata": {},
   "outputs": [],
   "source": [
    "missing_df = df[df.groupby(df[\"repo_name\"])['last_commit_sha'].transform('size') < 20]"
   ]
  },
  {
   "cell_type": "code",
   "execution_count": 8,
   "id": "3d73bc4c",
   "metadata": {},
   "outputs": [
    {
     "data": {
      "text/plain": [
       "repo_name\n",
       "apache/cassandra                                    8\n",
       "apache/flink-statefun                              11\n",
       "apache/poi                                          2\n",
       "apache/zookeeper                                    2\n",
       "bcgit/bc-java                                       9\n",
       "drklo/telegram                                     19\n",
       "facebook/litho                                      2\n",
       "fossasia/open-event-organizer-android              19\n",
       "fossasia/phimpme-android                           10\n",
       "iiitv/algos                                        14\n",
       "jensgerdes/sonar-pmd                               19\n",
       "jetbrains/intellij-plugins                          1\n",
       "jetbrains/intellij-sdk-docs                        12\n",
       "julianhyde/sqlline                                 11\n",
       "kunal-kushwaha/dsa-bootcamp-java                    5\n",
       "liferay/liferay-portal                              1\n",
       "material-components/material-components-android     1\n",
       "nekox-dev/nekox                                    16\n",
       "neo4j/neo4j                                         2\n",
       "networknt/light-example-4j                         15\n",
       "nyrds/remixed-dungeon                               7\n",
       "philjay/mpandroidchart                              5\n",
       "qos-ch/logback                                      6\n",
       "spigotmc/bungeecord                                12\n",
       "spring-cloud/spring-cloud-vault                    11\n",
       "spring-io/start.spring.io                           9\n",
       "spring-projects/spring-batch                       13\n",
       "spring-projects/spring-data-jpa                    17\n",
       "spring-projects/spring-data-mongodb                 1\n",
       "spring-projects/spring-petclinic                    3\n",
       "spring-projects/spring-security-oauth              14\n",
       "springfox/springfox                                 5\n",
       "tarunsinghofficial/hacktoberfest                    1\n",
       "uriahshaulmandel/baldphone                          6\n",
       "dtype: int64"
      ]
     },
     "execution_count": 8,
     "metadata": {},
     "output_type": "execute_result"
    }
   ],
   "source": [
    "missing_df.groupby(missing_df[\"repo_name\"]).size()"
   ]
  },
  {
   "cell_type": "code",
   "execution_count": 9,
   "id": "36a528ce",
   "metadata": {},
   "outputs": [],
   "source": [
    "missing_repos = missing_df.repo_name.unique()"
   ]
  },
  {
   "cell_type": "code",
   "execution_count": 10,
   "id": "ca59c962",
   "metadata": {},
   "outputs": [
    {
     "data": {
      "text/plain": [
       "array(['androidx/androidx', 'facebook/fresco',\n",
       "       'gravitee-io/gravitee-gateway', 'hacktoberfest17/programming',\n",
       "       'mission-peace/interview', 'open-metadata/openmetadata',\n",
       "       'openjdk/jdk', 'openjdk/jdk17', 'openjdk/jmc',\n",
       "       'openjdk/panama-foreign', 'openjdk/skara', 'openjdk/valhalla',\n",
       "       'ows-ali/hacktoberfest', 'rovo89/xposedinstaller',\n",
       "       'signalapp/signal-android', 'spring-io/initializr',\n",
       "       'spring-projects/spring-boot',\n",
       "       'spring-projects/spring-data-commons',\n",
       "       'spring-projects/spring-data-jdbc',\n",
       "       'spring-projects/spring-data-redis',\n",
       "       'thepranaygupta/data-structures-and-algorithms',\n",
       "       'vijaygupta18/hacktoberfest-2021'], dtype=object)"
      ]
     },
     "execution_count": 10,
     "metadata": {},
     "output_type": "execute_result"
    }
   ],
   "source": [
    "no_pull_repos = df_all[~df_all.Name.isin(df.repo_name.unique())].Name.unique()\n",
    "no_pull_repos"
   ]
  },
  {
   "cell_type": "code",
   "execution_count": 11,
   "id": "5036e8b4",
   "metadata": {},
   "outputs": [
    {
     "data": {
      "text/plain": [
       "27960"
      ]
     },
     "execution_count": 11,
     "metadata": {},
     "output_type": "execute_result"
    }
   ],
   "source": [
    "df = df[~df.repo_name.isin(missing_repos)]\n",
    "df.shape[0]"
   ]
  },
  {
   "cell_type": "code",
   "execution_count": 12,
   "id": "56c80c67",
   "metadata": {},
   "outputs": [
    {
     "data": {
      "text/plain": [
       "1398"
      ]
     },
     "execution_count": 12,
     "metadata": {},
     "output_type": "execute_result"
    }
   ],
   "source": [
    "df.groupby(df[\"repo_name\"]).size().shape[0]"
   ]
  },
  {
   "cell_type": "code",
   "execution_count": 13,
   "id": "6fea8bee",
   "metadata": {},
   "outputs": [
    {
     "data": {
      "text/html": [
       "<div>\n",
       "<style scoped>\n",
       "    .dataframe tbody tr th:only-of-type {\n",
       "        vertical-align: middle;\n",
       "    }\n",
       "\n",
       "    .dataframe tbody tr th {\n",
       "        vertical-align: top;\n",
       "    }\n",
       "\n",
       "    .dataframe thead th {\n",
       "        text-align: right;\n",
       "    }\n",
       "</style>\n",
       "<table border=\"1\" class=\"dataframe\">\n",
       "  <thead>\n",
       "    <tr style=\"text-align: right;\">\n",
       "      <th></th>\n",
       "      <th>count_review_requests</th>\n",
       "      <th>count_all_reviews</th>\n",
       "      <th>count_all_review_comments</th>\n",
       "      <th>count_all_comments</th>\n",
       "      <th>count_changed_files</th>\n",
       "      <th>count_total_changed_lines</th>\n",
       "    </tr>\n",
       "    <tr>\n",
       "      <th>repo_name</th>\n",
       "      <th></th>\n",
       "      <th></th>\n",
       "      <th></th>\n",
       "      <th></th>\n",
       "      <th></th>\n",
       "      <th></th>\n",
       "    </tr>\n",
       "  </thead>\n",
       "  <tbody>\n",
       "    <tr>\n",
       "      <th>1c-syntax/bsl-language-server</th>\n",
       "      <td>4</td>\n",
       "      <td>64</td>\n",
       "      <td>72</td>\n",
       "      <td>36</td>\n",
       "      <td>752</td>\n",
       "      <td>40997</td>\n",
       "    </tr>\n",
       "    <tr>\n",
       "      <th>abhpd/hacktoberfest2021</th>\n",
       "      <td>5</td>\n",
       "      <td>14</td>\n",
       "      <td>0</td>\n",
       "      <td>14</td>\n",
       "      <td>52</td>\n",
       "      <td>7629</td>\n",
       "    </tr>\n",
       "    <tr>\n",
       "      <th>actiontech/dble</th>\n",
       "      <td>2</td>\n",
       "      <td>17</td>\n",
       "      <td>0</td>\n",
       "      <td>1</td>\n",
       "      <td>58</td>\n",
       "      <td>1513</td>\n",
       "    </tr>\n",
       "    <tr>\n",
       "      <th>activiti/activiti</th>\n",
       "      <td>0</td>\n",
       "      <td>31</td>\n",
       "      <td>17</td>\n",
       "      <td>13</td>\n",
       "      <td>70</td>\n",
       "      <td>2696</td>\n",
       "    </tr>\n",
       "    <tr>\n",
       "      <th>adeekshith/watomatic</th>\n",
       "      <td>1</td>\n",
       "      <td>16</td>\n",
       "      <td>0</td>\n",
       "      <td>11</td>\n",
       "      <td>88</td>\n",
       "      <td>2392</td>\n",
       "    </tr>\n",
       "  </tbody>\n",
       "</table>\n",
       "</div>"
      ],
      "text/plain": [
       "                               count_review_requests  count_all_reviews  \\\n",
       "repo_name                                                                 \n",
       "1c-syntax/bsl-language-server                      4                 64   \n",
       "abhpd/hacktoberfest2021                            5                 14   \n",
       "actiontech/dble                                    2                 17   \n",
       "activiti/activiti                                  0                 31   \n",
       "adeekshith/watomatic                               1                 16   \n",
       "\n",
       "                               count_all_review_comments  count_all_comments  \\\n",
       "repo_name                                                                      \n",
       "1c-syntax/bsl-language-server                         72                  36   \n",
       "abhpd/hacktoberfest2021                                0                  14   \n",
       "actiontech/dble                                        0                   1   \n",
       "activiti/activiti                                     17                  13   \n",
       "adeekshith/watomatic                                   0                  11   \n",
       "\n",
       "                               count_changed_files  count_total_changed_lines  \n",
       "repo_name                                                                      \n",
       "1c-syntax/bsl-language-server                  752                      40997  \n",
       "abhpd/hacktoberfest2021                         52                       7629  \n",
       "actiontech/dble                                 58                       1513  \n",
       "activiti/activiti                               70                       2696  \n",
       "adeekshith/watomatic                            88                       2392  "
      ]
     },
     "execution_count": 13,
     "metadata": {},
     "output_type": "execute_result"
    }
   ],
   "source": [
    "df_combined = df.groupby(df[\"repo_name\"]).sum()\n",
    "df_combined = df_combined.drop(['pull_number'], axis=1)\n",
    "df_combined.head() "
   ]
  },
  {
   "cell_type": "code",
   "execution_count": 14,
   "id": "df0c127b",
   "metadata": {},
   "outputs": [
    {
     "data": {
      "text/plain": [
       "1398"
      ]
     },
     "execution_count": 14,
     "metadata": {},
     "output_type": "execute_result"
    }
   ],
   "source": [
    "df_combined.shape[0]"
   ]
  },
  {
   "cell_type": "code",
   "execution_count": 15,
   "id": "f7cca08a",
   "metadata": {},
   "outputs": [],
   "source": [
    "df_combined[\"code_review_metric\"] = df_combined[\"count_all_reviews\"] + df_combined[\"count_all_comments\"]"
   ]
  },
  {
   "cell_type": "code",
   "execution_count": 16,
   "id": "fd4fca70",
   "metadata": {},
   "outputs": [
    {
     "data": {
      "image/png": "[encoded data removed]",
      "text/plain": [
       "<Figure size 400x300 with 1 Axes>"
      ]
     },
     "metadata": {
      "needs_background": "light"
     },
     "output_type": "display_data"
    }
   ],
   "source": [
    "plt.rcParams.update({'figure.figsize':(4,3), 'figure.dpi':100})\n",
    "fig1, ax1 = plt.subplots()\n",
    "ax1.set_ylabel('count of reviews')\n",
    "ax1.boxplot(df_combined[\"count_all_reviews\"])\n",
    "ax1.set_yscale('log')\n",
    "plt.show()"
   ]
  },
  {
   "cell_type": "code",
   "execution_count": 17,
   "id": "af94a550",
   "metadata": {},
   "outputs": [
    {
     "data": {
      "image/png": "[encoded data removed]",
      "text/plain": [
       "<Figure size 400x300 with 1 Axes>"
      ]
     },
     "metadata": {
      "needs_background": "light"
     },
     "output_type": "display_data"
    }
   ],
   "source": [
    "plt.rcParams.update({'figure.figsize':(4,3), 'figure.dpi':100})\n",
    "fig1, ax1 = plt.subplots()\n",
    "ax1.set_ylabel('count of comments')\n",
    "ax1.boxplot(df_combined[\"count_all_comments\"])\n",
    "ax1.set_yscale('log')\n",
    "plt.show()"
   ]
  },
  {
   "cell_type": "code",
   "execution_count": 18,
   "id": "40a7277c",
   "metadata": {},
   "outputs": [
    {
     "data": {
      "image/png": "[encoded data removed]",
      "text/plain": [
       "<Figure size 600x300 with 2 Axes>"
      ]
     },
     "metadata": {
      "needs_background": "light"
     },
     "output_type": "display_data"
    }
   ],
   "source": [
    "plt.rcParams.update({'figure.figsize':(6,3), 'figure.dpi':100})\n",
    "fig1, ax1 = plt.subplots(1,2,sharey=True)\n",
    "ax1[0].set_xlabel('Reviews')\n",
    "ax1[0].set_ylabel('Counts (log scale)')\n",
    "ax1[0].boxplot(df_combined[\"count_all_reviews\"])\n",
    "ax1[0].set_yscale('log')\n",
    "# ax1[1].set_ylabel('Count of statuses per project')\n",
    "ax1[1].set_xlabel('Comments')\n",
    "ax1[1].boxplot(df_combined[\"count_all_comments\"])\n",
    "ax1[1].set_yscale('log')\n",
    "plt.show()"
   ]
  },
  {
   "cell_type": "code",
   "execution_count": 42,
   "id": "f46cf9f9",
   "metadata": {},
   "outputs": [
    {
     "data": {
      "image/png": "[encoded data removed]",
      "text/plain": [
       "<Figure size 500x300 with 2 Axes>"
      ]
     },
     "metadata": {
      "needs_background": "light"
     },
     "output_type": "display_data"
    }
   ],
   "source": [
    "\n",
    "plt.rcParams.update({'figure.figsize':(6,3), 'figure.dpi':100})\n",
    "# font = {'family' : 'normal',\n",
    "#         'weight' : 'normal',\n",
    "#         'size'   : 5}\n",
    "\n",
    "# plt.rc('font', **font)\n",
    "fig1, ax1 = plt.subplots(1,2,sharey=True)\n",
    "\n",
    "ax1[0].set_xlabel('Reviews')\n",
    "ax1[0].set_ylabel('Counts (log scale)')\n",
    "ax1[0].boxplot(df_combined[\"count_all_reviews\"])\n",
    "ax1[0].set_yscale('log')\n",
    "ax1[0].yaxis.grid(True)\n",
    "ax1[0].set_xticks([0], ['Reviews'])\n",
    "\n",
    "\n",
    "ax1[1].set_xlabel('Comments')\n",
    "ax1[1].boxplot(df_combined[\"count_all_comments\"])\n",
    "ax1[1].set_yscale('log')\n",
    "ax1[1].set_xticks([0], ['Comments'])\n",
    "\n",
    "\n",
    "plt.grid(True)\n",
    "plt.ylim(0.9, 1000)\n",
    "plt.gcf().set_size_inches(5,3)\n",
    "# plt.rc('axes', axisbelow=True)\n",
    "# plt.show()\n",
    "plt.savefig('code-review-box-chart.pdf', dpi=300)"
   ]
  },
  {
   "cell_type": "code",
   "execution_count": 20,
   "id": "f868ff35",
   "metadata": {},
   "outputs": [
    {
     "name": "stdout",
     "output_type": "stream",
     "text": [
      "38.0\n",
      "50.0\n",
      "73.0\n"
     ]
    }
   ],
   "source": [
    "print(np.percentile(df_combined[\"count_all_reviews\"].tolist(), 70))\n",
    "print(np.percentile(df_combined[\"count_all_reviews\"].tolist(), 80))\n",
    "print(np.percentile(df_combined[\"count_all_reviews\"].tolist(), 90))"
   ]
  },
  {
   "cell_type": "code",
   "execution_count": 21,
   "id": "cb6a520a",
   "metadata": {},
   "outputs": [
    {
     "name": "stdout",
     "output_type": "stream",
     "text": [
      "29.0\n",
      "38.0\n",
      "56.299999999999955\n"
     ]
    }
   ],
   "source": [
    "print(np.percentile(df_combined[\"count_all_comments\"].tolist(), 70))\n",
    "print(np.percentile(df_combined[\"count_all_comments\"].tolist(), 80))\n",
    "print(np.percentile(df_combined[\"count_all_comments\"].tolist(), 90))"
   ]
  },
  {
   "cell_type": "code",
   "execution_count": 38,
   "id": "7cae7871",
   "metadata": {},
   "outputs": [
    {
     "data": {
      "image/png": "[encoded data removed]",
      "text/plain": [
       "<Figure size 700x400 with 1 Axes>"
      ]
     },
     "metadata": {
      "needs_background": "light"
     },
     "output_type": "display_data"
    }
   ],
   "source": [
    "plt.rcParams.update({'figure.figsize':(7,4), 'figure.dpi':100})\n",
    "counts, bins, _ = plt.hist(df_combined[\"count_all_reviews\"], bins=30)\n",
    "\n",
    "SMALL_SIZE = 6\n",
    "MEDIUM_SIZE = 10\n",
    "BIGGER_SIZE = 12\n",
    "\n",
    "plt.rc('font', size=SMALL_SIZE)          # controls default text sizes\n",
    "plt.rc('axes', titlesize=MEDIUM_SIZE)     # fontsize of the axes title\n",
    "plt.rc('axes', labelsize=MEDIUM_SIZE)    # fontsize of the x and y labels\n",
    "plt.rc('xtick', labelsize=MEDIUM_SIZE)    # fontsize of the tick labels\n",
    "plt.rc('ytick', labelsize=MEDIUM_SIZE)    # fontsize of the tick labels\n",
    "plt.rc('legend', fontsize=MEDIUM_SIZE)    # legend fontsize\n",
    "plt.rc('figure', titlesize=BIGGER_SIZE)  # fontsize of the figure title\n",
    "\n",
    "for n, b in zip(counts, bins):\n",
    "    if n > 0:\n",
    "        plt.gca().text(b + 0.1, n, str(int(n)))  # +0.1 to center text\n",
    "\n",
    "plt.gca().set(title='', ylabel='Count of projects', xlabel='Count of reviews')\n",
    "# plt.show()\n",
    "plt.savefig('code-review-reviews-bar-chart.pdf', dpi=300)"
   ]
  },
  {
   "cell_type": "code",
   "execution_count": 37,
   "id": "0bb152ca",
   "metadata": {},
   "outputs": [
    {
     "data": {
      "image/png": "[encoded data removed]",
      "text/plain": [
       "<Figure size 700x400 with 1 Axes>"
      ]
     },
     "metadata": {
      "needs_background": "light"
     },
     "output_type": "display_data"
    }
   ],
   "source": [
    "plt.rcParams.update({'figure.figsize':(7,4), 'figure.dpi':100})\n",
    "counts, bins, _ = plt.hist(df_combined[\"count_all_comments\"], bins=30)\n",
    "\n",
    "SMALL_SIZE = 6\n",
    "MEDIUM_SIZE = 10\n",
    "BIGGER_SIZE = 12\n",
    "\n",
    "plt.rc('font', size=SMALL_SIZE)          # controls default text sizes\n",
    "plt.rc('axes', titlesize=MEDIUM_SIZE)     # fontsize of the axes title\n",
    "plt.rc('axes', labelsize=MEDIUM_SIZE)    # fontsize of the x and y labels\n",
    "plt.rc('xtick', labelsize=MEDIUM_SIZE)    # fontsize of the tick labels\n",
    "plt.rc('ytick', labelsize=MEDIUM_SIZE)    # fontsize of the tick labels\n",
    "plt.rc('legend', fontsize=MEDIUM_SIZE)    # legend fontsize\n",
    "plt.rc('figure', titlesize=BIGGER_SIZE)  # fontsize of the figure title\n",
    "\n",
    "for n, b in zip(counts, bins):\n",
    "    if n > 0:\n",
    "        plt.gca().text(b + 0.1, n, str(int(n)))  # +0.1 to center text\n",
    "\n",
    "plt.gca().set(title='', ylabel='Count of projects', xlabel='Count of comments')\n",
    "# plt.rc('axes', axisbelow=True)\n",
    "# plt.grid(True)\n",
    "# plt.show()\n",
    "\n",
    "plt.savefig('code-review-comments-bar-chart.pdf', dpi=300)"
   ]
  },
  {
   "cell_type": "code",
   "execution_count": 24,
   "id": "9f3da8da",
   "metadata": {},
   "outputs": [
    {
     "data": {
      "text/plain": [
       "775"
      ]
     },
     "execution_count": 24,
     "metadata": {},
     "output_type": "execute_result"
    }
   ],
   "source": [
    "df_combined[df_combined[\"count_review_requests\"] > 0].shape[0]"
   ]
  },
  {
   "cell_type": "code",
   "execution_count": 25,
   "id": "20464269",
   "metadata": {},
   "outputs": [
    {
     "data": {
      "text/html": [
       "<div>\n",
       "<style scoped>\n",
       "    .dataframe tbody tr th:only-of-type {\n",
       "        vertical-align: middle;\n",
       "    }\n",
       "\n",
       "    .dataframe tbody tr th {\n",
       "        vertical-align: top;\n",
       "    }\n",
       "\n",
       "    .dataframe thead th {\n",
       "        text-align: right;\n",
       "    }\n",
       "</style>\n",
       "<table border=\"1\" class=\"dataframe\">\n",
       "  <thead>\n",
       "    <tr style=\"text-align: right;\">\n",
       "      <th></th>\n",
       "      <th>count_review_requests</th>\n",
       "      <th>count_all_reviews</th>\n",
       "      <th>count_all_review_comments</th>\n",
       "      <th>count_all_comments</th>\n",
       "      <th>count_changed_files</th>\n",
       "      <th>count_total_changed_lines</th>\n",
       "      <th>code_review_metric</th>\n",
       "    </tr>\n",
       "    <tr>\n",
       "      <th>repo_name</th>\n",
       "      <th></th>\n",
       "      <th></th>\n",
       "      <th></th>\n",
       "      <th></th>\n",
       "      <th></th>\n",
       "      <th></th>\n",
       "      <th></th>\n",
       "    </tr>\n",
       "  </thead>\n",
       "  <tbody>\n",
       "    <tr>\n",
       "      <th>actiontech/dble</th>\n",
       "      <td>2</td>\n",
       "      <td>17</td>\n",
       "      <td>0</td>\n",
       "      <td>1</td>\n",
       "      <td>58</td>\n",
       "      <td>1513</td>\n",
       "      <td>18</td>\n",
       "    </tr>\n",
       "    <tr>\n",
       "      <th>adjust/android_sdk</th>\n",
       "      <td>0</td>\n",
       "      <td>3</td>\n",
       "      <td>0</td>\n",
       "      <td>10</td>\n",
       "      <td>472</td>\n",
       "      <td>26664</td>\n",
       "      <td>13</td>\n",
       "    </tr>\n",
       "    <tr>\n",
       "      <th>alex-the-666/ice_and_fire</th>\n",
       "      <td>0</td>\n",
       "      <td>0</td>\n",
       "      <td>6</td>\n",
       "      <td>11</td>\n",
       "      <td>2135</td>\n",
       "      <td>137190</td>\n",
       "      <td>11</td>\n",
       "    </tr>\n",
       "    <tr>\n",
       "      <th>alibaba/datax</th>\n",
       "      <td>0</td>\n",
       "      <td>0</td>\n",
       "      <td>0</td>\n",
       "      <td>5</td>\n",
       "      <td>133</td>\n",
       "      <td>10535</td>\n",
       "      <td>5</td>\n",
       "    </tr>\n",
       "    <tr>\n",
       "      <th>alphawallet/alpha-wallet-android</th>\n",
       "      <td>0</td>\n",
       "      <td>10</td>\n",
       "      <td>0</td>\n",
       "      <td>3</td>\n",
       "      <td>195</td>\n",
       "      <td>6953</td>\n",
       "      <td>13</td>\n",
       "    </tr>\n",
       "    <tr>\n",
       "      <th>...</th>\n",
       "      <td>...</td>\n",
       "      <td>...</td>\n",
       "      <td>...</td>\n",
       "      <td>...</td>\n",
       "      <td>...</td>\n",
       "      <td>...</td>\n",
       "      <td>...</td>\n",
       "    </tr>\n",
       "    <tr>\n",
       "      <th>xuxueli/xxl-job</th>\n",
       "      <td>0</td>\n",
       "      <td>0</td>\n",
       "      <td>0</td>\n",
       "      <td>3</td>\n",
       "      <td>29</td>\n",
       "      <td>417</td>\n",
       "      <td>3</td>\n",
       "    </tr>\n",
       "    <tr>\n",
       "      <th>yuliskov/smarttubenext</th>\n",
       "      <td>0</td>\n",
       "      <td>0</td>\n",
       "      <td>0</td>\n",
       "      <td>0</td>\n",
       "      <td>22</td>\n",
       "      <td>669</td>\n",
       "      <td>0</td>\n",
       "    </tr>\n",
       "    <tr>\n",
       "      <th>zebrunner/carina</th>\n",
       "      <td>0</td>\n",
       "      <td>0</td>\n",
       "      <td>0</td>\n",
       "      <td>1</td>\n",
       "      <td>50</td>\n",
       "      <td>9277</td>\n",
       "      <td>1</td>\n",
       "    </tr>\n",
       "    <tr>\n",
       "      <th>zeromq/jeromq</th>\n",
       "      <td>11</td>\n",
       "      <td>0</td>\n",
       "      <td>0</td>\n",
       "      <td>2</td>\n",
       "      <td>65</td>\n",
       "      <td>2063</td>\n",
       "      <td>2</td>\n",
       "    </tr>\n",
       "    <tr>\n",
       "      <th>zoinkwiz/quest-helper</th>\n",
       "      <td>0</td>\n",
       "      <td>10</td>\n",
       "      <td>0</td>\n",
       "      <td>3</td>\n",
       "      <td>64</td>\n",
       "      <td>69438</td>\n",
       "      <td>13</td>\n",
       "    </tr>\n",
       "  </tbody>\n",
       "</table>\n",
       "<p>303 rows × 7 columns</p>\n",
       "</div>"
      ],
      "text/plain": [
       "                                  count_review_requests  count_all_reviews  \\\n",
       "repo_name                                                                    \n",
       "actiontech/dble                                       2                 17   \n",
       "adjust/android_sdk                                    0                  3   \n",
       "alex-the-666/ice_and_fire                             0                  0   \n",
       "alibaba/datax                                         0                  0   \n",
       "alphawallet/alpha-wallet-android                      0                 10   \n",
       "...                                                 ...                ...   \n",
       "xuxueli/xxl-job                                       0                  0   \n",
       "yuliskov/smarttubenext                                0                  0   \n",
       "zebrunner/carina                                      0                  0   \n",
       "zeromq/jeromq                                        11                  0   \n",
       "zoinkwiz/quest-helper                                 0                 10   \n",
       "\n",
       "                                  count_all_review_comments  \\\n",
       "repo_name                                                     \n",
       "actiontech/dble                                           0   \n",
       "adjust/android_sdk                                        0   \n",
       "alex-the-666/ice_and_fire                                 6   \n",
       "alibaba/datax                                             0   \n",
       "alphawallet/alpha-wallet-android                          0   \n",
       "...                                                     ...   \n",
       "xuxueli/xxl-job                                           0   \n",
       "yuliskov/smarttubenext                                    0   \n",
       "zebrunner/carina                                          0   \n",
       "zeromq/jeromq                                             0   \n",
       "zoinkwiz/quest-helper                                     0   \n",
       "\n",
       "                                  count_all_comments  count_changed_files  \\\n",
       "repo_name                                                                   \n",
       "actiontech/dble                                    1                   58   \n",
       "adjust/android_sdk                                10                  472   \n",
       "alex-the-666/ice_and_fire                         11                 2135   \n",
       "alibaba/datax                                      5                  133   \n",
       "alphawallet/alpha-wallet-android                   3                  195   \n",
       "...                                              ...                  ...   \n",
       "xuxueli/xxl-job                                    3                   29   \n",
       "yuliskov/smarttubenext                             0                   22   \n",
       "zebrunner/carina                                   1                   50   \n",
       "zeromq/jeromq                                      2                   65   \n",
       "zoinkwiz/quest-helper                              3                   64   \n",
       "\n",
       "                                  count_total_changed_lines  \\\n",
       "repo_name                                                     \n",
       "actiontech/dble                                        1513   \n",
       "adjust/android_sdk                                    26664   \n",
       "alex-the-666/ice_and_fire                            137190   \n",
       "alibaba/datax                                         10535   \n",
       "alphawallet/alpha-wallet-android                       6953   \n",
       "...                                                     ...   \n",
       "xuxueli/xxl-job                                         417   \n",
       "yuliskov/smarttubenext                                  669   \n",
       "zebrunner/carina                                       9277   \n",
       "zeromq/jeromq                                          2063   \n",
       "zoinkwiz/quest-helper                                 69438   \n",
       "\n",
       "                                  code_review_metric  \n",
       "repo_name                                             \n",
       "actiontech/dble                                   18  \n",
       "adjust/android_sdk                                13  \n",
       "alex-the-666/ice_and_fire                         11  \n",
       "alibaba/datax                                      5  \n",
       "alphawallet/alpha-wallet-android                  13  \n",
       "...                                              ...  \n",
       "xuxueli/xxl-job                                    3  \n",
       "yuliskov/smarttubenext                             0  \n",
       "zebrunner/carina                                   1  \n",
       "zeromq/jeromq                                      2  \n",
       "zoinkwiz/quest-helper                             13  \n",
       "\n",
       "[303 rows x 7 columns]"
      ]
     },
     "execution_count": 25,
     "metadata": {},
     "output_type": "execute_result"
    }
   ],
   "source": [
    "df_combined[df_combined[\"code_review_metric\"] < 20]"
   ]
  },
  {
   "cell_type": "code",
   "execution_count": 28,
   "id": "be3bd6c5",
   "metadata": {},
   "outputs": [],
   "source": [
    "df_combined.loc[df_combined['count_all_reviews'] > 73, 'reviews_rate'] = \"Very High\"\n",
    "df_combined.loc[df_combined['count_all_reviews'] <= 73, 'reviews_rate'] = \"High\"\n",
    "df_combined.loc[df_combined['count_all_reviews'] <= 50, 'reviews_rate'] = \"Moderate\"\n",
    "df_combined.loc[df_combined['count_all_reviews'] <= 38, 'reviews_rate'] = \"Low\"\n",
    "\n",
    "df_combined.loc[df_combined['count_all_comments'] > 56.3, 'comments_rate'] = \"Very High\"\n",
    "df_combined.loc[df_combined['count_all_comments'] <= 56.3, 'comments_rate'] = \"High\"\n",
    "df_combined.loc[df_combined['count_all_comments'] <= 38, 'comments_rate'] = \"Moderate\"\n",
    "df_combined.loc[df_combined['count_all_comments'] <= 29, 'comments_rate'] = \"Low\""
   ]
  },
  {
   "cell_type": "code",
   "execution_count": 56,
   "id": "a749825a",
   "metadata": {},
   "outputs": [],
   "source": [
    "df_combined = df_combined.reset_index()"
   ]
  },
  {
   "cell_type": "code",
   "execution_count": 58,
   "id": "54818ed5",
   "metadata": {},
   "outputs": [],
   "source": [
    "df_results = pd.read_csv('data/combined_results.csv')\n",
    "\n",
    "for index, row in df_combined.iterrows():\n",
    "    df_results.loc[df_results['repo_name'] == row['repo_name'], 'cr_reviews'] = row['count_all_reviews']\n",
    "    df_results.loc[df_results['repo_name'] == row['repo_name'], 'cr_comments'] = row['count_all_comments']\n",
    "    df_results.loc[df_results['repo_name'] == row['repo_name'], 'cr_review_comments'] = row['count_all_review_comments']\n",
    "    df_results.loc[df_results['repo_name'] == row['repo_name'], 'cr_changed_files'] = row['count_changed_files']\n",
    "    df_results.loc[df_results['repo_name'] == row['repo_name'], 'cr_changed_lines'] = row['count_total_changed_lines']\n",
    "\n",
    "df_results.to_csv('data/combined_results.csv', index=False)"
   ]
  },
  {
   "cell_type": "code",
   "execution_count": 33,
   "id": "4a2a1935",
   "metadata": {},
   "outputs": [
    {
     "data": {
      "text/html": [
       "<div>\n",
       "<style scoped>\n",
       "    .dataframe tbody tr th:only-of-type {\n",
       "        vertical-align: middle;\n",
       "    }\n",
       "\n",
       "    .dataframe tbody tr th {\n",
       "        vertical-align: top;\n",
       "    }\n",
       "\n",
       "    .dataframe thead th {\n",
       "        text-align: right;\n",
       "    }\n",
       "</style>\n",
       "<table border=\"1\" class=\"dataframe\">\n",
       "  <thead>\n",
       "    <tr style=\"text-align: right;\">\n",
       "      <th></th>\n",
       "      <th>repo_name</th>\n",
       "      <th>testing</th>\n",
       "      <th>sat_usage</th>\n",
       "      <th>ci_state</th>\n",
       "    </tr>\n",
       "  </thead>\n",
       "  <tbody>\n",
       "    <tr>\n",
       "      <th>0</th>\n",
       "      <td>1c-syntax/bsl-language-server</td>\n",
       "      <td>NaN</td>\n",
       "      <td>0</td>\n",
       "      <td>0.0</td>\n",
       "    </tr>\n",
       "    <tr>\n",
       "      <th>1</th>\n",
       "      <td>abhpd/hacktoberfest2021</td>\n",
       "      <td>NaN</td>\n",
       "      <td>0</td>\n",
       "      <td>NaN</td>\n",
       "    </tr>\n",
       "    <tr>\n",
       "      <th>2</th>\n",
       "      <td>actiontech/dble</td>\n",
       "      <td>Very Low</td>\n",
       "      <td>1</td>\n",
       "      <td>1.0</td>\n",
       "    </tr>\n",
       "    <tr>\n",
       "      <th>3</th>\n",
       "      <td>activiti/activiti</td>\n",
       "      <td>NaN</td>\n",
       "      <td>1</td>\n",
       "      <td>1.0</td>\n",
       "    </tr>\n",
       "    <tr>\n",
       "      <th>4</th>\n",
       "      <td>adeekshith/watomatic</td>\n",
       "      <td>NaN</td>\n",
       "      <td>0</td>\n",
       "      <td>1.0</td>\n",
       "    </tr>\n",
       "  </tbody>\n",
       "</table>\n",
       "</div>"
      ],
      "text/plain": [
       "                       repo_name   testing  sat_usage  ci_state\n",
       "0  1c-syntax/bsl-language-server       NaN          0       0.0\n",
       "1        abhpd/hacktoberfest2021       NaN          0       NaN\n",
       "2                actiontech/dble  Very Low          1       1.0\n",
       "3              activiti/activiti       NaN          1       1.0\n",
       "4           adeekshith/watomatic       NaN          0       1.0"
      ]
     },
     "execution_count": 33,
     "metadata": {},
     "output_type": "execute_result"
    }
   ],
   "source": [
    "final_df = pd.read_csv('data/combined_results.csv')\n",
    "final_df.head()"
   ]
  },
  {
   "cell_type": "code",
   "execution_count": 34,
   "id": "990605a9",
   "metadata": {},
   "outputs": [],
   "source": [
    "for index, row in df_combined.iterrows():\n",
    "    final_df.loc[final_df['repo_name'] == row['repo_name'], 'reviews'] = row['reviews_rate']\n",
    "    final_df.loc[final_df['repo_name'] == row['repo_name'], 'comments'] = row['comments_rate']"
   ]
  },
  {
   "cell_type": "code",
   "execution_count": 35,
   "id": "8112c062",
   "metadata": {},
   "outputs": [
    {
     "data": {
      "text/plain": [
       "Low          979\n",
       "Moderate     143\n",
       "High         139\n",
       "Very High    137\n",
       "Name: reviews, dtype: int64"
      ]
     },
     "execution_count": 35,
     "metadata": {},
     "output_type": "execute_result"
    }
   ],
   "source": [
    "final_df.reviews.value_counts()"
   ]
  },
  {
   "cell_type": "code",
   "execution_count": 36,
   "id": "822252a3",
   "metadata": {},
   "outputs": [
    {
     "data": {
      "text/plain": [
       "Low          985\n",
       "Very High    140\n",
       "High         137\n",
       "Moderate     136\n",
       "Name: comments, dtype: int64"
      ]
     },
     "execution_count": 36,
     "metadata": {},
     "output_type": "execute_result"
    }
   ],
   "source": [
    "final_df.comments.value_counts()"
   ]
  },
  {
   "cell_type": "code",
   "execution_count": 39,
   "id": "f805e7bd",
   "metadata": {},
   "outputs": [],
   "source": [
    "final_df.to_csv('data/combined_results.csv', index=False)"
   ]
  },
  {
   "cell_type": "code",
   "execution_count": null,
   "id": "d8381247",
   "metadata": {},
   "outputs": [],
   "source": []
  }
 ],
 "metadata": {
  "kernelspec": {
   "display_name": "Python 3",
   "language": "python",
   "name": "python3"
  },
  "language_info": {
   "codemirror_mode": {
    "name": "ipython",
    "version": 3
   },
   "file_extension": ".py",
   "mimetype": "text/x-python",
   "name": "python",
   "nbconvert_exporter": "python",
   "pygments_lexer": "ipython3",
   "version": "3.9.5"
  }
 },
 "nbformat": 4,
 "nbformat_minor": 5
}
